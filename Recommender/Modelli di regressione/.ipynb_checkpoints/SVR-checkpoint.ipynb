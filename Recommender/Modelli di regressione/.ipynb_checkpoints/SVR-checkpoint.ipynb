{
 "cells": [
  {
   "cell_type": "code",
   "execution_count": null,
   "metadata": {
    "executionInfo": {
     "elapsed": 1471,
     "status": "ok",
     "timestamp": 1646914634592,
     "user": {
      "displayName": "Gennaro Castaldo",
      "photoUrl": "https://lh3.googleusercontent.com/a-/AOh14GgaTaEgaOER7nOs-j-fENAI9Q4pDUgTMe2EpmaY3mA=s64",
      "userId": "04055270946788705237"
     },
     "user_tz": -60
    },
    "id": "YY2Q2ql9NFHc"
   },
   "outputs": [],
   "source": [
    "import numpy as np\n",
    "import pandas as pd\n",
    "import matplotlib.pyplot as plt\n",
    "import sklearn.metrics as sk\n",
    "\n",
    "from sklearn.svm import SVR\n",
    "from sklearn.metrics import mean_squared_error\n",
    "from sklearn.model_selection import train_test_split\n",
    "from sklearn.metrics import mean_squared_error\n",
    "from sklearn.metrics import r2_score\n",
    "from sklearn.model_selection import cross_val_score\n",
    "from sklearn.model_selection import KFold\n",
    "from sklearn.multioutput import MultiOutputRegressor\n",
    "from sklearn.preprocessing import StandardScaler"
   ]
  },
  {
   "cell_type": "code",
   "execution_count": null,
   "metadata": {
    "colab": {
     "base_uri": "https://localhost:8080/"
    },
    "executionInfo": {
     "elapsed": 20756,
     "status": "ok",
     "timestamp": 1646914655343,
     "user": {
      "displayName": "Gennaro Castaldo",
      "photoUrl": "https://lh3.googleusercontent.com/a-/AOh14GgaTaEgaOER7nOs-j-fENAI9Q4pDUgTMe2EpmaY3mA=s64",
      "userId": "04055270946788705237"
     },
     "user_tz": -60
    },
    "id": "dePX-aSTWBck",
    "outputId": "71c0258a-1e8e-4b6e-87ba-b97d21582b0b"
   },
   "outputs": [],
   "source": [
    "from google.colab import drive\n",
    "drive.mount('/content/drive')"
   ]
  },
  {
   "cell_type": "code",
   "execution_count": null,
   "metadata": {
    "colab": {
     "base_uri": "https://localhost:8080/"
    },
    "executionInfo": {
     "elapsed": 740,
     "status": "ok",
     "timestamp": 1646914656076,
     "user": {
      "displayName": "Gennaro Castaldo",
      "photoUrl": "https://lh3.googleusercontent.com/a-/AOh14GgaTaEgaOER7nOs-j-fENAI9Q4pDUgTMe2EpmaY3mA=s64",
      "userId": "04055270946788705237"
     },
     "user_tz": -60
    },
    "id": "NUiSuKikSdU_",
    "outputId": "afc28471-f76c-4099-df29-39828e091c5e"
   },
   "outputs": [],
   "source": [
    "df = pd.read_csv('/content/drive/MyDrive/Colab Notebooks/Dati/dataset_taggato.csv', sep = ';')\n",
    "#df = df.head( n=2)\n",
    "#display(df)"
   ]
  },
  {
   "cell_type": "code",
   "execution_count": null,
   "metadata": {
    "executionInfo": {
     "elapsed": 460,
     "status": "ok",
     "timestamp": 1646914656530,
     "user": {
      "displayName": "Gennaro Castaldo",
      "photoUrl": "https://lh3.googleusercontent.com/a-/AOh14GgaTaEgaOER7nOs-j-fENAI9Q4pDUgTMe2EpmaY3mA=s64",
      "userId": "04055270946788705237"
     },
     "user_tz": -60
    },
    "id": "vdktEBrSJoTq"
   },
   "outputs": [],
   "source": [
    "x = df.iloc[: , 1:16]\n",
    "cols = x.columns\n",
    "x[cols] = x[cols].replace(',','.', regex = True)\n",
    "x[cols] = x[cols].apply(pd.to_numeric,downcast='float', errors='raise')\n",
    "x = x.astype('float64')\n",
    "\n",
    "scaler = StandardScaler()\n",
    "\n",
    "x = pd.DataFrame(scaler.fit_transform(x.values), columns=x.columns, index=x.index)\n",
    "\n",
    "#display(x)\n",
    "\n",
    "#print(x.dtypes)"
   ]
  },
  {
   "cell_type": "code",
   "execution_count": null,
   "metadata": {
    "colab": {
     "base_uri": "https://localhost:8080/",
     "height": 261
    },
    "executionInfo": {
     "elapsed": 437,
     "status": "ok",
     "timestamp": 1646914656965,
     "user": {
      "displayName": "Gennaro Castaldo",
      "photoUrl": "https://lh3.googleusercontent.com/a-/AOh14GgaTaEgaOER7nOs-j-fENAI9Q4pDUgTMe2EpmaY3mA=s64",
      "userId": "04055270946788705237"
     },
     "user_tz": -60
    },
    "id": "lPxvoaESPe-o",
    "outputId": "717d4118-bce6-4151-c52a-52659d605aed"
   },
   "outputs": [],
   "source": [
    "from sklearn.preprocessing import MinMaxScaler\n",
    "scaler2 = MinMaxScaler()\n",
    "y = df.iloc[: , 28:30]\n",
    "cols = y.columns\n",
    "y[cols] = y[cols].replace(',','.', regex = True)\n",
    "\n",
    "y[cols] = y[cols].apply(pd.to_numeric,downcast='float', errors='raise')\n",
    "\n",
    "y = pd.DataFrame(scaler2.fit_transform(y.values), columns=y.columns, index=y.index)\n",
    "\n",
    "display(y.head(5))\n",
    "print(y.dtypes)"
   ]
  },
  {
   "cell_type": "code",
   "execution_count": null,
   "metadata": {
    "executionInfo": {
     "elapsed": 13,
     "status": "ok",
     "timestamp": 1646914656966,
     "user": {
      "displayName": "Gennaro Castaldo",
      "photoUrl": "https://lh3.googleusercontent.com/a-/AOh14GgaTaEgaOER7nOs-j-fENAI9Q4pDUgTMe2EpmaY3mA=s64",
      "userId": "04055270946788705237"
     },
     "user_tz": -60
    },
    "id": "BmSpdn6rtH0A"
   },
   "outputs": [],
   "source": [
    "x_train, x_test, y_train, y_test = train_test_split(x, y, test_size = 0.2, random_state = 42)"
   ]
  },
  {
   "cell_type": "markdown",
   "metadata": {
    "id": "4RV2xIlO05au"
   },
   "source": [
    "#Linear"
   ]
  },
  {
   "cell_type": "code",
   "execution_count": null,
   "metadata": {
    "colab": {
     "base_uri": "https://localhost:8080/"
    },
    "executionInfo": {
     "elapsed": 13,
     "status": "ok",
     "timestamp": 1646914656967,
     "user": {
      "displayName": "Gennaro Castaldo",
      "photoUrl": "https://lh3.googleusercontent.com/a-/AOh14GgaTaEgaOER7nOs-j-fENAI9Q4pDUgTMe2EpmaY3mA=s64",
      "userId": "04055270946788705237"
     },
     "user_tz": -60
    },
    "id": "Bo9TtlHeT4JH",
    "outputId": "77516045-c955-4767-e27d-43ce5f0b8bca"
   },
   "outputs": [],
   "source": [
    "#\n",
    "svr = SVR(kernel = 'linear', verbose=1)#.fit(x_train, y_train.values.ravel())\n",
    "print(svr)"
   ]
  },
  {
   "cell_type": "code",
   "execution_count": null,
   "metadata": {
    "colab": {
     "base_uri": "https://localhost:8080/"
    },
    "executionInfo": {
     "elapsed": 345744,
     "status": "ok",
     "timestamp": 1646915002701,
     "user": {
      "displayName": "Gennaro Castaldo",
      "photoUrl": "https://lh3.googleusercontent.com/a-/AOh14GgaTaEgaOER7nOs-j-fENAI9Q4pDUgTMe2EpmaY3mA=s64",
      "userId": "04055270946788705237"
     },
     "user_tz": -60
    },
    "id": "RDJffOBCX8O8",
    "outputId": "ae417b6d-b9b7-4b9f-abe6-1252bf2e646a"
   },
   "outputs": [],
   "source": [
    "# define the direct multioutput wrapper model\n",
    "wrapper = MultiOutputRegressor(svr)\n",
    "\n",
    "cv = KFold(n_splits=10)\n",
    "\n",
    "n_scores = cross_val_score(wrapper, x_test, y_test, scoring='neg_mean_squared_error', cv=cv, verbose = 5, n_jobs=-1)\n",
    "\n",
    "n_scores = np.absolute(n_scores)\n",
    "# summarize performance\n",
    "print('MSE: %.3f ' % (np.mean(n_scores)))"
   ]
  },
  {
   "cell_type": "code",
   "execution_count": null,
   "metadata": {
    "colab": {
     "base_uri": "https://localhost:8080/"
    },
    "executionInfo": {
     "elapsed": 1617477,
     "status": "ok",
     "timestamp": 1646916620163,
     "user": {
      "displayName": "Gennaro Castaldo",
      "photoUrl": "https://lh3.googleusercontent.com/a-/AOh14GgaTaEgaOER7nOs-j-fENAI9Q4pDUgTMe2EpmaY3mA=s64",
      "userId": "04055270946788705237"
     },
     "user_tz": -60
    },
    "id": "p92tmLtPvtvg",
    "outputId": "b6e4f190-fc34-4e88-90c0-7a707c564c07"
   },
   "outputs": [],
   "source": [
    "wrapper.fit(x_train, y_train)\n",
    "r_sq = wrapper.score(x_train, y_train)\n",
    "print('R^2:', r_sq)\n",
    "\n",
    "print('score:', r_sq)\n",
    "\n",
    "adj_r2 = 1 - (1-r_sq)*(len(y_train)-1)/(len(y_train)-x_train.shape[1]-1)\n",
    "print('adjusted R^2:', adj_r2)"
   ]
  },
  {
   "cell_type": "code",
   "execution_count": null,
   "metadata": {
    "executionInfo": {
     "elapsed": 14992,
     "status": "ok",
     "timestamp": 1646916635146,
     "user": {
      "displayName": "Gennaro Castaldo",
      "photoUrl": "https://lh3.googleusercontent.com/a-/AOh14GgaTaEgaOER7nOs-j-fENAI9Q4pDUgTMe2EpmaY3mA=s64",
      "userId": "04055270946788705237"
     },
     "user_tz": -60
    },
    "id": "qQkmMKF9YUF3"
   },
   "outputs": [],
   "source": [
    "y_pred = wrapper.predict(x_test)\n",
    "\n",
    "mse = mean_squared_error(scaler2.inverse_transform(y_test), scaler2.inverse_transform(y_pred), multioutput=\"raw_values\")\n",
    "r2_score = sk.r2_score(y_test, y_pred, multioutput=\"raw_values\")"
   ]
  },
  {
   "cell_type": "code",
   "execution_count": null,
   "metadata": {
    "colab": {
     "base_uri": "https://localhost:8080/"
    },
    "executionInfo": {
     "elapsed": 20,
     "status": "ok",
     "timestamp": 1646916635147,
     "user": {
      "displayName": "Gennaro Castaldo",
      "photoUrl": "https://lh3.googleusercontent.com/a-/AOh14GgaTaEgaOER7nOs-j-fENAI9Q4pDUgTMe2EpmaY3mA=s64",
      "userId": "04055270946788705237"
     },
     "user_tz": -60
    },
    "id": "lnqb60JMZH-H",
    "outputId": "cc2d400b-a8a0-4a2a-855e-bb0ec0b18393"
   },
   "outputs": [],
   "source": [
    "print (\"r2:\", r2_score)\n",
    "print (\"mse: \", mse)"
   ]
  },
  {
   "cell_type": "markdown",
   "metadata": {
    "id": "nRHuBoqCKGxC"
   },
   "source": [
    "# Polinomial Kernel"
   ]
  },
  {
   "cell_type": "code",
   "execution_count": null,
   "metadata": {
    "executionInfo": {
     "elapsed": 11,
     "status": "ok",
     "timestamp": 1646916635148,
     "user": {
      "displayName": "Gennaro Castaldo",
      "photoUrl": "https://lh3.googleusercontent.com/a-/AOh14GgaTaEgaOER7nOs-j-fENAI9Q4pDUgTMe2EpmaY3mA=s64",
      "userId": "04055270946788705237"
     },
     "user_tz": -60
    },
    "id": "XmrxpAOBfLZo"
   },
   "outputs": [],
   "source": [
    "svr = SVR(kernel = 'poly', verbose=1)#.fit(x_train, y_train.values.ravel())"
   ]
  },
  {
   "cell_type": "code",
   "execution_count": null,
   "metadata": {
    "colab": {
     "base_uri": "https://localhost:8080/"
    },
    "executionInfo": {
     "elapsed": 203723,
     "status": "ok",
     "timestamp": 1646916838861,
     "user": {
      "displayName": "Gennaro Castaldo",
      "photoUrl": "https://lh3.googleusercontent.com/a-/AOh14GgaTaEgaOER7nOs-j-fENAI9Q4pDUgTMe2EpmaY3mA=s64",
      "userId": "04055270946788705237"
     },
     "user_tz": -60
    },
    "id": "9Z-mTxvnfXxr",
    "outputId": "60a54719-d3af-468e-a252-519d006e3ca6"
   },
   "outputs": [],
   "source": [
    "# define the direct multioutput wrapper model\n",
    "wrapper = MultiOutputRegressor(svr)\n",
    "\n",
    "cv = KFold(n_splits=10)\n",
    "\n",
    "n_scores = cross_val_score(wrapper, x_test, y_test, scoring='neg_mean_squared_error', cv=cv, verbose = 5, n_jobs=-1)\n",
    "\n",
    "n_scores = np.absolute(n_scores)\n",
    "# summarize performance\n",
    "print('MSE: %.3f ' % (np.mean(n_scores)))"
   ]
  },
  {
   "cell_type": "code",
   "execution_count": null,
   "metadata": {
    "colab": {
     "base_uri": "https://localhost:8080/"
    },
    "executionInfo": {
     "elapsed": 729899,
     "status": "ok",
     "timestamp": 1646917568745,
     "user": {
      "displayName": "Gennaro Castaldo",
      "photoUrl": "https://lh3.googleusercontent.com/a-/AOh14GgaTaEgaOER7nOs-j-fENAI9Q4pDUgTMe2EpmaY3mA=s64",
      "userId": "04055270946788705237"
     },
     "user_tz": -60
    },
    "id": "N_46GpWifiiM",
    "outputId": "0659360f-e083-4b33-9d0d-14668bf369c5"
   },
   "outputs": [],
   "source": [
    "wrapper.fit(x_train, y_train)\n",
    "r_sq = wrapper.score(x_train, y_train)\n",
    "print('R^2:', r_sq)\n",
    "\n",
    "print('score:', r_sq)\n",
    "\n",
    "adj_r2 = 1 - (1-r_sq)*(len(y_train)-1)/(len(y_train)-x_train.shape[1]-1)\n",
    "print('adjusted R^2:', adj_r2)"
   ]
  },
  {
   "cell_type": "code",
   "execution_count": null,
   "metadata": {
    "executionInfo": {
     "elapsed": 15311,
     "status": "ok",
     "timestamp": 1646917584044,
     "user": {
      "displayName": "Gennaro Castaldo",
      "photoUrl": "https://lh3.googleusercontent.com/a-/AOh14GgaTaEgaOER7nOs-j-fENAI9Q4pDUgTMe2EpmaY3mA=s64",
      "userId": "04055270946788705237"
     },
     "user_tz": -60
    },
    "id": "dg-gmS5WfpUG"
   },
   "outputs": [],
   "source": [
    "y_pred = wrapper.predict(x_test)\n",
    "\n",
    "mse = mean_squared_error(scaler2.inverse_transform(y_test), scaler2.inverse_transform(y_pred), multioutput=\"raw_values\")\n",
    "r2_score = sk.r2_score(y_test, y_pred, multioutput=\"raw_values\")"
   ]
  },
  {
   "cell_type": "code",
   "execution_count": null,
   "metadata": {
    "colab": {
     "base_uri": "https://localhost:8080/"
    },
    "executionInfo": {
     "elapsed": 16,
     "status": "ok",
     "timestamp": 1646917584045,
     "user": {
      "displayName": "Gennaro Castaldo",
      "photoUrl": "https://lh3.googleusercontent.com/a-/AOh14GgaTaEgaOER7nOs-j-fENAI9Q4pDUgTMe2EpmaY3mA=s64",
      "userId": "04055270946788705237"
     },
     "user_tz": -60
    },
    "id": "hr0FcEsgfqd7",
    "outputId": "3a4def99-7759-4b5d-c0b7-865a00c5e113"
   },
   "outputs": [],
   "source": [
    "print (\"r2:\", r2_score)\n",
    "print (\"mse: \", mse)"
   ]
  },
  {
   "cell_type": "markdown",
   "metadata": {
    "id": "zCRSsGUTdFz6"
   },
   "source": [
    "# RBF"
   ]
  },
  {
   "cell_type": "code",
   "execution_count": null,
   "metadata": {
    "executionInfo": {
     "elapsed": 12,
     "status": "ok",
     "timestamp": 1646917584046,
     "user": {
      "displayName": "Gennaro Castaldo",
      "photoUrl": "https://lh3.googleusercontent.com/a-/AOh14GgaTaEgaOER7nOs-j-fENAI9Q4pDUgTMe2EpmaY3mA=s64",
      "userId": "04055270946788705237"
     },
     "user_tz": -60
    },
    "id": "b5KGKqdFf4-9"
   },
   "outputs": [],
   "source": [
    "svr = SVR(kernel = 'rbf', verbose=1)#.fit(x_train, y_train.values.ravel())"
   ]
  },
  {
   "cell_type": "code",
   "execution_count": null,
   "metadata": {
    "colab": {
     "base_uri": "https://localhost:8080/"
    },
    "executionInfo": {
     "elapsed": 101141,
     "status": "ok",
     "timestamp": 1646917685176,
     "user": {
      "displayName": "Gennaro Castaldo",
      "photoUrl": "https://lh3.googleusercontent.com/a-/AOh14GgaTaEgaOER7nOs-j-fENAI9Q4pDUgTMe2EpmaY3mA=s64",
      "userId": "04055270946788705237"
     },
     "user_tz": -60
    },
    "id": "jq5LJIU0f4--",
    "outputId": "5ea356f9-e3b3-45f7-919f-465b35f9e01b"
   },
   "outputs": [],
   "source": [
    "# define the direct multioutput wrapper model\n",
    "wrapper = MultiOutputRegressor(svr)\n",
    "\n",
    "cv = KFold(n_splits=10)\n",
    "\n",
    "n_scores = cross_val_score(wrapper, x_test, y_test, scoring='neg_mean_squared_error', cv=cv, verbose = 5, n_jobs=-1)\n",
    "\n",
    "n_scores = np.absolute(n_scores)\n",
    "# summarize performance\n",
    "print('MSE: %.3f ' % (np.mean(n_scores)))"
   ]
  },
  {
   "cell_type": "code",
   "execution_count": null,
   "metadata": {
    "colab": {
     "base_uri": "https://localhost:8080/"
    },
    "executionInfo": {
     "elapsed": 1159344,
     "status": "ok",
     "timestamp": 1646918844504,
     "user": {
      "displayName": "Gennaro Castaldo",
      "photoUrl": "https://lh3.googleusercontent.com/a-/AOh14GgaTaEgaOER7nOs-j-fENAI9Q4pDUgTMe2EpmaY3mA=s64",
      "userId": "04055270946788705237"
     },
     "user_tz": -60
    },
    "id": "bT6yvqBmf4--",
    "outputId": "237e95cc-bff1-4a83-ff6e-e47dea91e1c2"
   },
   "outputs": [],
   "source": [
    "wrapper.fit(x_train, y_train)\n",
    "r_sq = wrapper.score(x_train, y_train)\n",
    "print('R^2:', r_sq)\n",
    "\n",
    "print('score:', r_sq)\n",
    "\n",
    "adj_r2 = 1 - (1-r_sq)*(len(y_train)-1)/(len(y_train)-x_train.shape[1]-1)\n",
    "print('adjusted R^2:', adj_r2)"
   ]
  },
  {
   "cell_type": "code",
   "execution_count": null,
   "metadata": {
    "executionInfo": {
     "elapsed": 35850,
     "status": "ok",
     "timestamp": 1646918880337,
     "user": {
      "displayName": "Gennaro Castaldo",
      "photoUrl": "https://lh3.googleusercontent.com/a-/AOh14GgaTaEgaOER7nOs-j-fENAI9Q4pDUgTMe2EpmaY3mA=s64",
      "userId": "04055270946788705237"
     },
     "user_tz": -60
    },
    "id": "v6uazz2qf4--"
   },
   "outputs": [],
   "source": [
    "y_pred = wrapper.predict(x_test)\n",
    "\n",
    "mse = mean_squared_error(scaler2.inverse_transform(y_test), scaler2.inverse_transform(y_pred), multioutput=\"raw_values\")\n",
    "r2_score = sk.r2_score(y_test, y_pred, multioutput=\"raw_values\")"
   ]
  },
  {
   "cell_type": "code",
   "execution_count": null,
   "metadata": {
    "colab": {
     "base_uri": "https://localhost:8080/"
    },
    "executionInfo": {
     "elapsed": 23,
     "status": "ok",
     "timestamp": 1646918880338,
     "user": {
      "displayName": "Gennaro Castaldo",
      "photoUrl": "https://lh3.googleusercontent.com/a-/AOh14GgaTaEgaOER7nOs-j-fENAI9Q4pDUgTMe2EpmaY3mA=s64",
      "userId": "04055270946788705237"
     },
     "user_tz": -60
    },
    "id": "gBlOqC5Bf4--",
    "outputId": "015574af-096c-4c21-e915-412b5431e3c8"
   },
   "outputs": [],
   "source": [
    "print (\"r2:\", r2_score)\n",
    "print (\"mse: \", mse)"
   ]
  },
  {
   "cell_type": "markdown",
   "metadata": {
    "id": "nFJ86MmWf4Dg"
   },
   "source": [
    "# Sigmoid"
   ]
  },
  {
   "cell_type": "code",
   "execution_count": null,
   "metadata": {
    "executionInfo": {
     "elapsed": 12,
     "status": "ok",
     "timestamp": 1646918880339,
     "user": {
      "displayName": "Gennaro Castaldo",
      "photoUrl": "https://lh3.googleusercontent.com/a-/AOh14GgaTaEgaOER7nOs-j-fENAI9Q4pDUgTMe2EpmaY3mA=s64",
      "userId": "04055270946788705237"
     },
     "user_tz": -60
    },
    "id": "fpOr0b8ngDKr"
   },
   "outputs": [],
   "source": [
    "svr = SVR(kernel = 'sigmoid', verbose=1)#.fit(x_train, y_train.values.ravel())"
   ]
  },
  {
   "cell_type": "code",
   "execution_count": null,
   "metadata": {
    "colab": {
     "base_uri": "https://localhost:8080/"
    },
    "executionInfo": {
     "elapsed": 169935,
     "status": "ok",
     "timestamp": 1646919050263,
     "user": {
      "displayName": "Gennaro Castaldo",
      "photoUrl": "https://lh3.googleusercontent.com/a-/AOh14GgaTaEgaOER7nOs-j-fENAI9Q4pDUgTMe2EpmaY3mA=s64",
      "userId": "04055270946788705237"
     },
     "user_tz": -60
    },
    "id": "EnuMKrs4gDKs",
    "outputId": "accc579a-85bf-41e5-fb75-5b92707a1368"
   },
   "outputs": [],
   "source": [
    "# define the direct multioutput wrapper model\n",
    "wrapper = MultiOutputRegressor(svr)\n",
    "\n",
    "cv = KFold(n_splits=10)\n",
    "\n",
    "n_scores = cross_val_score(wrapper, x_test, y_test, scoring='neg_mean_squared_error', cv=cv, verbose = 5, n_jobs=-1)\n",
    "\n",
    "n_scores = np.absolute(n_scores)\n",
    "# summarize performance\n",
    "print('MSE: %.3f ' % (np.mean(n_scores)))"
   ]
  },
  {
   "cell_type": "code",
   "execution_count": null,
   "metadata": {
    "colab": {
     "base_uri": "https://localhost:8080/"
    },
    "executionInfo": {
     "elapsed": 1275018,
     "status": "ok",
     "timestamp": 1646920325264,
     "user": {
      "displayName": "Gennaro Castaldo",
      "photoUrl": "https://lh3.googleusercontent.com/a-/AOh14GgaTaEgaOER7nOs-j-fENAI9Q4pDUgTMe2EpmaY3mA=s64",
      "userId": "04055270946788705237"
     },
     "user_tz": -60
    },
    "id": "SfhZn4szgDKs",
    "outputId": "5a1f4443-ee0f-4c75-9e75-702d129697bf"
   },
   "outputs": [],
   "source": [
    "wrapper.fit(x_train, y_train)\n",
    "r_sq = wrapper.score(x_train, y_train)\n",
    "print('R^2:', r_sq)\n",
    "\n",
    "print('score:', r_sq)\n",
    "\n",
    "adj_r2 = 1 - (1-r_sq)*(len(y_train)-1)/(len(y_train)-x_train.shape[1]-1)\n",
    "print('adjusted R^2:', adj_r2)"
   ]
  },
  {
   "cell_type": "code",
   "execution_count": null,
   "metadata": {
    "executionInfo": {
     "elapsed": 71707,
     "status": "ok",
     "timestamp": 1646920396952,
     "user": {
      "displayName": "Gennaro Castaldo",
      "photoUrl": "https://lh3.googleusercontent.com/a-/AOh14GgaTaEgaOER7nOs-j-fENAI9Q4pDUgTMe2EpmaY3mA=s64",
      "userId": "04055270946788705237"
     },
     "user_tz": -60
    },
    "id": "H3IV6RjTgDKs"
   },
   "outputs": [],
   "source": [
    "y_pred = wrapper.predict(x_test)\n",
    "\n",
    "mse = mean_squared_error(scaler2.inverse_transform(y_test), scaler2.inverse_transform(y_pred), multioutput=\"raw_values\")\n",
    "r2_score = sk.r2_score(y_test, y_pred, multioutput=\"raw_values\")"
   ]
  },
  {
   "cell_type": "code",
   "execution_count": null,
   "metadata": {
    "colab": {
     "base_uri": "https://localhost:8080/"
    },
    "executionInfo": {
     "elapsed": 24,
     "status": "ok",
     "timestamp": 1646920396954,
     "user": {
      "displayName": "Gennaro Castaldo",
      "photoUrl": "https://lh3.googleusercontent.com/a-/AOh14GgaTaEgaOER7nOs-j-fENAI9Q4pDUgTMe2EpmaY3mA=s64",
      "userId": "04055270946788705237"
     },
     "user_tz": -60
    },
    "id": "NI4KipCsgDKt",
    "outputId": "d5524acd-e1ec-4682-ece8-23e717e9c994"
   },
   "outputs": [],
   "source": [
    "print (\"r2:\", r2_score)\n",
    "print (\"mse: \", mse)"
   ]
  }
 ],
 "metadata": {
  "colab": {
   "authorship_tag": "ABX9TyO1hYIwmXfYOGGWac0vsv6z",
   "collapsed_sections": [],
   "name": "SVR taggati scalati.ipynb",
   "provenance": []
  },
  "kernelspec": {
   "display_name": "Python 3",
   "language": "python",
   "name": "python3"
  },
  "language_info": {
   "codemirror_mode": {
    "name": "ipython",
    "version": 3
   },
   "file_extension": ".py",
   "mimetype": "text/x-python",
   "name": "python",
   "nbconvert_exporter": "python",
   "pygments_lexer": "ipython3",
   "version": "3.8.5"
  }
 },
 "nbformat": 4,
 "nbformat_minor": 1
}
