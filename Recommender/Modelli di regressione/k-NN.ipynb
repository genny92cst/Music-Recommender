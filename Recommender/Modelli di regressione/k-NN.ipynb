{
 "cells": [
  {
   "cell_type": "code",
   "execution_count": null,
   "metadata": {
    "colab": {
     "base_uri": "https://localhost:8080/"
    },
    "executionInfo": {
     "elapsed": 18294,
     "status": "ok",
     "timestamp": 1647361430323,
     "user": {
      "displayName": "Gennaro Castaldo",
      "photoUrl": "https://lh3.googleusercontent.com/a-/AOh14GgaTaEgaOER7nOs-j-fENAI9Q4pDUgTMe2EpmaY3mA=s64",
      "userId": "04055270946788705237"
     },
     "user_tz": -60
    },
    "id": "IOtJRNjekCI6",
    "outputId": "5c1fe4e4-a7e3-4d81-b394-c1429246330e"
   },
   "outputs": [],
   "source": [
    "from google.colab import drive\n",
    "drive.mount('/content/drive')"
   ]
  },
  {
   "cell_type": "code",
   "execution_count": null,
   "metadata": {
    "id": "YY2Q2ql9NFHc"
   },
   "outputs": [],
   "source": [
    "import numpy as np\n",
    "import pandas as pd\n",
    "import matplotlib.pyplot as plt\n",
    "\n",
    "from sklearn.model_selection import train_test_split\n",
    "from sklearn.model_selection import cross_val_score\n",
    "from sklearn.model_selection import KFold\n",
    "import sklearn.metrics as sk\n",
    "from sklearn.metrics import mean_squared_error\n",
    "from sklearn.neighbors import KNeighborsRegressor\n",
    "from sklearn.preprocessing import StandardScaler\n",
    "from sklearn.metrics import r2_score\n",
    "from sklearn.model_selection import KFold"
   ]
  },
  {
   "cell_type": "code",
   "execution_count": null,
   "metadata": {
    "colab": {
     "base_uri": "https://localhost:8080/"
    },
    "executionInfo": {
     "elapsed": 1505,
     "status": "ok",
     "timestamp": 1647361433557,
     "user": {
      "displayName": "Gennaro Castaldo",
      "photoUrl": "https://lh3.googleusercontent.com/a-/AOh14GgaTaEgaOER7nOs-j-fENAI9Q4pDUgTMe2EpmaY3mA=s64",
      "userId": "04055270946788705237"
     },
     "user_tz": -60
    },
    "id": "NUiSuKikSdU_",
    "outputId": "0a255c67-402f-4b41-90a7-6ce5c8bab53e"
   },
   "outputs": [],
   "source": [
    "df = pd.read_csv('/content/drive/MyDrive/Colab Notebooks/Dati/dataset_taggato.csv', sep = ';')\n",
    "#df = df.head( n=2)\n",
    "#display(df)"
   ]
  },
  {
   "cell_type": "code",
   "execution_count": null,
   "metadata": {
    "id": "naZegzsyKfbu"
   },
   "outputs": [],
   "source": [
    "scaler = StandardScaler()"
   ]
  },
  {
   "cell_type": "code",
   "execution_count": null,
   "metadata": {
    "id": "vdktEBrSJoTq"
   },
   "outputs": [],
   "source": [
    "x = df.iloc[: , 1:16]\n",
    "\n",
    "cols = x.columns\n",
    "x[cols] = x[cols].replace(',','.', regex = True)\n",
    "x[cols] = x[cols].apply(pd.to_numeric,downcast='float', errors='raise')\n",
    "x = x.astype('float64')\n",
    "\n",
    "x = pd.DataFrame(scaler.fit_transform(x.values), columns=x.columns, index=x.index)\n",
    "\n",
    "#display(x)\n",
    "\n",
    "#print(x.dtypes)"
   ]
  },
  {
   "cell_type": "code",
   "execution_count": null,
   "metadata": {
    "id": "lPxvoaESPe-o"
   },
   "outputs": [],
   "source": [
    "from sklearn.preprocessing import MinMaxScaler\n",
    "scaler2 = MinMaxScaler()\n",
    "y = df.iloc[: , 28:30]\n",
    "cols = y.columns\n",
    "y[cols] = y[cols].replace(',','.', regex = True)\n",
    "\n",
    "y[cols] = y[cols].apply(pd.to_numeric,downcast='float', errors='raise')\n",
    "\n",
    "y = pd.DataFrame(scaler2.fit_transform(y.values), columns=y.columns, index=y.index)\n",
    "\n",
    "#display(y.head(5))\n",
    "#print(y.dtypes)"
   ]
  },
  {
   "cell_type": "code",
   "execution_count": null,
   "metadata": {
    "id": "BmSpdn6rtH0A"
   },
   "outputs": [],
   "source": [
    "x_train, x_test, y_train, y_test = train_test_split(x, y, test_size = 0.2, random_state = 42)"
   ]
  },
  {
   "cell_type": "code",
   "execution_count": null,
   "metadata": {
    "id": "GPZHrOiFDaOO"
   },
   "outputs": [],
   "source": [
    "#k_range = range(1, 30)\n",
    "#k_scores = []\n",
    "#cv = KFold(n_splits=10)\n",
    "#for k in k_range:\n",
    "#  knn = KNeighborsRegressor(n_neighbors= k)\n",
    "#  scores = cross_val_score(knn, x_train, y_train , cv = cv, scoring='neg_mean_squared_error', verbose = 5, n_jobs=-1)\n",
    "#  k_scores.append(scores.mean())"
   ]
  },
  {
   "cell_type": "code",
   "execution_count": null,
   "metadata": {
    "colab": {
     "base_uri": "https://localhost:8080/"
    },
    "executionInfo": {
     "elapsed": 15,
     "status": "ok",
     "timestamp": 1647361434494,
     "user": {
      "displayName": "Gennaro Castaldo",
      "photoUrl": "https://lh3.googleusercontent.com/a-/AOh14GgaTaEgaOER7nOs-j-fENAI9Q4pDUgTMe2EpmaY3mA=s64",
      "userId": "04055270946788705237"
     },
     "user_tz": -60
    },
    "id": "C3Q8D4T_QC1_",
    "outputId": "b4c532e1-c255-47a7-d780-816d628828f4"
   },
   "outputs": [],
   "source": [
    "model = KNeighborsRegressor(n_neighbors = 30)\n",
    "model.fit(x_train, y_train)"
   ]
  },
  {
   "cell_type": "code",
   "execution_count": null,
   "metadata": {
    "colab": {
     "base_uri": "https://localhost:8080/"
    },
    "executionInfo": {
     "elapsed": 93397,
     "status": "ok",
     "timestamp": 1647361527880,
     "user": {
      "displayName": "Gennaro Castaldo",
      "photoUrl": "https://lh3.googleusercontent.com/a-/AOh14GgaTaEgaOER7nOs-j-fENAI9Q4pDUgTMe2EpmaY3mA=s64",
      "userId": "04055270946788705237"
     },
     "user_tz": -60
    },
    "id": "W8N9grp6QkvA",
    "outputId": "d675f6eb-aa7c-496b-c514-bb0a7f7451b4"
   },
   "outputs": [],
   "source": [
    "r_sq = model.score(x_train, y_train)\n",
    "print('R^2:', r_sq)\n",
    "\n",
    "\n",
    "print('score:', r_sq)\n",
    "\n",
    "adj_r2 = 1 - (1-r_sq)*(len(y_train)-1)/(len(y_train)-x_train.shape[1]-1)\n",
    "print('adjusted R^2:', adj_r2)"
   ]
  },
  {
   "cell_type": "code",
   "execution_count": null,
   "metadata": {
    "id": "eHsFuR7OQyx1"
   },
   "outputs": [],
   "source": [
    "y_pred = model.predict(x_test)\n",
    "mse = mean_squared_error(scaler2.inverse_transform(y_test), scaler2.inverse_transform(y_pred), multioutput = \"raw_values\")\n",
    "r2_scores = sk.r2_score(y_test, y_pred, multioutput = \"raw_values\")"
   ]
  },
  {
   "cell_type": "code",
   "execution_count": null,
   "metadata": {
    "colab": {
     "base_uri": "https://localhost:8080/"
    },
    "executionInfo": {
     "elapsed": 12,
     "status": "ok",
     "timestamp": 1647361543646,
     "user": {
      "displayName": "Gennaro Castaldo",
      "photoUrl": "https://lh3.googleusercontent.com/a-/AOh14GgaTaEgaOER7nOs-j-fENAI9Q4pDUgTMe2EpmaY3mA=s64",
      "userId": "04055270946788705237"
     },
     "user_tz": -60
    },
    "id": "jRkmRM27Qzgq",
    "outputId": "ae396c0c-94f4-4204-ad61-3182d1b577b2"
   },
   "outputs": [],
   "source": [
    "print (\"r2:\", r2_scores)\n",
    "print (\"mse: \", mse)"
   ]
  },
  {
   "cell_type": "code",
   "execution_count": null,
   "metadata": {
    "colab": {
     "base_uri": "https://localhost:8080/"
    },
    "executionInfo": {
     "elapsed": 14746,
     "status": "ok",
     "timestamp": 1647361558384,
     "user": {
      "displayName": "Gennaro Castaldo",
      "photoUrl": "https://lh3.googleusercontent.com/a-/AOh14GgaTaEgaOER7nOs-j-fENAI9Q4pDUgTMe2EpmaY3mA=s64",
      "userId": "04055270946788705237"
     },
     "user_tz": -60
    },
    "id": "Ax4VTxosSxZZ",
    "outputId": "d8763b18-1988-4f44-a9c3-c74fa07e5364"
   },
   "outputs": [],
   "source": [
    "import pickle\n",
    "filename = '/content/drive/MyDrive/Colab Notebooks/k_nn_model.sav'\n",
    "pickle.dump(model, open(filename, 'wb'))\n",
    " \n",
    "loaded_model = pickle.load(open(filename, 'rb'))\n",
    "loaded_model.predict(x_test)"
   ]
  },
  {
   "cell_type": "code",
   "execution_count": null,
   "metadata": {
    "id": "i4YQpEzWc8tW"
   },
   "outputs": [],
   "source": [
    "#!kill -9 -1"
   ]
  }
 ],
 "metadata": {
  "colab": {
   "authorship_tag": "ABX9TyNnvSW4/03TjIr4NwBkZPQZ",
   "collapsed_sections": [],
   "name": "k-NN Taggati scalati.ipynb",
   "provenance": [
    {
     "file_id": "12IBc0gMWQFblUQITiHJkMfja1-mmkg3K",
     "timestamp": 1645200288978
    }
   ]
  },
  "kernelspec": {
   "display_name": "Python 3",
   "language": "python",
   "name": "python3"
  },
  "language_info": {
   "codemirror_mode": {
    "name": "ipython",
    "version": 3
   },
   "file_extension": ".py",
   "mimetype": "text/x-python",
   "name": "python",
   "nbconvert_exporter": "python",
   "pygments_lexer": "ipython3",
   "version": "3.8.5"
  },
  "widgets": {
   "application/vnd.jupyter.widget-state+json": {
    "128299f74a324fabb384e0ee0722d1f8": {
     "model_module": "@jupyter-widgets/controls",
     "model_module_version": "1.5.0",
     "model_name": "DropdownModel",
     "state": {
      "_dom_classes": [],
      "_model_module": "@jupyter-widgets/controls",
      "_model_module_version": "1.5.0",
      "_model_name": "DropdownModel",
      "_options_labels": [
       "valence_tags",
       "arousal_tags"
      ],
      "_view_count": null,
      "_view_module": "@jupyter-widgets/controls",
      "_view_module_version": "1.5.0",
      "_view_name": "DropdownView",
      "description": "Select Label:",
      "description_tooltip": null,
      "disabled": false,
      "index": 1,
      "layout": "IPY_MODEL_ae4b470db8fd4d6d9bda20a4e4880150",
      "style": "IPY_MODEL_bae542e151c845a1a524ff1a62eedae9"
     }
    },
    "ae4b470db8fd4d6d9bda20a4e4880150": {
     "model_module": "@jupyter-widgets/base",
     "model_module_version": "1.2.0",
     "model_name": "LayoutModel",
     "state": {
      "_model_module": "@jupyter-widgets/base",
      "_model_module_version": "1.2.0",
      "_model_name": "LayoutModel",
      "_view_count": null,
      "_view_module": "@jupyter-widgets/base",
      "_view_module_version": "1.2.0",
      "_view_name": "LayoutView",
      "align_content": null,
      "align_items": null,
      "align_self": null,
      "border": null,
      "bottom": null,
      "display": null,
      "flex": null,
      "flex_flow": null,
      "grid_area": null,
      "grid_auto_columns": null,
      "grid_auto_flow": null,
      "grid_auto_rows": null,
      "grid_column": null,
      "grid_gap": null,
      "grid_row": null,
      "grid_template_areas": null,
      "grid_template_columns": null,
      "grid_template_rows": null,
      "height": null,
      "justify_content": null,
      "justify_items": null,
      "left": null,
      "margin": null,
      "max_height": null,
      "max_width": null,
      "min_height": null,
      "min_width": null,
      "object_fit": null,
      "object_position": null,
      "order": null,
      "overflow": null,
      "overflow_x": null,
      "overflow_y": null,
      "padding": null,
      "right": null,
      "top": null,
      "visibility": null,
      "width": null
     }
    },
    "bae542e151c845a1a524ff1a62eedae9": {
     "model_module": "@jupyter-widgets/controls",
     "model_module_version": "1.5.0",
     "model_name": "DescriptionStyleModel",
     "state": {
      "_model_module": "@jupyter-widgets/controls",
      "_model_module_version": "1.5.0",
      "_model_name": "DescriptionStyleModel",
      "_view_count": null,
      "_view_module": "@jupyter-widgets/base",
      "_view_module_version": "1.2.0",
      "_view_name": "StyleView",
      "description_width": ""
     }
    }
   }
  }
 },
 "nbformat": 4,
 "nbformat_minor": 1
}
