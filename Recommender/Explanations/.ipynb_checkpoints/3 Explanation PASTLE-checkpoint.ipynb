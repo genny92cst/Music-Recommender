{
 "cells": [
  {
   "cell_type": "code",
   "execution_count": null,
   "metadata": {
    "colab": {
     "base_uri": "https://localhost:8080/"
    },
    "executionInfo": {
     "elapsed": 13,
     "status": "ok",
     "timestamp": 1650907580423,
     "user": {
      "displayName": "Gennaro Castaldo",
      "userId": "04055270946788705237"
     },
     "user_tz": -120
    },
    "id": "mmGII0gAQOBu",
    "outputId": "df298747-1661-41a2-e0a6-49d142d4347d"
   },
   "outputs": [],
   "source": [
    "%%writefile requirements.txt\n",
    "lime\n",
    "keras\n",
    "pandas\n",
    "tensorflow"
   ]
  },
  {
   "cell_type": "code",
   "execution_count": null,
   "metadata": {
    "colab": {
     "base_uri": "https://localhost:8080/"
    },
    "executionInfo": {
     "elapsed": 1582,
     "status": "ok",
     "timestamp": 1651066374922,
     "user": {
      "displayName": "Gennaro Castaldo",
      "userId": "04055270946788705237"
     },
     "user_tz": -120
    },
    "id": "xgMMG0h8QXl6",
    "outputId": "98cf9ebf-8dfb-45fb-cf63-30e4dd8baa8c"
   },
   "outputs": [],
   "source": [
    "!pip install -r requirements.txt"
   ]
  },
  {
   "cell_type": "code",
   "execution_count": null,
   "metadata": {
    "id": "Oi0l5IvlIdyy"
   },
   "outputs": [],
   "source": [
    "pip install scikeras[tensorflow]"
   ]
  },
  {
   "cell_type": "code",
   "execution_count": null,
   "metadata": {
    "colab": {
     "base_uri": "https://localhost:8080/"
    },
    "executionInfo": {
     "elapsed": 2267,
     "status": "ok",
     "timestamp": 1651067024150,
     "user": {
      "displayName": "Gennaro Castaldo",
      "userId": "04055270946788705237"
     },
     "user_tz": -120
    },
    "id": "dePX-aSTWBck",
    "outputId": "203bfcdf-e1b9-4231-b3c2-faeba3093333"
   },
   "outputs": [],
   "source": [
    "from google.colab import drive\n",
    "drive.mount('/content/drive')"
   ]
  },
  {
   "cell_type": "code",
   "execution_count": null,
   "metadata": {
    "id": "YY2Q2ql9NFHc"
   },
   "outputs": [],
   "source": [
    "import numpy as np\n",
    "import pandas as pd\n",
    "import matplotlib.pyplot as plt\n",
    "import sklearn.metrics as sk\n",
    "from sklearn.model_selection import train_test_split\n",
    "from sklearn.model_selection import KFold\n",
    "from sklearn.preprocessing import StandardScaler\n",
    "from sklearn.linear_model import LinearRegression"
   ]
  },
  {
   "cell_type": "code",
   "execution_count": null,
   "metadata": {
    "colab": {
     "base_uri": "https://localhost:8080/"
    },
    "executionInfo": {
     "elapsed": 1662,
     "status": "ok",
     "timestamp": 1651067025804,
     "user": {
      "displayName": "Gennaro Castaldo",
      "userId": "04055270946788705237"
     },
     "user_tz": -120
    },
    "id": "BgCG-V-GkLQZ",
    "outputId": "0620194b-556f-455b-9723-4c901afb56e4"
   },
   "outputs": [],
   "source": [
    "df = pd.read_csv('/content/drive/MyDrive/Colab Notebooks/Dati/dataset_taggato.csv', sep = ';')"
   ]
  },
  {
   "cell_type": "code",
   "execution_count": null,
   "metadata": {
    "colab": {
     "base_uri": "https://localhost:8080/"
    },
    "executionInfo": {
     "elapsed": 276,
     "status": "ok",
     "timestamp": 1651066410421,
     "user": {
      "displayName": "Gennaro Castaldo",
      "userId": "04055270946788705237"
     },
     "user_tz": -120
    },
    "id": "5BSNvBF6OdJj",
    "outputId": "c30256a1-7aba-4e1c-d73b-4e636da9a84a"
   },
   "outputs": [],
   "source": [
    "print(df.head(1))"
   ]
  },
  {
   "cell_type": "code",
   "execution_count": null,
   "metadata": {
    "id": "vdktEBrSJoTq"
   },
   "outputs": [],
   "source": [
    "x = df.iloc[: , 1:16]\n",
    "cols = x.columns\n",
    "x[cols] = x[cols].replace(',','.', regex = True)\n",
    "x[cols] = x[cols].apply(pd.to_numeric,downcast='float', errors='raise')\n",
    "x = x.astype('float64')\n",
    "\n",
    "scaler = StandardScaler()\n",
    "\n",
    "x = pd.DataFrame(scaler.fit_transform(x.values), columns=x.columns, index=x.index)"
   ]
  },
  {
   "cell_type": "code",
   "execution_count": null,
   "metadata": {
    "colab": {
     "base_uri": "https://localhost:8080/"
    },
    "executionInfo": {
     "elapsed": 8,
     "status": "ok",
     "timestamp": 1650907640702,
     "user": {
      "displayName": "Gennaro Castaldo",
      "userId": "04055270946788705237"
     },
     "user_tz": -120
    },
    "id": "Tlx61K_Esur4",
    "outputId": "0a60635f-942c-4078-8a78-8290a03eafef"
   },
   "outputs": [],
   "source": [
    "ids = df[\"spotify_id\"]"
   ]
  },
  {
   "cell_type": "code",
   "execution_count": null,
   "metadata": {
    "id": "kWUHEUuXsjY5"
   },
   "outputs": [],
   "source": [
    "x.insert(0, \"spotify_id\", ids.values)"
   ]
  },
  {
   "cell_type": "code",
   "execution_count": null,
   "metadata": {
    "colab": {
     "base_uri": "https://localhost:8080/"
    },
    "executionInfo": {
     "elapsed": 450,
     "status": "ok",
     "timestamp": 1650907650404,
     "user": {
      "displayName": "Gennaro Castaldo",
      "userId": "04055270946788705237"
     },
     "user_tz": -120
    },
    "id": "lPxvoaESPe-o",
    "outputId": "ecea26a7-ebab-4c78-ef71-8a003c1ddb73"
   },
   "outputs": [],
   "source": [
    "from sklearn.preprocessing import MinMaxScaler\n",
    "scaler2 = MinMaxScaler()\n",
    "y = df.iloc[: , 28:30]\n",
    "cols = y.columns\n",
    "y[cols] = y[cols].replace(',','.', regex = True)\n",
    "\n",
    "y[cols] = y[cols].apply(pd.to_numeric,downcast='float', errors='raise')\n",
    "\n",
    "y = pd.DataFrame(scaler2.fit_transform(y.values), columns=y.columns, index=y.index)\n",
    "print(y.head(5))"
   ]
  },
  {
   "cell_type": "code",
   "execution_count": null,
   "metadata": {
    "id": "BmSpdn6rtH0A"
   },
   "outputs": [],
   "source": [
    "x_train, x_test, y_train, y_test = train_test_split(x, y, test_size = 0.2, random_state = 42)"
   ]
  },
  {
   "cell_type": "code",
   "execution_count": null,
   "metadata": {
    "id": "MP1yCGdO9ovH"
   },
   "outputs": [],
   "source": [
    "import tensorflow as tf\n",
    "from tensorflow import keras\n",
    "model = keras.models.load_model(\"/content/drive/MyDrive/Colab Notebooks/nn_model\")"
   ]
  },
  {
   "cell_type": "code",
   "execution_count": null,
   "metadata": {
    "colab": {
     "base_uri": "https://localhost:8080/",
     "height": 323
    },
    "executionInfo": {
     "elapsed": 824,
     "status": "error",
     "timestamp": 1650907685354,
     "user": {
      "displayName": "Gennaro Castaldo",
      "userId": "04055270946788705237"
     },
     "user_tz": -120
    },
    "id": "C1M_FgOuLxaX",
    "outputId": "21afeb15-390b-4161-b8b9-d813fe5de241"
   },
   "outputs": [],
   "source": [
    "predictions = model.predict(x_test)"
   ]
  },
  {
   "cell_type": "code",
   "execution_count": null,
   "metadata": {
    "colab": {
     "background_save": true,
     "base_uri": "https://localhost:8080/",
     "height": 208
    },
    "executionInfo": {
     "elapsed": 9,
     "status": "error",
     "timestamp": 1650907688058,
     "user": {
      "displayName": "Gennaro Castaldo",
      "userId": "04055270946788705237"
     },
     "user_tz": -120
    },
    "id": "peAetMz5L31g",
    "outputId": "f3f3e0bc-30cb-4130-d03c-6ea2aeb63c9e"
   },
   "outputs": [],
   "source": [
    "l = 2000\n",
    "print(predictions[l])\n",
    "print(y_test.iloc[l])"
   ]
  },
  {
   "cell_type": "code",
   "execution_count": null,
   "metadata": {
    "id": "ZbaAL4tEIBfL"
   },
   "outputs": [],
   "source": [
    "def get_predict_fn(idx):\n",
    "  def predict_fn(x_test):\n",
    "    return model.predict(x_test)[:, idx]\n",
    "  return predict_fn"
   ]
  },
  {
   "cell_type": "markdown",
   "metadata": {
    "id": "ZzQhcnTOJVu5"
   },
   "source": [
    "#PASTLE"
   ]
  },
  {
   "cell_type": "code",
   "execution_count": null,
   "metadata": {
    "id": "o0H0w6mlKWvM"
   },
   "outputs": [],
   "source": [
    "import sys\n",
    "sys.path.append('/content/drive/MyDrive/Colab Notebooks/PASTLE')\n",
    "import pivots_generators\n",
    "import explainers\n",
    "import explanations"
   ]
  },
  {
   "cell_type": "code",
   "execution_count": null,
   "metadata": {
    "id": "9wYEK5-cJYp4"
   },
   "outputs": [],
   "source": [
    "df = pd.read_csv('/content/drive/MyDrive/Colab Notebooks/Dati/dataset_taggato.csv', sep=',')\n",
    "df = df.drop('index', axis=1)\n",
    "x = df.iloc[:, 0:15].to_numpy()\n",
    "y = df.iloc[:, 15:17].to_numpy()\n",
    "\n",
    "x_train, x_test, y_train, y_test = train_test_split(x, y, test_size=0.2, random_state=42)\n",
    "\n",
    "proximity_fns = {\n",
    "    'p1': (lambda xx: 1 / (1 + xx)),\n",
    "    'p2': (lambda xx: np.exp(-xx)),\n",
    "    'p3': (lambda xx: -xx),\n",
    "    'p4': (lambda xx: 1 - (xx - np.min(xx, axis=0)) / (np.max(xx, axis=0) - np.min(xx, axis=0))),\n",
    "    'p5': (lambda xx: np.max(xx, axis=0) - xx),\n",
    "}\n",
    "\n",
    "feature_names = df.columns[:-2].tolist()\n",
    "class_names = ['valence_tags', 'arousal_tags']\n",
    "dataset = df.iloc[:, :-2].to_numpy()\n",
    "labels = df.iloc[:, 15:17].to_numpy()\n",
    "\n",
    "proximity_fn = proximity_fns['p1']\n",
    "\n",
    "n_pivots = 25\n",
    "n_features = x_train.shape[1]\n",
    "n_samples = 150\n",
    "distance_fn = 'euclidean'\n",
    "pivots_generator = pivots_generators.Random(x_train, n_pivots)"
   ]
  },
  {
   "cell_type": "markdown",
   "metadata": {
    "id": "xNj47iVSCc25"
   },
   "source": [
    "#Definizione numero di pivot\n"
   ]
  },
  {
   "cell_type": "code",
   "execution_count": null,
   "metadata": {
    "id": "79EnLWoVIyVe"
   },
   "outputs": [],
   "source": [
    "punteggi = []\n",
    "kernel_width = 0.71\n",
    "n_samp = 100\n",
    "n_pivots = 25\n",
    "pivots_generator = pivots_generators.Random(x_train, n_pivots)\n",
    "\n",
    "explainer = explainers.TabularExplainer(x_train, cluster_model=pivots_generator, mode=\"regression\", feature_names=feature_names, \n",
    "                                        class_names=class_names, discretize_continuous=False, sample_around_instance=True, \n",
    "                                        verbose=False, proximity_function=proximity_fn, kernel_width = kernel_width)\n",
    "\n",
    "for k in range (5):\n",
    "  temp1 = []\n",
    "  temp2 = []\n",
    "  exp1 = explainer.explain_instance(x_test[l],\n",
    "                                 predict_fn = get_predict_fn(0),\n",
    "                                 top_labels=1,\n",
    "                                 num_pivots=n_pivots,\n",
    "                                 num_samples=n_samp,\n",
    "                                 verbose=False,\n",
    "                                 distance_metric=distance_fn,\n",
    "                                 model_regressor=LinearRegression())\n",
    "  exp2 = explainer.explain_instance(x_test[l],\n",
    "                                 predict_fn = get_predict_fn(1),\n",
    "                                 top_labels=1,\n",
    "                                 num_pivots=n_pivots,\n",
    "                                 num_samples=n_samp,\n",
    "                                 verbose=False,\n",
    "                                 distance_metric=distance_fn,\n",
    "                                 model_regressor=LinearRegression())\n",
    "  temp1.append(exp1[0].score)\n",
    "  temp2.append(exp2[0].score)\n",
    "  temp1 = np.asarray(temp1)\n",
    "  temp2 = np.asarray(temp2)\n",
    "  media_1 = np.mean(temp1, dtype=np.float64)\n",
    "  media_2 = np.mean(temp2, dtype=np.float64)\n",
    "  punteggi.append([media_1, media_2])\n",
    "\n"
   ]
  },
  {
   "cell_type": "code",
   "execution_count": null,
   "metadata": {
    "id": "qXYuFV1hf_R0"
   },
   "outputs": [],
   "source": [
    "from sklearn.linear_model import LinearRegression"
   ]
  },
  {
   "cell_type": "markdown",
   "metadata": {
    "id": "qqXLZx4WCj6j"
   },
   "source": [
    "#Valutazione larghezza kernel e numero di vicini"
   ]
  },
  {
   "cell_type": "code",
   "execution_count": null,
   "metadata": {
    "id": "n6VstfuOcy4A"
   },
   "outputs": [],
   "source": [
    "import time\n",
    "from numpy import savetxt\n",
    "\n",
    "start_time = time.time()\n",
    "\n",
    "scores = []\n",
    "for l in range(1000):\n",
    "  \n",
    "  for i in np.arange(0.01, 1, 0.05): \n",
    "    print('Kernel ='+ str(i))\n",
    "\n",
    "    explainer = explainers.TabularExplainer(x_train,\n",
    "                             cluster_model=pivots_generator,\n",
    "                             mode=\"regression\",\n",
    "                             feature_names=feature_names,\n",
    "                             class_names=class_names,\n",
    "                             discretize_continuous=False,\n",
    "                             sample_around_instance=True,\n",
    "                             verbose=False,\n",
    "                             proximity_function=proximity_fn,\n",
    "                             kernel_width = i)\n",
    "    for f in range (50, 250, 50):\n",
    "      v = []\n",
    "      a = []\n",
    "      for h in range(5):\n",
    "\n",
    "        exp1 = explainer.explain_instance(x_test[l], predict_fn = get_predict_fn(0), num_features=15, num_samples=f, model_regressor=LinearRegression())\n",
    "        exp2 = explainer.explain_instance(x_test[l], predict_fn = get_predict_fn(1), num_features=15, num_samples=f, model_regressor=LinearRegression())\n",
    "        v.append(exp1[0].score)\n",
    "        a.append(exp2[0].score)\n",
    "\n",
    "      v = np.asarray(v)\n",
    "      a = np.asarray(a)\n",
    "      media_v = np.mean(v, dtype=np.float64)\n",
    "      media_a = np.mean(a, dtype=np.float64)\n",
    "      print(\"Numero di Vicini: \"+str(f))  \n",
    "      print('['+str(media_v) +', '+ str(media_a)+']')\n",
    "    \n",
    "      score = [media_v, media_a]\n",
    "      scores.append(score)\n",
    "      scores.append([123456789, 123456789])\n",
    "\n",
    "\n",
    "\n",
    "savetxt('/content/drive/MyDrive/Colab Notebooks/PastleLineardata.csv', scores, delimiter=',')"
   ]
  },
  {
   "cell_type": "markdown",
   "metadata": {
    "id": "f56e8yBaCvFg"
   },
   "source": [
    "#Valutazione contributo pivot"
   ]
  },
  {
   "cell_type": "code",
   "execution_count": null,
   "metadata": {
    "id": "WHzSzgr7vNFW"
   },
   "outputs": [],
   "source": [
    "def feature_finder(s):\n",
    "  char = \"\" \n",
    "  for x in s: \n",
    "    if x.isalpha(): \n",
    "        char = \"\".join([char, x])\n",
    "  return char"
   ]
  },
  {
   "cell_type": "code",
   "execution_count": null,
   "metadata": {
    "colab": {
     "base_uri": "https://localhost:8080/"
    },
    "executionInfo": {
     "elapsed": 1544,
     "status": "ok",
     "timestamp": 1650034010340,
     "user": {
      "displayName": "Gennaro Castaldo",
      "userId": "04055270946788705237"
     },
     "user_tz": -120
    },
    "id": "pwwCXxfMEVcb",
    "outputId": "0b2eaf9f-3a7e-4e2e-a16f-9e401bf17c45"
   },
   "outputs": [],
   "source": [
    "df = pd.read_csv('/content/drive/MyDrive/Colab Notebooks/dataset_taggato.csv', sep = ';')\n",
    "\n",
    "#display(df)"
   ]
  },
  {
   "cell_type": "code",
   "execution_count": null,
   "metadata": {
    "id": "b4z9QmVDEVcg"
   },
   "outputs": [],
   "source": [
    "x = df.iloc[: , 1:16]\n",
    "cols = x.columns\n",
    "x[cols] = x[cols].replace(',','.', regex = True)\n",
    "x[cols] = x[cols].apply(pd.to_numeric,downcast='float', errors='raise')\n",
    "x = x.astype('float64')\n",
    "\n",
    "scaler = StandardScaler()\n",
    "\n",
    "x = pd.DataFrame(scaler.fit_transform(x.values), columns=x.columns, index=x.index)\n",
    "\n",
    "#display(x)\n",
    "\n",
    "#print(x.dtypes)"
   ]
  },
  {
   "cell_type": "code",
   "execution_count": null,
   "metadata": {
    "id": "uRLF8VmPmyIN"
   },
   "outputs": [],
   "source": [
    "Pivots = ['Pivot_0', 'Pivot_1', 'Pivot_2', 'Pivot_3', 'Pivot_4', 'Pivot_5', 'Pivot_6', 'Pivot_7', 'Pivot_8', 'Pivot_9', 'Pivot_10',\n",
    "          'Pivot_11', 'Pivot_12', 'Pivot_13', 'Pivot_14', 'Pivot_15', 'Pivot_16', 'Pivot_17', 'Pivot_18', 'Pivot_19', 'Pivot_20', \n",
    "          'Pivot_21', 'Pivot_22', 'Pivot_23', 'Pivot_24']\n",
    "features = Pivots\n",
    "Pastle_dictionary_v_p = { feature : 0 for feature in features }\n",
    "Pastle_dictionary_v_n = { feature : 0 for feature in features }\n",
    "Pastle_dictionary_a_p = { feature : 0 for feature in features }\n",
    "Pastle_dictionary_a_n = { feature : 0 for feature in features }\n"
   ]
  },
  {
   "cell_type": "code",
   "execution_count": null,
   "metadata": {
    "id": "hX7XlI1gJ7ZN"
   },
   "outputs": [],
   "source": [
    "val = []\n",
    "ar = []\n",
    "kernel_width = 0.71\n",
    "n_samp = 150\n",
    "explainer = explainers.TabularExplainer(x_train, cluster_model=pivots_generator, mode=\"regression\", feature_names=feature_names, \n",
    "                                        class_names=class_names, discretize_continuous=False, sample_around_instance=True, \n",
    "                                        verbose=False, proximity_function=proximity_fn, kernel_width = kernel_width)\n",
    "for i in range(1000):\n",
    "  #print(str(i)+' di 1000')\n",
    "  expv = explainer.explain_instance(x_test[i], predict_fn = get_predict_fn(0), top_labels=1, num_pivots=n_pivots,num_samples=n_samp, \n",
    "                                    verbose=False, distance_metric=distance_fn, model_regressor=LinearRegression())\n",
    "  exp1 = expv[0]\n",
    "  expa = explainer.explain_instance(x_test[i], predict_fn = get_predict_fn(1), top_labels=1, num_pivots=n_pivots,num_samples=n_samp,\n",
    "                                    verbose=False, distance_metric=distance_fn, model_regressor=LinearRegression())\n",
    "  exp2 = expa[0]\n",
    "  li1 = exp1.as_list()\n",
    "  li2 = exp2.as_list()\n",
    "  val.append(exp1.score)\n",
    "  ar.append(exp2.score)\n",
    "  \n",
    "  for lun in range(len(li1)):\n",
    "    valore = li1[lun][1]\n",
    "    feature = li1[lun][0]\n",
    "    if valore >0:\n",
    "      Pastle_dictionary_v_p[feature] = Pastle_dictionary_v_p[feature]+valore #1\n",
    "    else:\n",
    "      Pastle_dictionary_v_n[feature] = Pastle_dictionary_v_n[feature]+valore #1\n",
    "    \n",
    "\n",
    "  for lun in range(len(li2)):\n",
    "    valore = li2[lun][1]\n",
    "    feature = li2[lun][0]\n",
    "    if valore >0:\n",
    "      Pastle_dictionary_a_p[feature] = Pastle_dictionary_a_p[feature]+valore #1\n",
    "    else:\n",
    "      Pastle_dictionary_a_n[feature] = Pastle_dictionary_a_n[feature]+valore #1\n",
    "    \n",
    "  \n",
    "print(Pastle_dictionary_v_p)\n",
    "print(Pastle_dictionary_v_n)\n",
    "print(Pastle_dictionary_a_p)\n",
    "print(Pastle_dictionary_a_n)"
   ]
  },
  {
   "cell_type": "code",
   "execution_count": null,
   "metadata": {
    "id": "jRpBrlJoCUtI"
   },
   "outputs": [],
   "source": [
    "Valence = []\n",
    "Arousal = []\n",
    "for i in range(len(val)):\n",
    "  Valence.append([val[i]])\n",
    "  Arousal.append([ar[i]])\n",
    "  print(str(val[i])+str(ar[i]))\n",
    "\n",
    "val = np.array(Valence)\n",
    "ar = np.array(Arousal)\n",
    "\n",
    "print(np.mean(val))\n",
    "print(np.mean(ar))"
   ]
  },
  {
   "cell_type": "code",
   "execution_count": null,
   "metadata": {
    "id": "ztqtQnDiKbTa"
   },
   "outputs": [],
   "source": [
    "import json \n",
    "      \n",
    "with open(\"/content/drive/MyDrive/Colab Notebooks/Pastle_dictionary_v_n.json\", \"w\") as outfile:\n",
    "    json.dump(Pastle_dictionary_v_n, outfile)\n",
    "\n",
    "with open(\"/content/drive/MyDrive/Colab Notebooks/Pastle_dictionary_v_p.json\", \"w\") as outfile:\n",
    "    json.dump(Pastle_dictionary_v_p, outfile)\n",
    "\n",
    "with open(\"/content/drive/MyDrive/Colab Notebooks/Pastle_dictionary_a_p.json\", \"w\") as outfile:\n",
    "    json.dump(Pastle_dictionary_a_p, outfile)\n",
    "\n",
    "with open(\"/content/drive/MyDrive/Colab Notebooks/Pastle_dictionary_a_n.json\", \"w\") as outfile:\n",
    "    json.dump(Pastle_dictionary_a_n, outfile)"
   ]
  },
  {
   "cell_type": "markdown",
   "metadata": {
    "id": "ql8NF2NTC3av"
   },
   "source": [
    "#Explain instance"
   ]
  },
  {
   "cell_type": "code",
   "execution_count": null,
   "metadata": {
    "colab": {
     "base_uri": "https://localhost:8080/"
    },
    "executionInfo": {
     "elapsed": 273,
     "status": "ok",
     "timestamp": 1650724632028,
     "user": {
      "displayName": "Gennaro Castaldo",
      "userId": "04055270946788705237"
     },
     "user_tz": -120
    },
    "id": "rsawM-PTmkJ3",
    "outputId": "c1164d07-ef20-463f-a8b2-13ddb93f82cc"
   },
   "outputs": [],
   "source": [
    "kernel_width = 0.71\n",
    "n_samp = 150\n",
    "explainer = explainers.TabularExplainer(x_train, cluster_model=pivots_generator, mode=\"regression\", feature_names=feature_names, \n",
    "                                        class_names=class_names, discretize_continuous=False, sample_around_instance=True,\n",
    "                                        verbose=False, proximity_function=proximity_fn, kernel_width = kernel_width)\n",
    "expv = explainer.explain_instance(x_test[l], predict_fn = get_predict_fn(0), top_labels=1, num_pivots=n_pivots, num_samples=n_samp,\n",
    "                                  verbose=False, distance_metric=distance_fn, model_regressor=LinearRegression())\n",
    "exp1 = expv[0]\n",
    "expa = explainer.explain_instance(x_test[l], predict_fn = get_predict_fn(1), top_labels=1, num_pivots=n_pivots,num_samples=n_samp,\n",
    "                                  verbose=False, distance_metric=distance_fn, model_regressor=LinearRegression())\n",
    "exp2 = expa[0]\n",
    "\n",
    "print(str(exp1.score)+' '+str(exp2.score))"
   ]
  },
  {
   "cell_type": "code",
   "execution_count": null,
   "metadata": {
    "colab": {
     "base_uri": "https://localhost:8080/",
     "height": 362
    },
    "executionInfo": {
     "elapsed": 864,
     "status": "ok",
     "timestamp": 1650724633815,
     "user": {
      "displayName": "Gennaro Castaldo",
      "userId": "04055270946788705237"
     },
     "user_tz": -120
    },
    "id": "OTie7g8XbJPU",
    "outputId": "a23106e6-3de0-4663-fa44-21059d747ccf"
   },
   "outputs": [],
   "source": [
    "feature_importances =  expv[1].local_exp[1] \n",
    "#true_pred = model.predict(x_test[l])\n",
    "pivots = pivots_generator.pivots\n",
    "mode = 'regression'\n",
    "new_exp = explanations.PASTLE_Explanation(\n",
    "                 x_train,\n",
    "                 y_train[:,0],\n",
    "                 expv[0],  # LIME explanation object\n",
    "                 pivots,\n",
    "                 feature_importances,\n",
    "                 x_test[l],\n",
    "                 predictions[l][0],  # black-box prediction\n",
    "                 feature_names,\n",
    "                 mode = mode,\n",
    "                 verbose=False\n",
    "                 )\n",
    "\n",
    "new_exp.show_in_notebook(save=True,name='regression.pdf')"
   ]
  },
  {
   "cell_type": "code",
   "execution_count": null,
   "metadata": {
    "colab": {
     "base_uri": "https://localhost:8080/",
     "height": 402
    },
    "executionInfo": {
     "elapsed": 800,
     "status": "ok",
     "timestamp": 1650724689638,
     "user": {
      "displayName": "Gennaro Castaldo",
      "userId": "04055270946788705237"
     },
     "user_tz": -120
    },
    "id": "_9NsPSopdfD2",
    "outputId": "153806a3-f73f-42e7-efde-a94a4d4975c6"
   },
   "outputs": [],
   "source": [
    "pts_supporting, preds_supporting, pts_opposing, preds_opposing = new_exp.move_along_directions(model,n_points=300,save=True,name='regression_directions.pdf', verbose=False)\n",
    "fig, ax = plt.subplots(1, 1, figsize=(8, 6))\n",
    "stop_point = len(pts_supporting)\n",
    "ax.tick_params(bottom=False, labelsize=12)\n",
    "ax.set_xticks([])\n",
    "ax.set_xlabel('Points along directions',size=24)\n",
    "ax.set_ylabel('Model prediction',size=24)\n",
    "xx = range(stop_point)\n",
    "yy = preds_supporting[:stop_point, 0]\n",
    "ax.plot(xx, yy, color='#238823')\n",
    "yy = preds_opposing[:stop_point, 0]\n",
    "ax.plot(xx, yy, color='#E42531')\n",
    "plt.grid(True)\n",
    "plt.legend(['Positive direction', 'Negative direction'],prop={'size': 24})"
   ]
  },
  {
   "cell_type": "code",
   "execution_count": null,
   "metadata": {
    "colab": {
     "background_save": true,
     "base_uri": "https://localhost:8080/",
     "height": 362
    },
    "executionInfo": {
     "elapsed": 853,
     "status": "ok",
     "timestamp": 1650724641399,
     "user": {
      "displayName": "Gennaro Castaldo",
      "userId": "04055270946788705237"
     },
     "user_tz": -120
    },
    "id": "6nhn9dEJmAkH",
    "outputId": "a70293e7-3b55-47ab-fdb5-732e02055f63"
   },
   "outputs": [],
   "source": [
    "feature_importances =  expa[1].local_exp[1] \n",
    "#true_pred = model.predict(x_test[l])\n",
    "pivots = pivots_generator.pivots\n",
    "mode = 'regression'\n",
    "new_exp = explanations.PASTLE_Explanation(\n",
    "                 x_train,\n",
    "                 y_train[:,1],\n",
    "                 expa[0],  # LIME explanation object\n",
    "                 pivots,\n",
    "                 feature_importances,\n",
    "                 x_test[l],\n",
    "                 predictions[l][1],  # black-box prediction\n",
    "                 feature_names,\n",
    "                 mode = mode,\n",
    "                 verbose=False\n",
    "                 )\n",
    "\n",
    "new_exp.show_in_notebook(save=True,name='regression.pdf')"
   ]
  },
  {
   "cell_type": "code",
   "execution_count": null,
   "metadata": {
    "colab": {
     "base_uri": "https://localhost:8080/",
     "height": 422
    },
    "executionInfo": {
     "elapsed": 2198,
     "status": "ok",
     "timestamp": 1650724666298,
     "user": {
      "displayName": "Gennaro Castaldo",
      "userId": "04055270946788705237"
     },
     "user_tz": -120
    },
    "id": "IwgaR0LKh8UK",
    "outputId": "8f3c6fcc-9844-4ed9-d376-d26477dc0be4"
   },
   "outputs": [],
   "source": [
    "pts_supporting, preds_supporting, pts_opposing, preds_opposing = new_exp.move_along_directions(model,n_points=300,save=True,name='regression_directions.pdf', verbose=False)\n",
    "fig, ax = plt.subplots(1, 1, figsize=(8, 6))\n",
    "stop_point = len(pts_supporting)\n",
    "ax.tick_params(bottom=False, labelsize=12)\n",
    "#ax.set_xticks([])\n",
    "ax.set_xlabel('Points along directions',size=24)\n",
    "ax.set_ylabel('Model prediction',size=24)\n",
    "xx = range(stop_point)\n",
    "yy = preds_supporting[:stop_point, 1]\n",
    "ax.plot(xx, yy, color='#238823')\n",
    "yy = preds_opposing[:stop_point, 1]\n",
    "ax.plot(xx, yy, color='#E42531')\n",
    "plt.grid(True)\n",
    "plt.legend(['Positive direction', 'Negative direction'],prop={'size': 24})"
   ]
  },
  {
   "cell_type": "code",
   "execution_count": null,
   "metadata": {
    "colab": {
     "base_uri": "https://localhost:8080/"
    },
    "executionInfo": {
     "elapsed": 226,
     "status": "ok",
     "timestamp": 1650643271810,
     "user": {
      "displayName": "Gennaro Castaldo",
      "userId": "04055270946788705237"
     },
     "user_tz": -120
    },
    "id": "J-1XrzKIAM3L",
    "outputId": "de3b0e81-bff0-494c-a604-28053e0e39df"
   },
   "outputs": [],
   "source": [
    "print(x_train.shape)\n",
    "print(len(x_train))\n",
    "print(pts_supporting.shape)\n",
    "print(len(pts_supporting))"
   ]
  },
  {
   "cell_type": "code",
   "execution_count": null,
   "metadata": {
    "colab": {
     "base_uri": "https://localhost:8080/"
    },
    "executionInfo": {
     "elapsed": 13830,
     "status": "ok",
     "timestamp": 1650725057856,
     "user": {
      "displayName": "Gennaro Castaldo",
      "userId": "04055270946788705237"
     },
     "user_tz": -120
    },
    "id": "sPoOjvCo9_9b",
    "outputId": "93e50957-d8d2-4527-c39d-1aa98cc3d74a"
   },
   "outputs": [],
   "source": [
    "from datetime import datetime\n",
    "\n",
    "suggestions = []\n",
    "mins = []\n",
    "\n",
    "start_time = datetime.now()\n",
    "print(\"Current Time =\", start_time)\n",
    "min = 100000000\n",
    "for i in range(len(x_train)-1):\n",
    "  #print(str(i))\n",
    "  for l in range((30)):\n",
    "    dist = np.linalg.norm(x_train[i]-pts_supporting[l])\n",
    "    if dist <= min: \n",
    "      min = dist\n",
    "      suggestions.append([i,l])\n",
    "      mins.append(min)\n",
    "now = datetime.now()\n",
    "end_time = datetime.now()\n",
    "print(\"Current Time =\", end_time)\n",
    "print('Duration: {}'.format(end_time - start_time))"
   ]
  }
 ],
 "metadata": {
  "colab": {
   "authorship_tag": "ABX9TyNfBrtVJrMOs8pOHNqh8xID",
   "collapsed_sections": [],
   "name": "3 Explanation PASTLE.ipynb",
   "provenance": []
  },
  "kernelspec": {
   "display_name": "Python 3",
   "language": "python",
   "name": "python3"
  },
  "language_info": {
   "codemirror_mode": {
    "name": "ipython",
    "version": 3
   },
   "file_extension": ".py",
   "mimetype": "text/x-python",
   "name": "python",
   "nbconvert_exporter": "python",
   "pygments_lexer": "ipython3",
   "version": "3.8.5"
  }
 },
 "nbformat": 4,
 "nbformat_minor": 1
}
