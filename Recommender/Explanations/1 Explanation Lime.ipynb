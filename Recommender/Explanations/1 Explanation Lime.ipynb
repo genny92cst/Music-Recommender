{
 "cells": [
  {
   "cell_type": "code",
   "execution_count": null,
   "metadata": {
    "colab": {
     "base_uri": "https://localhost:8080/"
    },
    "executionInfo": {
     "elapsed": 8,
     "status": "ok",
     "timestamp": 1653324578818,
     "user": {
      "displayName": "Gennaro Castaldo",
      "userId": "04055270946788705237"
     },
     "user_tz": -120
    },
    "id": "mmGII0gAQOBu",
    "outputId": "ffe2eae0-be9a-4d22-92cd-14661f14e228"
   },
   "outputs": [],
   "source": [
    "%%writefile requirements.txt\n",
    "lime\n",
    "keras\n",
    "pandas\n",
    "tensorflow"
   ]
  },
  {
   "cell_type": "code",
   "execution_count": null,
   "metadata": {
    "id": "xgMMG0h8QXl6"
   },
   "outputs": [],
   "source": [
    "!pip install -r requirements.txt\n"
   ]
  },
  {
   "cell_type": "code",
   "execution_count": null,
   "metadata": {
    "id": "Oi0l5IvlIdyy"
   },
   "outputs": [],
   "source": [
    "pip install scikeras[tensorflow]"
   ]
  },
  {
   "cell_type": "code",
   "execution_count": null,
   "metadata": {
    "colab": {
     "base_uri": "https://localhost:8080/"
    },
    "executionInfo": {
     "elapsed": 23460,
     "status": "ok",
     "timestamp": 1653324625293,
     "user": {
      "displayName": "Gennaro Castaldo",
      "userId": "04055270946788705237"
     },
     "user_tz": -120
    },
    "id": "dePX-aSTWBck",
    "outputId": "c3bd9f7c-eafe-47fb-a553-90df2c737f5a"
   },
   "outputs": [],
   "source": [
    "from google.colab import drive\n",
    "drive.mount('/content/drive')"
   ]
  },
  {
   "cell_type": "code",
   "execution_count": null,
   "metadata": {
    "executionInfo": {
     "elapsed": 812,
     "status": "ok",
     "timestamp": 1653324626091,
     "user": {
      "displayName": "Gennaro Castaldo",
      "userId": "04055270946788705237"
     },
     "user_tz": -120
    },
    "id": "YY2Q2ql9NFHc"
   },
   "outputs": [],
   "source": [
    "import numpy as np\n",
    "import pandas as pd\n",
    "import matplotlib.pyplot as plt\n",
    "import sklearn.metrics as sk\n",
    "#from scikeras.wrappers import KerasRegressor\n",
    "from sklearn.model_selection import train_test_split\n",
    "from sklearn.model_selection import KFold\n",
    "from sklearn.preprocessing import StandardScaler"
   ]
  },
  {
   "cell_type": "code",
   "execution_count": null,
   "metadata": {
    "colab": {
     "base_uri": "https://localhost:8080/"
    },
    "executionInfo": {
     "elapsed": 1807,
     "status": "ok",
     "timestamp": 1653324627893,
     "user": {
      "displayName": "Gennaro Castaldo",
      "userId": "04055270946788705237"
     },
     "user_tz": -120
    },
    "id": "BgCG-V-GkLQZ",
    "outputId": "89e96571-ad77-4135-b60d-a04071625f85"
   },
   "outputs": [],
   "source": [
    "df = pd.read_csv('/content/drive/MyDrive/Colab Notebooks/Dati/dataset_taggato.csv', sep = ';')\n",
    "\n",
    "#display(df)"
   ]
  },
  {
   "cell_type": "code",
   "execution_count": null,
   "metadata": {
    "executionInfo": {
     "elapsed": 573,
     "status": "ok",
     "timestamp": 1653324628463,
     "user": {
      "displayName": "Gennaro Castaldo",
      "userId": "04055270946788705237"
     },
     "user_tz": -120
    },
    "id": "vdktEBrSJoTq"
   },
   "outputs": [],
   "source": [
    "x = df.iloc[: , 1:16]\n",
    "cols = x.columns\n",
    "x[cols] = x[cols].replace(',','.', regex = True)\n",
    "x[cols] = x[cols].apply(pd.to_numeric,downcast='float', errors='raise')\n",
    "x = x.astype('float64')\n",
    "\n",
    "scaler = StandardScaler()\n",
    "\n",
    "x = pd.DataFrame(scaler.fit_transform(x.values), columns=x.columns, index=x.index)\n",
    "\n",
    "#display(x)\n",
    "\n",
    "#print(x.dtypes)"
   ]
  },
  {
   "cell_type": "code",
   "execution_count": null,
   "metadata": {
    "executionInfo": {
     "elapsed": 544,
     "status": "ok",
     "timestamp": 1653324629004,
     "user": {
      "displayName": "Gennaro Castaldo",
      "userId": "04055270946788705237"
     },
     "user_tz": -120
    },
    "id": "lPxvoaESPe-o"
   },
   "outputs": [],
   "source": [
    "from sklearn.preprocessing import MinMaxScaler\n",
    "scaler2 = MinMaxScaler()\n",
    "y = df.iloc[: , 28:30]\n",
    "cols = y.columns\n",
    "y[cols] = y[cols].replace(',','.', regex = True)\n",
    "\n",
    "y[cols] = y[cols].apply(pd.to_numeric,downcast='float', errors='raise')\n",
    "\n",
    "y = pd.DataFrame(scaler2.fit_transform(y.values), columns=y.columns, index=y.index)\n",
    "\n",
    "#display(y.head(100))\n",
    "#print(y.dtypes)"
   ]
  },
  {
   "cell_type": "code",
   "execution_count": null,
   "metadata": {
    "executionInfo": {
     "elapsed": 7,
     "status": "ok",
     "timestamp": 1653324629006,
     "user": {
      "displayName": "Gennaro Castaldo",
      "userId": "04055270946788705237"
     },
     "user_tz": -120
    },
    "id": "BmSpdn6rtH0A"
   },
   "outputs": [],
   "source": [
    "x_train, x_test, y_train, y_test = train_test_split(x, y, test_size = 0.2, random_state = 42)"
   ]
  },
  {
   "cell_type": "code",
   "execution_count": null,
   "metadata": {
    "executionInfo": {
     "elapsed": 7732,
     "status": "ok",
     "timestamp": 1653324636732,
     "user": {
      "displayName": "Gennaro Castaldo",
      "userId": "04055270946788705237"
     },
     "user_tz": -120
    },
    "id": "MP1yCGdO9ovH"
   },
   "outputs": [],
   "source": [
    "import tensorflow as tf\n",
    "from tensorflow import keras\n",
    "model = keras.models.load_model(\"/content/drive/MyDrive/Colab Notebooks/nn_model\")"
   ]
  },
  {
   "cell_type": "code",
   "execution_count": null,
   "metadata": {
    "executionInfo": {
     "elapsed": 1415,
     "status": "ok",
     "timestamp": 1653324638132,
     "user": {
      "displayName": "Gennaro Castaldo",
      "userId": "04055270946788705237"
     },
     "user_tz": -120
    },
    "id": "C1M_FgOuLxaX"
   },
   "outputs": [],
   "source": [
    "predictions = model.predict(x_test)"
   ]
  },
  {
   "cell_type": "code",
   "execution_count": null,
   "metadata": {
    "colab": {
     "base_uri": "https://localhost:8080/"
    },
    "executionInfo": {
     "elapsed": 16,
     "status": "ok",
     "timestamp": 1653324638135,
     "user": {
      "displayName": "Gennaro Castaldo",
      "userId": "04055270946788705237"
     },
     "user_tz": -120
    },
    "id": "peAetMz5L31g",
    "outputId": "22b9eda5-93f3-4ace-fd4e-c4d1a6f4242c"
   },
   "outputs": [],
   "source": [
    "l = 99\n",
    "print(predictions[l])\n",
    "print(y_test.iloc[l])"
   ]
  },
  {
   "cell_type": "code",
   "execution_count": null,
   "metadata": {
    "executionInfo": {
     "elapsed": 14,
     "status": "ok",
     "timestamp": 1653324638138,
     "user": {
      "displayName": "Gennaro Castaldo",
      "userId": "04055270946788705237"
     },
     "user_tz": -120
    },
    "id": "ZbaAL4tEIBfL"
   },
   "outputs": [],
   "source": [
    "def get_predict_fn(idx):\n",
    "  def predict_fn(x_test):\n",
    "    return model.predict(x_test)[:, idx]\n",
    "  return predict_fn"
   ]
  },
  {
   "cell_type": "markdown",
   "metadata": {
    "id": "gcX-VFUwJplH"
   },
   "source": [
    "#LIME"
   ]
  },
  {
   "cell_type": "code",
   "execution_count": null,
   "metadata": {
    "executionInfo": {
     "elapsed": 310,
     "status": "ok",
     "timestamp": 1653324638435,
     "user": {
      "displayName": "Gennaro Castaldo",
      "userId": "04055270946788705237"
     },
     "user_tz": -120
    },
    "id": "jY5sDdMe_27r"
   },
   "outputs": [],
   "source": [
    "import lime\n",
    "import lime.lime_tabular"
   ]
  },
  {
   "cell_type": "code",
   "execution_count": null,
   "metadata": {
    "executionInfo": {
     "elapsed": 462,
     "status": "ok",
     "timestamp": 1653324638895,
     "user": {
      "displayName": "Gennaro Castaldo",
      "userId": "04055270946788705237"
     },
     "user_tz": -120
    },
    "id": "zmQp9OZiXqZx"
   },
   "outputs": [],
   "source": [
    "explainer = lime.lime_tabular.LimeTabularExplainer(x_train.values, feature_names=list(x_train.columns), verbose=False, mode='regression', sample_around_instance=True, kernel_width=0.4)"
   ]
  },
  {
   "cell_type": "code",
   "execution_count": null,
   "metadata": {
    "executionInfo": {
     "elapsed": 7,
     "status": "ok",
     "timestamp": 1653324638896,
     "user": {
      "displayName": "Gennaro Castaldo",
      "userId": "04055270946788705237"
     },
     "user_tz": -120
    },
    "id": "qXYuFV1hf_R0"
   },
   "outputs": [],
   "source": [
    "# from sklearn.linear_model import ElasticNet\n",
    "# from sklearn.linear_model import Lasso\n",
    "from sklearn.linear_model import LinearRegression\n",
    "# from sklearn.linear_model import SGDRegressor\n",
    "# from sklearn.linear_model import LogisticRegression"
   ]
  },
  {
   "cell_type": "code",
   "execution_count": null,
   "metadata": {
    "colab": {
     "base_uri": "https://localhost:8080/",
     "height": 476
    },
    "executionInfo": {
     "elapsed": 1553,
     "status": "ok",
     "timestamp": 1653324771292,
     "user": {
      "displayName": "Gennaro Castaldo",
      "userId": "04055270946788705237"
     },
     "user_tz": -120
    },
    "id": "8sIDRAtz1PEu",
    "outputId": "6f3e2c74-d85c-46d7-e52d-7dafcedf1759"
   },
   "outputs": [],
   "source": [
    "explainer = lime.lime_tabular.LimeTabularExplainer(x_train.values, feature_names=list(x_train.columns), verbose=False, mode='regression', sample_around_instance=True, kernel_width=0.56)\n",
    "exp1 = explainer.explain_instance(x_test.iloc[l], predict_fn = get_predict_fn(0), num_features=15, num_samples=100, model_regressor = LinearRegression())\n",
    "exp1.show_in_notebook()"
   ]
  },
  {
   "cell_type": "code",
   "execution_count": null,
   "metadata": {
    "colab": {
     "base_uri": "https://localhost:8080/",
     "height": 1000
    },
    "executionInfo": {
     "elapsed": 66881,
     "status": "error",
     "timestamp": 1653324705772,
     "user": {
      "displayName": "Gennaro Castaldo",
      "userId": "04055270946788705237"
     },
     "user_tz": -120
    },
    "id": "n6VstfuOcy4A",
    "outputId": "adb572dd-4bb0-4581-becd-e56a41c9de56"
   },
   "outputs": [],
   "source": [
    "import time\n",
    "start_time = time.time()\n",
    "\n",
    "scores = []\n",
    "for i in np.arange(0.01, 1, 0.05): #500\n",
    "  print('kernel ='+ str(i))\n",
    "  print(\"--- %s seconds ---\" % (time.time() - start_time))\n",
    "\n",
    "  explainer = lime.lime_tabular.LimeTabularExplainer(x_train.values, feature_names=list(x_train.columns), verbose=False, mode='regression', sample_around_instance=True, kernel_width=i)\n",
    "  for f in range (50, 1000, 50):\n",
    "    v = []\n",
    "    a = []\n",
    "    for h in range(5):\n",
    "      exp1 = explainer.explain_instance(x_test.iloc[l], predict_fn = get_predict_fn(0), num_features=15, num_samples=f, model_regressor = LinearRegression())\n",
    "      exp2 = explainer.explain_instance(x_test.iloc[l], predict_fn = get_predict_fn(1), num_features=15, num_samples=f, model_regressor =  LinearRegression())\n",
    "      v.append(exp1.score)\n",
    "      a.append(exp2.score)\n",
    "      \n",
    "    v = np.asarray(v)\n",
    "    a = np.asarray(a)\n",
    "    media_v = np.mean(v, dtype=np.float64)\n",
    "    media_a = np.mean(a, dtype=np.float64)      \n",
    "    print(\"Numero di Vicini: \"+str(f))\n",
    "\n",
    "    print('['+str(media_v)+', '+str(media_a)+']')\n",
    "    score = [media_v, media_a]\n",
    "    scores.append(score)"
   ]
  },
  {
   "cell_type": "code",
   "execution_count": null,
   "metadata": {
    "executionInfo": {
     "elapsed": 352,
     "status": "aborted",
     "timestamp": 1653324705765,
     "user": {
      "displayName": "Gennaro Castaldo",
      "userId": "04055270946788705237"
     },
     "user_tz": -120
    },
    "id": "ZdXiOQ92SR7D"
   },
   "outputs": [],
   "source": [
    "scores = np.asarray(scores)\n",
    "score_indexes = []\n",
    "score_values = []\n",
    "print (scores.shape)\n",
    "for inti in range(scores.shape[0]):\n",
    "    if scores[inti, 0] >=0.1 or scores[inti, 1] >=0.1:\n",
    "        score_indexes.append(inti)\n",
    "        score_values.append(scores[inti])\n",
    "        "
   ]
  },
  {
   "cell_type": "code",
   "execution_count": null,
   "metadata": {
    "executionInfo": {
     "elapsed": 353,
     "status": "aborted",
     "timestamp": 1653324705766,
     "user": {
      "displayName": "Gennaro Castaldo",
      "userId": "04055270946788705237"
     },
     "user_tz": -120
    },
    "id": "lLnEjAoLuKY9"
   },
   "outputs": [],
   "source": [
    "savetxt('/content/drive/MyDrive/Colab Notebooks/data_indexes.csv', scores, delimiter=',')"
   ]
  },
  {
   "cell_type": "code",
   "execution_count": null,
   "metadata": {
    "executionInfo": {
     "elapsed": 354,
     "status": "aborted",
     "timestamp": 1653324705767,
     "user": {
      "displayName": "Gennaro Castaldo",
      "userId": "04055270946788705237"
     },
     "user_tz": -120
    },
    "id": "WHzSzgr7vNFW"
   },
   "outputs": [],
   "source": [
    "def feature_finder(s):\n",
    "  char = \"\" \n",
    "  for x in s: \n",
    "    if x.isalpha(): \n",
    "        char = \"\".join([char, x])\n",
    "  return char"
   ]
  },
  {
   "cell_type": "code",
   "execution_count": null,
   "metadata": {
    "executionInfo": {
     "elapsed": 355,
     "status": "aborted",
     "timestamp": 1653324705768,
     "user": {
      "displayName": "Gennaro Castaldo",
      "userId": "04055270946788705237"
     },
     "user_tz": -120
    },
    "id": "uRLF8VmPmyIN"
   },
   "outputs": [],
   "source": [
    "features = x_train.columns.tolist()\n",
    "dictionary_v_p = { feature : 0 for feature in features }\n",
    "dictionary_v_n = { feature : 0 for feature in features }\n",
    "dictionary_a_p = { feature : 0 for feature in features }\n",
    "dictionary_a_n = { feature : 0 for feature in features }\n"
   ]
  },
  {
   "cell_type": "code",
   "execution_count": null,
   "metadata": {
    "executionInfo": {
     "elapsed": 356,
     "status": "aborted",
     "timestamp": 1653324705769,
     "user": {
      "displayName": "Gennaro Castaldo",
      "userId": "04055270946788705237"
     },
     "user_tz": -120
    },
    "id": "hX7XlI1gJ7ZN"
   },
   "outputs": [],
   "source": [
    "val = []\n",
    "ar = []\n",
    "kw = 0.56\n",
    "f = 150\n",
    "explainer = lime.lime_tabular.LimeTabularExplainer(x_train.values, feature_names=list(x_train.columns), verbose=False, mode='regression', sample_around_instance=True, kernel_width=kw)\n",
    "for i in range(1000):\n",
    "  #print(str(i)+\" di 1000\")\n",
    "  exp1 = explainer.explain_instance(x_test.iloc[l], predict_fn = get_predict_fn(0), num_features=15, num_samples=f, model_regressor = LinearRegression())\n",
    "  exp2 = explainer.explain_instance(x_test.iloc[l], predict_fn = get_predict_fn(1), num_features=15, num_samples=f, model_regressor =  LinearRegression())\n",
    "  li1 = exp1.as_list()\n",
    "  li2 = exp2.as_list()\n",
    "  val.append(exp1.score)\n",
    "  ar.append(exp2.score)\n",
    "  \n",
    "  for lun in range(len(li1)):\n",
    "    valore = li1[lun][1]\n",
    "    feature = feature_finder(li1[lun][0])\n",
    "    if feature == \"polarityvalue\":\n",
    "      feature = \"polarity_value\" \n",
    "    if valore >0:\n",
    "      dictionary_v_p[feature] = dictionary_v_p[feature]+valore\n",
    "    else:\n",
    "      dictionary_v_n[feature] = dictionary_v_n[feature]+valore\n",
    "\n",
    "\n",
    "  for lun in range(len(li2)):\n",
    "    valore = li2[lun][1]\n",
    "    feature = feature_finder(li2[lun][0])\n",
    "    if feature == \"polarityvalue\":\n",
    "      feature = \"polarity_value\" \n",
    "    if valore >0:\n",
    "      dictionary_a_p[feature] = dictionary_a_p[feature]+valore\n",
    "    else:\n",
    "      dictionary_a_n[feature] = dictionary_a_n[feature]+valore\n",
    "\n",
    "print(dictionary_v_p)\n",
    "print(dictionary_v_n)\n",
    "print(dictionary_a_p)\n",
    "print(dictionary_a_n)"
   ]
  },
  {
   "cell_type": "markdown",
   "metadata": {
    "id": "SdrGmoEOc9Dh"
   },
   "source": []
  },
  {
   "cell_type": "code",
   "execution_count": null,
   "metadata": {
    "executionInfo": {
     "elapsed": 356,
     "status": "aborted",
     "timestamp": 1653324705770,
     "user": {
      "displayName": "Gennaro Castaldo",
      "userId": "04055270946788705237"
     },
     "user_tz": -120
    },
    "id": "bL8fguZFPbxb"
   },
   "outputs": [],
   "source": [
    "Valence = []\n",
    "Arousal = []\n",
    "for i in range(len(val)):\n",
    "  Valence.append([val[i]])\n",
    "  Arousal.append([ar[i]])\n",
    "\n",
    "val = np.array(Valence)\n",
    "ar = np.array(Arousal)\n",
    "\n",
    "print(np.mean(val))\n",
    "print(np.mean(ar))"
   ]
  },
  {
   "cell_type": "code",
   "execution_count": null,
   "metadata": {
    "executionInfo": {
     "elapsed": 357,
     "status": "aborted",
     "timestamp": 1653324705771,
     "user": {
      "displayName": "Gennaro Castaldo",
      "userId": "04055270946788705237"
     },
     "user_tz": -120
    },
    "id": "ztqtQnDiKbTa"
   },
   "outputs": [],
   "source": [
    "import json \n",
    "with open(\"/content/drive/MyDrive/Colab Notebooks/LIME_dictionary_v_n.json\", \"w\") as outfile:\n",
    "    json.dump(dictionary_v_n, outfile)\n",
    "      \n",
    "with open(\"/content/drive/MyDrive/Colab Notebooks/LIME_dictionary_v_n.json\", \"w\") as outfile:\n",
    "    json.dump(dictionary_v_n, outfile)\n",
    "\n",
    "with open(\"/content/drive/MyDrive/Colab Notebooks/LIME_dictionary_v_p.json\", \"w\") as outfile:\n",
    "    json.dump(dictionary_v_p, outfile)\n",
    "\n",
    "with open(\"/content/drive/MyDrive/Colab Notebooks/LIME_dictionary_a_p.json\", \"w\") as outfile:\n",
    "    json.dump(dictionary_a_p, outfile)\n",
    "\n",
    "with open(\"/content/drive/MyDrive/Colab Notebooks/LIME_dictionary_a_n.json\", \"w\") as outfile:\n",
    "    json.dump(dictionary_a_n, outfile)"
   ]
  }
 ],
 "metadata": {
  "colab": {
   "authorship_tag": "ABX9TyODeYaNwsnj/5WWMzCDyYij",
   "collapsed_sections": [],
   "name": "1 Explanation Lime.ipynb",
   "provenance": []
  },
  "kernelspec": {
   "display_name": "Python 3",
   "language": "python",
   "name": "python3"
  },
  "language_info": {
   "codemirror_mode": {
    "name": "ipython",
    "version": 3
   },
   "file_extension": ".py",
   "mimetype": "text/x-python",
   "name": "python",
   "nbconvert_exporter": "python",
   "pygments_lexer": "ipython3",
   "version": "3.8.5"
  }
 },
 "nbformat": 4,
 "nbformat_minor": 1
}
