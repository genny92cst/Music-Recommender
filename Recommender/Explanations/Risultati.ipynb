{
 "cells": [
  {
   "cell_type": "code",
   "execution_count": null,
   "metadata": {
    "colab": {
     "base_uri": "https://localhost:8080/"
    },
    "executionInfo": {
     "elapsed": 3407,
     "status": "ok",
     "timestamp": 1652175154787,
     "user": {
      "displayName": "Gennaro Castaldo",
      "userId": "04055270946788705237"
     },
     "user_tz": -120
    },
    "id": "_Zo116a8tYcx",
    "outputId": "5e20d696-7683-4a09-f87a-e80110f9a185"
   },
   "outputs": [],
   "source": [
    "!pip install matplotlib==3.5.1"
   ]
  },
  {
   "cell_type": "code",
   "execution_count": null,
   "metadata": {
    "colab": {
     "base_uri": "https://localhost:8080/"
    },
    "executionInfo": {
     "elapsed": 1663,
     "status": "ok",
     "timestamp": 1652175156441,
     "user": {
      "displayName": "Gennaro Castaldo",
      "userId": "04055270946788705237"
     },
     "user_tz": -120
    },
    "id": "dePX-aSTWBck",
    "outputId": "121e5439-6893-44d6-93fa-5c78fc365f23"
   },
   "outputs": [],
   "source": [
    "from google.colab import drive\n",
    "drive.mount('/content/drive')"
   ]
  },
  {
   "cell_type": "code",
   "execution_count": null,
   "metadata": {
    "executionInfo": {
     "elapsed": 989,
     "status": "ok",
     "timestamp": 1652175157420,
     "user": {
      "displayName": "Gennaro Castaldo",
      "userId": "04055270946788705237"
     },
     "user_tz": -120
    },
    "id": "YY2Q2ql9NFHc"
   },
   "outputs": [],
   "source": [
    "import numpy as np\n",
    "import pandas as pd\n",
    "import matplotlib.pyplot as plt\n",
    "import sklearn.metrics as sk\n",
    "#from scikeras.wrappers import KerasRegressor\n",
    "from sklearn.model_selection import train_test_split\n",
    "from sklearn.model_selection import KFold\n",
    "from sklearn.preprocessing import StandardScaler"
   ]
  },
  {
   "cell_type": "code",
   "execution_count": null,
   "metadata": {
    "colab": {
     "base_uri": "https://localhost:8080/"
    },
    "executionInfo": {
     "elapsed": 2728,
     "status": "ok",
     "timestamp": 1652175028419,
     "user": {
      "displayName": "Gennaro Castaldo",
      "userId": "04055270946788705237"
     },
     "user_tz": -120
    },
    "id": "Yy-g_bEG1yVu",
    "outputId": "d45a495c-baf0-4a0b-ad0a-ab77769efa3c"
   },
   "outputs": [],
   "source": [
    "import json\n",
    "f = open('/content/drive/MyDrive/Colab Notebooks/Shap_dictionary_v_p.json')\n",
    "Shap_dictionary_v_p = json.load(f)\n",
    "print(Shap_dictionary_v_p)\n",
    "\n",
    "f = open('/content/drive/MyDrive/Colab Notebooks/Shap_dictionary_v_n.json')\n",
    "Shap_dictionary_v_n = json.load(f)\n",
    "print(Shap_dictionary_v_n)\n",
    "\n",
    "f = open('/content/drive/MyDrive/Colab Notebooks/Shap_dictionary_a_p.json')\n",
    "Shap_dictionary_a_p = json.load(f)\n",
    "print(Shap_dictionary_a_p)\n",
    "\n",
    "f = open('/content/drive/MyDrive/Colab Notebooks/Shap_dictionary_a_n.json')\n",
    "Shap_dictionary_a_n = json.load(f)\n",
    "print(Shap_dictionary_a_n)\n",
    "\n",
    "f = open('/content/drive/MyDrive/Colab Notebooks/LIME_dictionary_v_p.json')\n",
    "LIME_dictionary_v_p = json.load(f)\n",
    "print(LIME_dictionary_v_p)\n",
    "\n",
    "f = open('/content/drive/MyDrive/Colab Notebooks/LIME_dictionary_v_n.json')\n",
    "LIME_dictionary_v_n = json.load(f)\n",
    "print(LIME_dictionary_v_n)\n",
    "\n",
    "f = open('/content/drive/MyDrive/Colab Notebooks/LIME_dictionary_a_p.json')\n",
    "LIME_dictionary_a_p = json.load(f)\n",
    "print(LIME_dictionary_a_p)\n",
    "\n",
    "f = open('/content/drive/MyDrive/Colab Notebooks/LIME_dictionary_a_n.json')\n",
    "LIME_dictionary_a_n = json.load(f)\n",
    "print(LIME_dictionary_a_n)\n",
    "\n",
    "f = open('/content/drive/MyDrive/Colab Notebooks/Pastle_dictionary_v_p.json')\n",
    "Pastle_dictionary_v_p = json.load(f)\n",
    "print(Pastle_dictionary_v_p)\n",
    "\n",
    "f = open('/content/drive/MyDrive/Colab Notebooks/Pastle_dictionary_v_n.json')\n",
    "Pastle_dictionary_v_n = json.load(f)\n",
    "print(Pastle_dictionary_v_n)\n",
    "\n",
    "f = open('/content/drive/MyDrive/Colab Notebooks/Pastle_dictionary_a_p.json')\n",
    "Pastle_dictionary_a_p = json.load(f)\n",
    "print(Pastle_dictionary_a_p)\n",
    "\n",
    "f = open('/content/drive/MyDrive/Colab Notebooks/Pastle_dictionary_a_n.json')\n",
    "Pastle_dictionary_a_n = json.load(f)\n",
    "print(Pastle_dictionary_a_n)"
   ]
  },
  {
   "cell_type": "code",
   "execution_count": null,
   "metadata": {
    "colab": {
     "base_uri": "https://localhost:8080/",
     "height": 728
    },
    "executionInfo": {
     "elapsed": 1047,
     "status": "ok",
     "timestamp": 1649862303785,
     "user": {
      "displayName": "Gennaro Castaldo",
      "userId": "04055270946788705237"
     },
     "user_tz": -120
    },
    "id": "1MPguKsSLLjh",
    "outputId": "6d0f525f-c6cd-47da-88cb-9b00e1f7f953"
   },
   "outputs": [],
   "source": [
    "objects_v = list(LIME_dictionary_v_p.keys())\n",
    "sizes_Lime_v_p = list(LIME_dictionary_v_p.values())\n",
    "sizes_Lime_v_p = np.asarray(sizes_Lime_v_p)\n",
    "sizes_Lime_v_p = np.absolute(sizes_Lime_v_p)\n",
    "sizes_Lime_v_p[:] = [x / 1000 for x in sizes_Lime_v_p]\n",
    "sizes_Lime_v_n = list(LIME_dictionary_v_n.values())\n",
    "sizes_Lime_v_n = np.asarray(sizes_Lime_v_n)\n",
    "sizes_Lime_v_n = np.absolute(sizes_Lime_v_n)\n",
    "sizes_Lime_v_n[:] = [x / 1000 for x in sizes_Lime_v_n]\n",
    "y_pos = np.arange(len(objects_v))\n",
    "\n",
    "width = 0.4  # the width of the bars\n",
    "\n",
    "\n",
    "\n",
    "fig, ax = plt.subplots(figsize=(10,10))\n",
    "\n",
    "rects1 = ax.bar(y_pos - width/2, sizes_Lime_v_p, width, label='Positive')\n",
    "rects2 = ax.bar(y_pos + width/2, sizes_Lime_v_n, width, label='Negative')\n",
    "\n",
    "# Add some text for labels, title and custom x-axis tick labels, etc.\n",
    "ax.set_ylabel('Contributo alla valence')\n",
    "ax.set_title('Valence LIME')\n",
    "ax.set_xticks(y_pos, objects_v, rotation =90)\n",
    "ax.legend()\n",
    "\n",
    "ax.bar_label(rects1, padding=3, rotation=90)\n",
    "ax.bar_label(rects2, padding=3, rotation=90)\n",
    "\n",
    "fig.tight_layout()"
   ]
  },
  {
   "cell_type": "code",
   "execution_count": null,
   "metadata": {
    "colab": {
     "base_uri": "https://localhost:8080/",
     "height": 728
    },
    "executionInfo": {
     "elapsed": 752,
     "status": "ok",
     "timestamp": 1649862306891,
     "user": {
      "displayName": "Gennaro Castaldo",
      "userId": "04055270946788705237"
     },
     "user_tz": -120
    },
    "id": "YQn4S5H_PVI9",
    "outputId": "c567f7cd-cb22-48ea-f5a8-c71ca5b7ffdd"
   },
   "outputs": [],
   "source": [
    "objects_v = list(LIME_dictionary_a_p.keys())\n",
    "sizes_Lime_a_p = list(LIME_dictionary_a_p.values())\n",
    "sizes_Lime_a_p = np.asarray(sizes_Lime_a_p)\n",
    "sizes_Lime_a_p = np.absolute(sizes_Lime_a_p)\n",
    "sizes_Lime_a_p[:] = [x / 1000 for x in sizes_Lime_a_p]\n",
    "sizes_Lime_a_n = list(LIME_dictionary_a_n.values())\n",
    "sizes_Lime_a_n = np.asarray(sizes_Lime_a_n)\n",
    "sizes_Lime_a_n = np.absolute(sizes_Lime_a_n)\n",
    "sizes_Lime_a_n[:] = [x / 1000 for x in sizes_Lime_a_n]\n",
    "y_pos = np.arange(len(objects_v))\n",
    "\n",
    "width = 0.4  # the width of the bars\n",
    "\n",
    "\n",
    "\n",
    "fig, ax = plt.subplots(figsize=(10,10))\n",
    "\n",
    "rects1 = ax.bar(y_pos - width/2, sizes_Lime_a_p, width, label='Positive')\n",
    "rects2 = ax.bar(y_pos + width/2, sizes_Lime_a_n, width, label='Negative')\n",
    "\n",
    "# Add some text for labels, title and custom x-axis tick labels, etc.\n",
    "ax.set_ylabel('Contributo alla valence')\n",
    "ax.set_title('Arousal LIME')\n",
    "ax.set_xticks(y_pos, objects_v, rotation =90)\n",
    "ax.legend()\n",
    "\n",
    "ax.bar_label(rects1, padding=3, rotation=90)\n",
    "ax.bar_label(rects2, padding=3, rotation=90)\n",
    "\n",
    "fig.tight_layout()"
   ]
  },
  {
   "cell_type": "code",
   "execution_count": null,
   "metadata": {
    "colab": {
     "base_uri": "https://localhost:8080/",
     "height": 966
    },
    "executionInfo": {
     "elapsed": 994,
     "status": "ok",
     "timestamp": 1649861484537,
     "user": {
      "displayName": "Gennaro Castaldo",
      "userId": "04055270946788705237"
     },
     "user_tz": -120
    },
    "id": "KtPF5kY_UMQM",
    "outputId": "5561ddf1-6ccc-45cc-d90a-4d80a2deabac"
   },
   "outputs": [],
   "source": [
    "fig, ax = plt.subplots(figsize=(10,10))\n",
    "\n",
    "rects1 = ax.bar(y_pos - width/2, sizes_Lime_v_p, width, label='Valence')\n",
    "rects2 = ax.bar(y_pos + width/2, sizes_Lime_a_p, width, label='Arousal')\n",
    "\n",
    "# Add some text for labels, title and custom x-axis tick labels, etc.\n",
    "ax.set_ylabel('Contributo positivo')\n",
    "ax.set_title('Confronto Valence Arousal')\n",
    "ax.set_xticks(y_pos, objects_v, rotation =90)\n",
    "ax.legend()\n",
    "ax.bar_label(rects1, padding=3, rotation=90)\n",
    "ax.bar_label(rects2, padding=3, rotation=90)"
   ]
  },
  {
   "cell_type": "code",
   "execution_count": null,
   "metadata": {
    "colab": {
     "base_uri": "https://localhost:8080/",
     "height": 966
    },
    "executionInfo": {
     "elapsed": 1027,
     "status": "ok",
     "timestamp": 1649861487431,
     "user": {
      "displayName": "Gennaro Castaldo",
      "userId": "04055270946788705237"
     },
     "user_tz": -120
    },
    "id": "y5VG9Qa4Wud4",
    "outputId": "dc2e8af3-c6e6-45f7-f9c3-003af684e4cb"
   },
   "outputs": [],
   "source": [
    "fig, ax = plt.subplots(figsize=(10,10))\n",
    "\n",
    "rects1 = ax.bar(y_pos - width/2, sizes_Lime_v_n, width, label='Valence')\n",
    "rects2 = ax.bar(y_pos + width/2, sizes_Lime_a_n, width, label='Arousal')\n",
    "\n",
    "# Add some text for labels, title and custom x-axis tick labels, etc.\n",
    "ax.set_ylabel('Contributo negativo')\n",
    "ax.set_title('Confronto Valence Arousal')\n",
    "ax.set_xticks(y_pos, objects_v, rotation =90)\n",
    "ax.legend()\n",
    "ax.bar_label(rects1, padding=3, rotation=90)\n",
    "ax.bar_label(rects2, padding=3, rotation=90)"
   ]
  },
  {
   "cell_type": "code",
   "execution_count": null,
   "metadata": {
    "colab": {
     "base_uri": "https://localhost:8080/",
     "height": 728
    },
    "executionInfo": {
     "elapsed": 986,
     "status": "ok",
     "timestamp": 1649862315263,
     "user": {
      "displayName": "Gennaro Castaldo",
      "userId": "04055270946788705237"
     },
     "user_tz": -120
    },
    "id": "VdS9vkoOrs-K",
    "outputId": "3caa3e05-3b62-4409-d778-3677b481f1cc"
   },
   "outputs": [],
   "source": [
    "objects_v = list(Shap_dictionary_v_p.keys())\n",
    "sizes_shap_v_p = list(Shap_dictionary_v_p.values())\n",
    "sizes_shap_v_p = np.asarray(sizes_shap_v_p)\n",
    "sizes_shap_v_p = np.absolute(sizes_shap_v_p)\n",
    "sizes_shap_v_p[:] = [x / 1000 for x in sizes_shap_v_p]\n",
    "sizes_shap_v_n = list(Shap_dictionary_v_n.values())\n",
    "sizes_shap_v_n = np.asarray(sizes_shap_v_n)\n",
    "sizes_shap_v_n = np.absolute(sizes_shap_v_n)\n",
    "sizes_shap_v_n[:] = [x / 1000 for x in sizes_shap_v_n]\n",
    "y_pos = np.arange(len(objects_v))\n",
    "\n",
    "width = 0.4  # the width of the bars\n",
    "\n",
    "fig, ax = plt.subplots(figsize=(10,10))\n",
    "\n",
    "rects1 = ax.bar(y_pos - width/2, sizes_shap_v_p, width, label='Positive')\n",
    "rects2 = ax.bar(y_pos + width/2, sizes_shap_v_n, width, label='Negative')\n",
    "\n",
    "# Add some text for labels, title and custom x-axis tick labels, etc.\n",
    "ax.set_ylabel('Contributo alla valence')\n",
    "ax.set_title('Valence Shap')\n",
    "ax.set_xticks(y_pos, objects_v, rotation =90)\n",
    "ax.legend()\n",
    "\n",
    "ax.bar_label(rects1, padding=3, rotation=90)\n",
    "ax.bar_label(rects2, padding=3, rotation=90)\n",
    "\n",
    "fig.tight_layout()"
   ]
  },
  {
   "cell_type": "code",
   "execution_count": null,
   "metadata": {
    "colab": {
     "base_uri": "https://localhost:8080/",
     "height": 727
    },
    "executionInfo": {
     "elapsed": 1095,
     "status": "ok",
     "timestamp": 1649862319778,
     "user": {
      "displayName": "Gennaro Castaldo",
      "userId": "04055270946788705237"
     },
     "user_tz": -120
    },
    "id": "4x5IckvAPnIF",
    "outputId": "8cb85be2-38ab-4c01-fe19-67e216eed821"
   },
   "outputs": [],
   "source": [
    "objects_v = list(Shap_dictionary_a_p.keys())\n",
    "sizes_shap_a_p = list(Shap_dictionary_a_p.values())\n",
    "sizes_shap_a_p = np.asarray(sizes_shap_a_p)\n",
    "sizes_shap_a_p = np.absolute(sizes_shap_a_p)\n",
    "sizes_shap_a_p[:] = [x / 1000 for x in sizes_shap_a_p]\n",
    "sizes_shap_a_n = list(Shap_dictionary_a_n.values())\n",
    "sizes_shap_a_n = np.asarray(sizes_shap_a_n)\n",
    "sizes_shap_a_n = np.absolute(sizes_shap_a_n)\n",
    "sizes_shap_a_n[:] = [x / 1000 for x in sizes_shap_a_n]\n",
    "y_pos = np.arange(len(objects_v))\n",
    "\n",
    "width = 0.4  # the width of the bars\n",
    "\n",
    "fig, ax = plt.subplots(figsize=(10,10))\n",
    "\n",
    "rects1 = ax.bar(y_pos - width/2, sizes_shap_a_p, width, label='Positive')\n",
    "rects2 = ax.bar(y_pos + width/2, sizes_shap_a_n, width, label='Negative')\n",
    "\n",
    "# Add some text for labels, title and custom x-axis tick labels, etc.\n",
    "ax.set_ylabel('Contributo alla valence')\n",
    "ax.set_title('Arousal Shap')\n",
    "ax.set_xticks(y_pos, objects_v, rotation =90)\n",
    "ax.legend()\n",
    "\n",
    "ax.bar_label(rects1, padding=3, rotation=90)\n",
    "ax.bar_label(rects2, padding=3, rotation=90)\n",
    "\n",
    "fig.tight_layout()"
   ]
  },
  {
   "cell_type": "code",
   "execution_count": null,
   "metadata": {
    "colab": {
     "base_uri": "https://localhost:8080/",
     "height": 973
    },
    "executionInfo": {
     "elapsed": 1143,
     "status": "ok",
     "timestamp": 1649861047848,
     "user": {
      "displayName": "Gennaro Castaldo",
      "userId": "04055270946788705237"
     },
     "user_tz": -120
    },
    "id": "NXaTOYxnWdar",
    "outputId": "b516d51c-11c8-4a3f-c22f-0921d08a425b"
   },
   "outputs": [],
   "source": [
    "fig, ax = plt.subplots(figsize=(10,10))\n",
    "\n",
    "rects1 = ax.bar(y_pos - width/2, sizes_shap_v_p, width, label='Valence')\n",
    "rects2 = ax.bar(y_pos + width/2, sizes_shap_a_p, width, label='Arousal')\n",
    "\n",
    "# Add some text for labels, title and custom x-axis tick labels, etc.\n",
    "ax.set_ylabel('Contributo positivo')\n",
    "ax.set_title('Confronto Valence Arousal')\n",
    "ax.set_xticks(y_pos, objects_v, rotation =90)\n",
    "ax.legend()\n",
    "ax.bar_label(rects1, padding=3, rotation=90)\n",
    "ax.bar_label(rects2, padding=3, rotation=90)"
   ]
  },
  {
   "cell_type": "code",
   "execution_count": null,
   "metadata": {
    "colab": {
     "base_uri": "https://localhost:8080/",
     "height": 961
    },
    "executionInfo": {
     "elapsed": 1345,
     "status": "ok",
     "timestamp": 1649861049186,
     "user": {
      "displayName": "Gennaro Castaldo",
      "userId": "04055270946788705237"
     },
     "user_tz": -120
    },
    "id": "Sbn1gMS5XMwM",
    "outputId": "6826fc5e-5696-4164-d483-6c08985b3fb6"
   },
   "outputs": [],
   "source": [
    "fig, ax = plt.subplots(figsize=(10,10))\n",
    "\n",
    "rects1 = ax.bar(y_pos - width/2, sizes_shap_v_n, width, label='Valence')\n",
    "rects2 = ax.bar(y_pos + width/2, sizes_shap_a_n, width, label='Arousal')\n",
    "\n",
    "# Add some text for labels, title and custom x-axis tick labels, etc.\n",
    "ax.set_ylabel('Contributo negativo')\n",
    "ax.set_title('Confronto Valence Arousal')\n",
    "ax.set_xticks(y_pos, objects_v, rotation =90)\n",
    "ax.legend()\n",
    "ax.bar_label(rects1, padding=3, rotation=90)\n",
    "ax.bar_label(rects2, padding=3, rotation=90)"
   ]
  },
  {
   "cell_type": "code",
   "execution_count": null,
   "metadata": {
    "colab": {
     "base_uri": "https://localhost:8080/",
     "height": 726
    },
    "executionInfo": {
     "elapsed": 1970,
     "status": "ok",
     "timestamp": 1649861051153,
     "user": {
      "displayName": "Gennaro Castaldo",
      "userId": "04055270946788705237"
     },
     "user_tz": -120
    },
    "id": "ue6kfBxiOEol",
    "outputId": "5aa065bc-1b2b-4a9f-b460-a943c573d137"
   },
   "outputs": [],
   "source": [
    "objects_v = list(Pastle_dictionary_v_p.keys())\n",
    "sizes_Pastle_v_p = list(Pastle_dictionary_v_p.values())\n",
    "sizes_Pastle_v_p = np.asarray(sizes_Pastle_v_p)\n",
    "sizes_Pastle_v_p = np.absolute(sizes_Pastle_v_p)\n",
    "sizes_Pastle_v_p[:] = [x / 1000000 for x in sizes_Pastle_v_p]\n",
    "sizes_Pastle_v_n = list(Pastle_dictionary_v_n.values())\n",
    "sizes_Pastle_v_n = np.asarray(sizes_Pastle_v_n)\n",
    "sizes_Pastle_v_n = np.absolute(sizes_Pastle_v_n)\n",
    "sizes_Pastle_v_n[:] = [x / 1000000 for x in sizes_Pastle_v_n]\n",
    "y_pos = np.arange(len(objects_v))\n",
    "\n",
    "\n",
    "\n",
    "width = 0.4  # the width of the bars\n",
    "\n",
    "\n",
    "\n",
    "fig, ax = plt.subplots(figsize=(10,10))\n",
    "\n",
    "rects1 = ax.bar(y_pos - width/2, sizes_Pastle_v_p, width, label='Positive')\n",
    "rects2 = ax.bar(y_pos + width/2, sizes_Pastle_v_n, width, label='Negative')\n",
    "\n",
    "# Add some text for labels, title and custom x-axis tick labels, etc.\n",
    "ax.set_ylabel('Contributo alla Valence')\n",
    "ax.set_title('Valence Pastle')\n",
    "ax.set_xticks(y_pos, objects_v, rotation =90)\n",
    "ax.legend()\n",
    "\n",
    "ax.bar_label(rects1, padding=3, rotation=90)\n",
    "ax.bar_label(rects2, padding=3, rotation=90)\n",
    "\n",
    "fig.tight_layout()"
   ]
  },
  {
   "cell_type": "code",
   "execution_count": null,
   "metadata": {
    "colab": {
     "base_uri": "https://localhost:8080/",
     "height": 726
    },
    "executionInfo": {
     "elapsed": 2685,
     "status": "ok",
     "timestamp": 1649861053830,
     "user": {
      "displayName": "Gennaro Castaldo",
      "userId": "04055270946788705237"
     },
     "user_tz": -120
    },
    "id": "wMzDn99NOEhn",
    "outputId": "5907497a-7c97-4d5c-8e6b-929947f4db83"
   },
   "outputs": [],
   "source": [
    "objects_v = list(Pastle_dictionary_a_p.keys())\n",
    "sizes_Pastle_a_p = list(Pastle_dictionary_a_p.values())\n",
    "sizes_Pastle_a_p = np.asarray(sizes_Pastle_a_p)\n",
    "sizes_Pastle_a_p = np.absolute(sizes_Pastle_a_p)\n",
    "sizes_Pastle_a_p[:] = [x / 1000000 for x in sizes_Pastle_a_p]\n",
    "sizes_Pastle_a_n = list(Pastle_dictionary_a_n.values())\n",
    "sizes_Pastle_a_n = np.asarray(sizes_Pastle_a_n)\n",
    "sizes_Pastle_a_n = np.absolute(sizes_Pastle_a_n)\n",
    "sizes_Pastle_a_n[:] = [x / 1000000 for x in sizes_Pastle_a_n]\n",
    "y_pos = np.arange(len(objects_v))\n",
    "\n",
    "width = 0.4 # the width of the bars\n",
    "\n",
    "\n",
    "\n",
    "fig, ax = plt.subplots(figsize=(10,10))\n",
    "\n",
    "rects1 = ax.bar(y_pos - width/2, sizes_Pastle_a_p, width, label='Positive')\n",
    "rects2 = ax.bar(y_pos + width/2, sizes_Pastle_a_n, width, label='Negative')\n",
    "\n",
    "# Add some text for labels, title and custom x-axis tick labels, etc.\n",
    "ax.set_ylabel('Contributo al Arousal')\n",
    "ax.set_title('Arousal Pastle')\n",
    "ax.set_xticks(y_pos, objects_v, rotation =90)\n",
    "ax.legend()\n",
    "\n",
    "ax.bar_label(rects1, padding=3, rotation=90)\n",
    "ax.bar_label(rects2, padding=3, rotation=90)\n",
    "\n",
    "fig.tight_layout()"
   ]
  },
  {
   "cell_type": "code",
   "execution_count": null,
   "metadata": {
    "colab": {
     "base_uri": "https://localhost:8080/",
     "height": 1000
    },
    "executionInfo": {
     "elapsed": 2119,
     "status": "ok",
     "timestamp": 1649861055942,
     "user": {
      "displayName": "Gennaro Castaldo",
      "userId": "04055270946788705237"
     },
     "user_tz": -120
    },
    "id": "EP71h36oXTTp",
    "outputId": "25bbdb24-f007-439f-d980-e9f4949030a2"
   },
   "outputs": [],
   "source": [
    "fig, ax = plt.subplots(figsize=(10,10))\n",
    "\n",
    "rects1 = ax.bar(y_pos - width/2, sizes_Pastle_v_p, width, label='Valence')\n",
    "rects2 = ax.bar(y_pos + width/2, sizes_Pastle_a_p, width, label='Arousal')\n",
    "\n",
    "# Add some text for labels, title and custom x-axis tick labels, etc.\n",
    "ax.set_ylabel('Contributo positivo')\n",
    "ax.set_title('Confronto Valence Arousal')\n",
    "ax.set_xticks(y_pos, objects_v, rotation =90)\n",
    "ax.legend()\n",
    "ax.bar_label(rects1, padding=3, rotation=90)\n",
    "ax.bar_label(rects2, padding=3, rotation=90)"
   ]
  },
  {
   "cell_type": "code",
   "execution_count": null,
   "metadata": {
    "colab": {
     "base_uri": "https://localhost:8080/",
     "height": 1000
    },
    "executionInfo": {
     "elapsed": 1949,
     "status": "ok",
     "timestamp": 1649861057879,
     "user": {
      "displayName": "Gennaro Castaldo",
      "userId": "04055270946788705237"
     },
     "user_tz": -120
    },
    "id": "tqHPRShdXeuV",
    "outputId": "97b92ecf-7904-40c9-c2b7-58253397d625"
   },
   "outputs": [],
   "source": [
    "fig, ax = plt.subplots(figsize=(10,10))\n",
    "\n",
    "rects1 = ax.bar(y_pos - width/2, sizes_Pastle_v_n, width, label='Valence')\n",
    "rects2 = ax.bar(y_pos + width/2, sizes_Pastle_a_n, width, label='Arousal')\n",
    "\n",
    "# Add some text for labels, title and custom x-axis tick labels, etc.\n",
    "ax.set_ylabel('Contributo negativo')\n",
    "ax.set_title('Confronto Valence Arousal')\n",
    "ax.set_xticks(y_pos, objects_v, rotation =90)\n",
    "ax.legend()\n",
    "ax.bar_label(rects1, padding=3, rotation=90)\n",
    "ax.bar_label(rects2, padding=3, rotation=90)"
   ]
  },
  {
   "cell_type": "code",
   "execution_count": null,
   "metadata": {
    "id": "wdNEP4VXYo2u"
   },
   "outputs": [],
   "source": [
    "import json\n",
    "f = open('/content/drive/MyDrive/Colab Notebooks/Shap_dictionary_v_p.json')\n",
    "Shap_dictionary_v_p = json.load(f)\n",
    "print(Shap_dictionary_v_p)\n",
    "\n",
    "f = open('/content/drive/MyDrive/Colab Notebooks/Shap_dictionary_v_n.json')\n",
    "Shap_dictionary_v_n = json.load(f)\n",
    "print(Shap_dictionary_v_n)\n",
    "\n",
    "f = open('/content/drive/MyDrive/Colab Notebooks/Shap_dictionary_a_p.json')\n",
    "Shap_dictionary_a_p = json.load(f)\n",
    "print(Shap_dictionary_a_p)\n",
    "\n",
    "f = open('/content/drive/MyDrive/Colab Notebooks/Shap_dictionary_a_n.json')\n",
    "Shap_dictionary_a_n = json.load(f)\n",
    "print(Shap_dictionary_a_n)\n",
    "\n",
    "f = open('/content/drive/MyDrive/Colab Notebooks/LIME_dictionary_v_p.json')\n",
    "LIME_dictionary_v_p = json.load(f)\n",
    "print(LIME_dictionary_v_p)\n",
    "\n",
    "f = open('/content/drive/MyDrive/Colab Notebooks/LIME_dictionary_v_n.json')\n",
    "LIME_dictionary_v_n = json.load(f)\n",
    "print(LIME_dictionary_v_n)\n",
    "\n",
    "f = open('/content/drive/MyDrive/Colab Notebooks/LIME_dictionary_a_p.json')\n",
    "LIME_dictionary_a_p = json.load(f)\n",
    "print(LIME_dictionary_a_p)\n",
    "\n",
    "f = open('/content/drive/MyDrive/Colab Notebooks/LIME_dictionary_a_n.json')\n",
    "LIME_dictionary_a_n = json.load(f)\n",
    "print(LIME_dictionary_a_n)\n",
    "\n",
    "f = open('/content/drive/MyDrive/Colab Notebooks/Pastle_dictionary_v_p.json')\n",
    "Pastle_dictionary_v_p = json.load(f)\n",
    "print(Pastle_dictionary_v_p)\n",
    "\n",
    "f = open('/content/drive/MyDrive/Colab Notebooks/Pastle_dictionary_v_n.json')\n",
    "Pastle_dictionary_v_n = json.load(f)\n",
    "print(Pastle_dictionary_v_n)\n",
    "\n",
    "f = open('/content/drive/MyDrive/Colab Notebooks/Pastle_dictionary_a_p.json')\n",
    "Pastle_dictionary_a_p = json.load(f)\n",
    "print(Pastle_dictionary_a_p)\n",
    "\n",
    "f = open('/content/drive/MyDrive/Colab Notebooks/Pastle_dictionary_a_n.json')\n",
    "Pastle_dictionary_a_n = json.load(f)\n",
    "print(Pastle_dictionary_a_n)"
   ]
  },
  {
   "cell_type": "code",
   "execution_count": null,
   "metadata": {
    "executionInfo": {
     "elapsed": 435,
     "status": "ok",
     "timestamp": 1652175175044,
     "user": {
      "displayName": "Gennaro Castaldo",
      "userId": "04055270946788705237"
     },
     "user_tz": -120
    },
    "id": "EVSAUFTA4c5I"
   },
   "outputs": [],
   "source": [
    "sizes_Lime_v_p = list(LIME_dictionary_v_p.values())\n",
    "sizes_Lime_v_p = np.asarray(sizes_Lime_v_p)\n",
    "sizes_Lime_v_p = np.absolute(sizes_Lime_v_p)\n",
    "sizes_Lime_v_p[:] = [x / 1000 for x in sizes_Lime_v_p]\n",
    "sizes_Lime_v_n = list(LIME_dictionary_v_n.values())\n",
    "sizes_Lime_v_n = np.asarray(sizes_Lime_v_n)\n",
    "sizes_Lime_v_n = np.absolute(sizes_Lime_v_n)\n",
    "sizes_Lime_v_n[:] = [x / 1000 for x in sizes_Lime_v_n]\n",
    "sizes_Lime_a_p = list(LIME_dictionary_a_p.values())\n",
    "sizes_Lime_a_p = np.asarray(sizes_Lime_a_p)\n",
    "sizes_Lime_a_p = np.absolute(sizes_Lime_a_p)\n",
    "sizes_Lime_a_p[:] = [x / 1000 for x in sizes_Lime_a_p]\n",
    "sizes_Lime_a_n = list(LIME_dictionary_a_n.values())\n",
    "sizes_Lime_a_n = np.asarray(sizes_Lime_a_n)\n",
    "sizes_Lime_a_n = np.absolute(sizes_Lime_a_n)\n",
    "sizes_Lime_a_n[:] = [x / 1000 for x in sizes_Lime_a_n]\n",
    "\n",
    "sizes_shap_v_p = list(Shap_dictionary_v_p.values())\n",
    "sizes_shap_v_p = np.asarray(sizes_shap_v_p)\n",
    "sizes_shap_v_p = np.absolute(sizes_shap_v_p)\n",
    "sizes_shap_v_p[:] = [x / 1000 for x in sizes_shap_v_p]\n",
    "sizes_shap_v_n = list(Shap_dictionary_v_n.values())\n",
    "sizes_shap_v_n = np.asarray(sizes_shap_v_n)\n",
    "sizes_shap_v_n = np.absolute(sizes_shap_v_n)\n",
    "sizes_shap_v_n[:] = [x / 1000 for x in sizes_shap_v_n]\n",
    "sizes_shap_a_p = list(Shap_dictionary_a_p.values())\n",
    "sizes_shap_a_p = np.asarray(sizes_shap_a_p)\n",
    "sizes_shap_a_p = np.absolute(sizes_shap_a_p)\n",
    "sizes_shap_a_p[:] = [x / 1000 for x in sizes_shap_a_p]\n",
    "sizes_shap_a_n = list(Shap_dictionary_a_n.values())\n",
    "sizes_shap_a_n = np.asarray(sizes_shap_a_n)\n",
    "sizes_shap_a_n = np.absolute(sizes_shap_a_n)\n",
    "sizes_shap_a_n[:] = [x / 1000 for x in sizes_shap_a_n]\n",
    "\n"
   ]
  },
  {
   "cell_type": "code",
   "execution_count": null,
   "metadata": {
    "colab": {
     "base_uri": "https://localhost:8080/",
     "height": 728
    },
    "executionInfo": {
     "elapsed": 1731,
     "status": "ok",
     "timestamp": 1652175551498,
     "user": {
      "displayName": "Gennaro Castaldo",
      "userId": "04055270946788705237"
     },
     "user_tz": -120
    },
    "id": "KsikP5abXpag",
    "outputId": "dcf79589-5d8d-4c6e-97a4-c44de23363af"
   },
   "outputs": [],
   "source": [
    "#Confronto LIME SHAP\n",
    "\n",
    "objects_v = list(Shap_dictionary_a_p.keys())\n",
    "y_pos = np.arange(len(objects_v))\n",
    "\n",
    "width = 0.4 # the width of the bars\n",
    "\n",
    "\n",
    "fig, ax = plt.subplots(figsize=(10, 10))\n",
    "\n",
    "rects1 = ax.bar(y_pos - width/2, sizes_Lime_a_p, width, label='Lime')\n",
    "rects2 = ax.bar(y_pos + width/2, sizes_shap_a_p, width, label='Shap')\n",
    "\n",
    "# Add some text for labels, title and custom x-axis tick labels, etc.\n",
    "ax.set_ylabel('Positive Contribution')\n",
    "ax.set_title('Arousal LIME-SHAP  Positive Contribution')\n",
    "ax.set_xticks(y_pos, objects_v, rotation =90)\n",
    "\n",
    "ax.legend()\n",
    "\n",
    "\n",
    "ax.bar_label(rects1, padding=1, rotation=90)\n",
    "ax.bar_label(rects2, padding=1, rotation=90)\n",
    "\n",
    "fig.tight_layout()"
   ]
  },
  {
   "cell_type": "code",
   "execution_count": null,
   "metadata": {
    "colab": {
     "base_uri": "https://localhost:8080/",
     "height": 727
    },
    "executionInfo": {
     "elapsed": 1480,
     "status": "ok",
     "timestamp": 1652175369407,
     "user": {
      "displayName": "Gennaro Castaldo",
      "userId": "04055270946788705237"
     },
     "user_tz": -120
    },
    "id": "kT0B7lDIMFxb",
    "outputId": "df019841-a55f-48f3-c25a-5462bc4f6902"
   },
   "outputs": [],
   "source": [
    "#Confronto LIME SHAP\n",
    "\n",
    "fig, ax = plt.subplots(figsize=(10,10))\n",
    "\n",
    "rects1 = ax.bar(y_pos - width/2, sizes_Lime_a_n, width, label='Lime')\n",
    "rects2 = ax.bar(y_pos + width/2, sizes_shap_a_n, width, label='Shap')\n",
    "\n",
    "# Add some text for labels, title and custom x-axis tick labels, etc.\n",
    "ax.set_ylabel('Negative Contribution')\n",
    "ax.set_title('Arousal LIME-SHAP Negative Contribution')\n",
    "ax.set_xticks(y_pos, objects_v, rotation =90)\n",
    "ax.legend()\n",
    "\n",
    "ax.bar_label(rects1, padding=1, rotation=90)\n",
    "ax.bar_label(rects2, padding=1, rotation=90)\n",
    "\n",
    "fig.tight_layout()"
   ]
  },
  {
   "cell_type": "code",
   "execution_count": null,
   "metadata": {
    "colab": {
     "base_uri": "https://localhost:8080/",
     "height": 727
    },
    "executionInfo": {
     "elapsed": 1776,
     "status": "ok",
     "timestamp": 1652175584660,
     "user": {
      "displayName": "Gennaro Castaldo",
      "userId": "04055270946788705237"
     },
     "user_tz": -120
    },
    "id": "rTAr8o9nY7yx",
    "outputId": "ae9e5cdf-7822-4914-8aae-dd2eabe36a60"
   },
   "outputs": [],
   "source": [
    "#Confronto LIME SHAP\n",
    "\n",
    "fig, ax = plt.subplots(figsize=(10,10))\n",
    "\n",
    "rects1 = ax.bar(y_pos - width/2, sizes_Lime_v_p, width, label='Lime')\n",
    "rects2 = ax.bar(y_pos + width/2, sizes_shap_v_p, width, label='Shap')\n",
    "\n",
    "# Add some text for labels, title and custom x-axis tick labels, etc.\n",
    "ax.set_ylabel('Positive Contribution')\n",
    "ax.set_title('Valence LIME-SHAP Positive Contribution')\n",
    "ax.set_xticks(y_pos, objects_v, rotation =90)\n",
    "\n",
    "ax.legend()\n",
    "\n",
    "ax.bar_label(rects1, padding=1, rotation=90)\n",
    "ax.bar_label(rects2, padding=1, rotation=90)\n",
    "\n",
    "fig.tight_layout()\n"
   ]
  },
  {
   "cell_type": "code",
   "execution_count": null,
   "metadata": {
    "colab": {
     "base_uri": "https://localhost:8080/",
     "height": 729
    },
    "executionInfo": {
     "elapsed": 1675,
     "status": "ok",
     "timestamp": 1652175603867,
     "user": {
      "displayName": "Gennaro Castaldo",
      "userId": "04055270946788705237"
     },
     "user_tz": -120
    },
    "id": "ESM6ZeBEMNaQ",
    "outputId": "d4da1993-0737-4136-8a7f-c1f2d17b255c"
   },
   "outputs": [],
   "source": [
    "#Confronto LIME SHAP\n",
    "\n",
    "fig, ax = plt.subplots(figsize=(10,10))\n",
    "\n",
    "rects1 = ax.bar(y_pos - width/2, sizes_Lime_v_n, width, label='Lime')\n",
    "rects2 = ax.bar(y_pos + width/2, sizes_shap_v_n, width, label='Shap')\n",
    "\n",
    "# Add some text for labels, title and custom x-axis tick labels, etc.\n",
    "ax.set_ylabel('Negative Contribution')\n",
    "ax.set_title('Valence LIME-SHAP Negative Contribution')\n",
    "ax.set_xticks(y_pos, objects_v, rotation =90)\n",
    "ax.set_ylim(0.00, 0.10)\n",
    "ax.legend()\n",
    "\n",
    "ax.bar_label(rects1, padding=1, rotation=90)\n",
    "ax.bar_label(rects2, padding=1, rotation=90)\n",
    "\n",
    "fig.tight_layout()"
   ]
  }
 ],
 "metadata": {
  "colab": {
   "authorship_tag": "ABX9TyO9y+PpR+U2ujetKmB0Ah2y",
   "collapsed_sections": [],
   "name": "Risultati.ipynb",
   "provenance": []
  },
  "kernelspec": {
   "display_name": "Python 3",
   "language": "python",
   "name": "python3"
  },
  "language_info": {
   "codemirror_mode": {
    "name": "ipython",
    "version": 3
   },
   "file_extension": ".py",
   "mimetype": "text/x-python",
   "name": "python",
   "nbconvert_exporter": "python",
   "pygments_lexer": "ipython3",
   "version": "3.8.5"
  }
 },
 "nbformat": 4,
 "nbformat_minor": 1
}
