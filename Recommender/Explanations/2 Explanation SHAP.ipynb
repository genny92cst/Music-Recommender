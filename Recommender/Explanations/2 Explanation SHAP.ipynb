{
 "cells": [
  {
   "cell_type": "code",
   "execution_count": null,
   "metadata": {
    "colab": {
     "base_uri": "https://localhost:8080/"
    },
    "executionInfo": {
     "elapsed": 6,
     "status": "ok",
     "timestamp": 1649084975693,
     "user": {
      "displayName": "Gennaro Castaldo",
      "userId": "04055270946788705237"
     },
     "user_tz": -120
    },
    "id": "mmGII0gAQOBu",
    "outputId": "d5a130ef-52b0-4700-d1b5-2235c283f456"
   },
   "outputs": [],
   "source": [
    "%%writefile requirements.txt\n",
    "shap==0.24\n",
    "keras\n",
    "pandas\n",
    "tensorflow"
   ]
  },
  {
   "cell_type": "code",
   "execution_count": null,
   "metadata": {
    "id": "xgMMG0h8QXl6"
   },
   "outputs": [],
   "source": [
    "!pip install -r requirements.txt\n"
   ]
  },
  {
   "cell_type": "code",
   "execution_count": null,
   "metadata": {
    "id": "Oi0l5IvlIdyy"
   },
   "outputs": [],
   "source": [
    "pip install scikeras[tensorflow]"
   ]
  },
  {
   "cell_type": "code",
   "execution_count": null,
   "metadata": {
    "colab": {
     "base_uri": "https://localhost:8080/"
    },
    "executionInfo": {
     "elapsed": 18862,
     "status": "ok",
     "timestamp": 1649085032444,
     "user": {
      "displayName": "Gennaro Castaldo",
      "userId": "04055270946788705237"
     },
     "user_tz": -120
    },
    "id": "dePX-aSTWBck",
    "outputId": "1f10e06f-0efb-4a70-d231-f88c890631b4"
   },
   "outputs": [],
   "source": [
    "from google.colab import drive\n",
    "drive.mount('/content/drive')"
   ]
  },
  {
   "cell_type": "code",
   "execution_count": null,
   "metadata": {
    "id": "YY2Q2ql9NFHc"
   },
   "outputs": [],
   "source": [
    "import numpy as np\n",
    "import pandas as pd\n",
    "import matplotlib.pyplot as plt\n",
    "import sklearn.metrics as sk\n",
    "#from scikeras.wrappers import KerasRegressor\n",
    "from sklearn.model_selection import train_test_split\n",
    "from sklearn.model_selection import KFold\n",
    "from sklearn.preprocessing import StandardScaler"
   ]
  },
  {
   "cell_type": "code",
   "execution_count": null,
   "metadata": {
    "colab": {
     "base_uri": "https://localhost:8080/"
    },
    "executionInfo": {
     "elapsed": 1243,
     "status": "ok",
     "timestamp": 1649085035270,
     "user": {
      "displayName": "Gennaro Castaldo",
      "userId": "04055270946788705237"
     },
     "user_tz": -120
    },
    "id": "BgCG-V-GkLQZ",
    "outputId": "df056686-3938-4af7-8645-554f33cd35ac"
   },
   "outputs": [],
   "source": [
    "df = pd.read_csv('/content/drive/MyDrive/Colab Notebooks/Dati/dataset_taggato.csv', sep = ';')\n",
    "\n",
    "#display(df)"
   ]
  },
  {
   "cell_type": "code",
   "execution_count": null,
   "metadata": {
    "id": "vdktEBrSJoTq"
   },
   "outputs": [],
   "source": [
    "x = df.iloc[: , 1:16]\n",
    "cols = x.columns\n",
    "x[cols] = x[cols].replace(',','.', regex = True)\n",
    "x[cols] = x[cols].apply(pd.to_numeric,downcast='float', errors='raise')\n",
    "x = x.astype('float64')\n",
    "\n",
    "scaler = StandardScaler()\n",
    "\n",
    "x = pd.DataFrame(scaler.fit_transform(x.values), columns=x.columns, index=x.index)\n",
    "\n",
    "#display(x)\n",
    "\n",
    "#print(x.dtypes)"
   ]
  },
  {
   "cell_type": "code",
   "execution_count": null,
   "metadata": {
    "id": "lPxvoaESPe-o"
   },
   "outputs": [],
   "source": [
    "from sklearn.preprocessing import MinMaxScaler\n",
    "scaler2 = MinMaxScaler()\n",
    "y = df.iloc[: , 28:30]\n",
    "cols = y.columns\n",
    "y[cols] = y[cols].replace(',','.', regex = True)\n",
    "\n",
    "y[cols] = y[cols].apply(pd.to_numeric,downcast='float', errors='raise')\n",
    "\n",
    "y = pd.DataFrame(scaler2.fit_transform(y.values), columns=y.columns, index=y.index)\n",
    "\n",
    "#display(y.head(100))\n",
    "#print(y.dtypes)"
   ]
  },
  {
   "cell_type": "code",
   "execution_count": null,
   "metadata": {
    "id": "_E0xpfkSMsIJ"
   },
   "outputs": [],
   "source": [
    "df2 = pd.concat([x, y], axis=1, join=\"inner\")\n",
    "df2.to_csv(\"/content/drive/MyDrive/Colab Notebooks/Dati/df2\")"
   ]
  },
  {
   "cell_type": "code",
   "execution_count": null,
   "metadata": {
    "id": "BmSpdn6rtH0A"
   },
   "outputs": [],
   "source": [
    "x_train, x_test, y_train, y_test = train_test_split(x, y, test_size = 0.2, random_state = 42)"
   ]
  },
  {
   "cell_type": "code",
   "execution_count": null,
   "metadata": {
    "id": "MP1yCGdO9ovH"
   },
   "outputs": [],
   "source": [
    "import tensorflow as tf\n",
    "from tensorflow import keras\n",
    "model = keras.models.load_model(\"/content/drive/MyDrive/Colab Notebooks/nn_model\")"
   ]
  },
  {
   "cell_type": "code",
   "execution_count": null,
   "metadata": {
    "id": "C1M_FgOuLxaX"
   },
   "outputs": [],
   "source": [
    "predictions = model.predict(x_test)"
   ]
  },
  {
   "cell_type": "code",
   "execution_count": null,
   "metadata": {
    "colab": {
     "base_uri": "https://localhost:8080/"
    },
    "executionInfo": {
     "elapsed": 10,
     "status": "ok",
     "timestamp": 1649085046083,
     "user": {
      "displayName": "Gennaro Castaldo",
      "userId": "04055270946788705237"
     },
     "user_tz": -120
    },
    "id": "peAetMz5L31g",
    "outputId": "72caa044-8c8b-4b09-d4bf-70ddea9376bb"
   },
   "outputs": [],
   "source": [
    "l = 2000\n",
    "print(predictions[l])\n",
    "print(y_test.iloc[l])"
   ]
  },
  {
   "cell_type": "markdown",
   "metadata": {
    "id": "c5KM2WpdJyvo"
   },
   "source": [
    "#SHAP"
   ]
  },
  {
   "cell_type": "code",
   "execution_count": null,
   "metadata": {
    "colab": {
     "base_uri": "https://localhost:8080/",
     "height": 42
    },
    "executionInfo": {
     "elapsed": 1998,
     "status": "ok",
     "timestamp": 1649085048075,
     "user": {
      "displayName": "Gennaro Castaldo",
      "userId": "04055270946788705237"
     },
     "user_tz": -120
    },
    "id": "jJARsWigoYX5",
    "outputId": "66411245-1035-4cac-9329-26d315e2e91f"
   },
   "outputs": [],
   "source": [
    "import shap\n",
    "shap.initjs() "
   ]
  },
  {
   "cell_type": "code",
   "execution_count": null,
   "metadata": {
    "id": "S5Sa5kHlocOU"
   },
   "outputs": [],
   "source": [
    "explainer = shap.KernelExplainer(model = model.predict, data = x_train.head(1000), link = \"identity\")\n",
    "X_idx = l\n",
    "\n",
    "shap_value_single = explainer.shap_values(X = x_test.iloc[X_idx:X_idx+1,:], nsamples = 'auto')"
   ]
  },
  {
   "cell_type": "code",
   "execution_count": null,
   "metadata": {
    "id": "byJc-U7_smRi"
   },
   "outputs": [],
   "source": [
    "import ipywidgets as widgets"
   ]
  },
  {
   "cell_type": "code",
   "execution_count": null,
   "metadata": {
    "colab": {
     "base_uri": "https://localhost:8080/",
     "height": 49,
     "referenced_widgets": [
      "51518af8faaa473a85885a0442c9b08b",
      "cd9b204af5824c2194e976d9b1612b97",
      "706e3e0a6d2a44b8a042c1be851c8b18"
     ]
    },
    "executionInfo": {
     "elapsed": 36,
     "status": "ok",
     "timestamp": 1648627418608,
     "user": {
      "displayName": "Gennaro Castaldo",
      "userId": "04055270946788705237"
     },
     "user_tz": -120
    },
    "id": "wyLJEr2DtCSy",
    "outputId": "222d90a6-36a5-41db-b34f-13bf571a6513"
   },
   "outputs": [],
   "source": [
    "list_of_labels = y_train.columns.to_list()\n",
    "\n",
    "tuple_of_labels = list(zip(list_of_labels, range(len(list_of_labels))))\n",
    "\n",
    "current_label = widgets.Dropdown(options=tuple_of_labels, value=0, description='Select Label:')\n",
    "\n",
    "current_label"
   ]
  },
  {
   "cell_type": "code",
   "execution_count": null,
   "metadata": {
    "colab": {
     "base_uri": "https://localhost:8080/",
     "height": 211
    },
    "executionInfo": {
     "elapsed": 30,
     "status": "ok",
     "timestamp": 1648627419503,
     "user": {
      "displayName": "Gennaro Castaldo",
      "userId": "04055270946788705237"
     },
     "user_tz": -120
    },
    "id": "IXHa2-30ta1n",
    "outputId": "b4ab640c-ca9a-4c09-fa9c-37b11ba22f52"
   },
   "outputs": [],
   "source": [
    "shap.initjs()\n",
    "\n",
    "print(f'Current label Shown: {list_of_labels[current_label.value]}')\n",
    "\n",
    "shap.force_plot(base_value = explainer.expected_value[current_label.value],\n",
    "                shap_values = shap_value_single[current_label.value], \n",
    "                features = x_train.iloc[X_idx:X_idx+1,:]\n",
    "                )\n"
   ]
  },
  {
   "cell_type": "code",
   "execution_count": null,
   "metadata": {
    "colab": {
     "base_uri": "https://localhost:8080/",
     "height": 477
    },
    "executionInfo": {
     "elapsed": 966,
     "status": "ok",
     "timestamp": 1648627420447,
     "user": {
      "displayName": "Gennaro Castaldo",
      "userId": "04055270946788705237"
     },
     "user_tz": -120
    },
    "id": "zSLuSyQWsyJK",
    "outputId": "c6469ddf-7d91-4f30-b48e-eada6c4f1306"
   },
   "outputs": [],
   "source": [
    "shap.summary_plot(\n",
    "                shap_values = shap_value_single[current_label.value], \n",
    "                features = x_train.iloc[X_idx:X_idx+1,:]\n",
    "                )"
   ]
  },
  {
   "cell_type": "code",
   "execution_count": null,
   "metadata": {
    "colab": {
     "base_uri": "https://localhost:8080/"
    },
    "executionInfo": {
     "elapsed": 66,
     "status": "ok",
     "timestamp": 1648627420448,
     "user": {
      "displayName": "Gennaro Castaldo",
      "userId": "04055270946788705237"
     },
     "user_tz": -120
    },
    "id": "mJkqayZoE8Bn",
    "outputId": "9ed1cf47-05f7-4008-8094-3045fd042406"
   },
   "outputs": [],
   "source": [
    "print((shap_value_single[current_label.value]))\n",
    "print(x_train.columns.to_list())"
   ]
  },
  {
   "cell_type": "code",
   "execution_count": null,
   "metadata": {
    "colab": {
     "base_uri": "https://localhost:8080/",
     "height": 211
    },
    "executionInfo": {
     "elapsed": 53,
     "status": "ok",
     "timestamp": 1648627420451,
     "user": {
      "displayName": "Gennaro Castaldo",
      "userId": "04055270946788705237"
     },
     "user_tz": -120
    },
    "id": "6v_k8u6jRd9X",
    "outputId": "2a97f3d8-c0fc-44bb-fb32-1851e4aaa500"
   },
   "outputs": [],
   "source": [
    "shap.initjs()\n",
    "\n",
    "print(f'Current label Shown: {list_of_labels[current_label.value]}')\n",
    "\n",
    "shap.force_plot(base_value = explainer.expected_value[current_label.value],\n",
    "                shap_values = shap_value_single[current_label.value], \n",
    "                features = x_train.iloc[X_idx:X_idx+1,:]\n",
    "                )"
   ]
  },
  {
   "cell_type": "code",
   "execution_count": null,
   "metadata": {
    "colab": {
     "base_uri": "https://localhost:8080/"
    },
    "executionInfo": {
     "elapsed": 4461979,
     "status": "ok",
     "timestamp": 1649090395878,
     "user": {
      "displayName": "Gennaro Castaldo",
      "userId": "04055270946788705237"
     },
     "user_tz": -120
    },
    "id": "Z1L4CV1ftpuK",
    "outputId": "4aa4f8c1-7bad-4f6d-e451-d5032ad90c2b"
   },
   "outputs": [],
   "source": [
    "shap_values = explainer.shap_values(X = x_test.iloc[0:1000,:], nsamples = 100)"
   ]
  },
  {
   "cell_type": "code",
   "execution_count": null,
   "metadata": {
    "id": "gA0_oQP1t3Dk"
   },
   "outputs": [],
   "source": [
    "shap.initjs()\n",
    "\n",
    "print(f'Current Label Shown: {list_of_labels[current_label.value]}\\n')\n",
    "\n",
    "shap.summary_plot(shap_values = shap_values[current_label.value],\n",
    "                  features = x_train.iloc[0:300,:]\n",
    "                  ) "
   ]
  },
  {
   "cell_type": "code",
   "execution_count": null,
   "metadata": {
    "id": "EY9olaXGvXS2"
   },
   "outputs": [],
   "source": [
    "features = x_train.columns.tolist()\n",
    "dictionary_v_p = { feature : 0 for feature in features }\n",
    "dictionary_v_n = { feature : 0 for feature in features }\n",
    "dictionary_a_p = { feature : 0 for feature in features }\n",
    "dictionary_a_n = { feature : 0 for feature in features }\n"
   ]
  },
  {
   "cell_type": "code",
   "execution_count": null,
   "metadata": {
    "colab": {
     "base_uri": "https://localhost:8080/"
    },
    "executionInfo": {
     "elapsed": 134,
     "status": "ok",
     "timestamp": 1649090395880,
     "user": {
      "displayName": "Gennaro Castaldo",
      "userId": "04055270946788705237"
     },
     "user_tz": -120
    },
    "id": "iuBXDU4cu-Vf",
    "outputId": "7edb6b41-b221-4907-8be9-d2806d4df5c7"
   },
   "outputs": [],
   "source": [
    "exp1 = shap_values[0]\n",
    "exp2 = shap_values[1]\n",
    "\n",
    "print(len(exp1))\n",
    "for lun in range(len(exp1)):\n",
    "  shaps = exp1[lun]\n",
    "  for feat in range(len(shaps)):\n",
    "    valore = shaps[feat]\n",
    "    fea = features[feat]\n",
    "    if valore >0:\n",
    "      dictionary_v_p[fea] = dictionary_v_p[fea]+valore\n",
    "    else:\n",
    "      dictionary_v_n[fea] = dictionary_v_n[fea]+valore\n",
    "\n",
    "for lun in range(len(exp2)):\n",
    "  shaps = exp2[lun]\n",
    "  for feat in range(len(shaps)):\n",
    "    valore = shaps[feat]\n",
    "    fea = features[feat]\n",
    "    if valore >0:\n",
    "      dictionary_a_p[fea] = dictionary_a_p[fea]+valore\n",
    "    else:\n",
    "      dictionary_a_n[fea] = dictionary_a_n[fea]+valore\n",
    "  \n",
    "print(dictionary_v_p)\n",
    "print(dictionary_v_n)\n",
    "print(dictionary_a_p)\n",
    "print(dictionary_a_n)\n"
   ]
  },
  {
   "cell_type": "code",
   "execution_count": null,
   "metadata": {
    "id": "LkMg5x5ezZXC"
   },
   "outputs": [],
   "source": [
    "import json \n",
    "      \n",
    "with open(\"/content/drive/MyDrive/Colab Notebooks/Shap_dictionary_v_n.json\", \"w\") as outfile:\n",
    "    json.dump(dictionary_v_n, outfile)\n",
    "\n",
    "with open(\"/content/drive/MyDrive/Colab Notebooks/Shap_dictionary_v_p.json\", \"w\") as outfile:\n",
    "    json.dump(dictionary_v_p, outfile)\n",
    "\n",
    "with open(\"/content/drive/MyDrive/Colab Notebooks/Shap_dictionary_a_p.json\", \"w\") as outfile:\n",
    "    json.dump(dictionary_a_p, outfile)\n",
    "\n",
    "with open(\"/content/drive/MyDrive/Colab Notebooks/Shap_dictionary_a_n.json\", \"w\") as outfile:\n",
    "    json.dump(dictionary_a_n, outfile)"
   ]
  }
 ],
 "metadata": {
  "colab": {
   "authorship_tag": "ABX9TyO/qNR4RPtN7np9SzSxlu15",
   "collapsed_sections": [],
   "name": "2 Explanation SHAP.ipynb",
   "provenance": []
  },
  "kernelspec": {
   "display_name": "Python 3",
   "language": "python",
   "name": "python3"
  },
  "language_info": {
   "codemirror_mode": {
    "name": "ipython",
    "version": 3
   },
   "file_extension": ".py",
   "mimetype": "text/x-python",
   "name": "python",
   "nbconvert_exporter": "python",
   "pygments_lexer": "ipython3",
   "version": "3.8.5"
  },
  "widgets": {
   "application/vnd.jupyter.widget-state+json": {
    "51518af8faaa473a85885a0442c9b08b": {
     "model_module": "@jupyter-widgets/controls",
     "model_module_version": "1.5.0",
     "model_name": "DropdownModel",
     "state": {
      "_dom_classes": [],
      "_model_module": "@jupyter-widgets/controls",
      "_model_module_version": "1.5.0",
      "_model_name": "DropdownModel",
      "_options_labels": [
       "valence_tags",
       "arousal_tags"
      ],
      "_view_count": null,
      "_view_module": "@jupyter-widgets/controls",
      "_view_module_version": "1.5.0",
      "_view_name": "DropdownView",
      "description": "Select Label:",
      "description_tooltip": null,
      "disabled": false,
      "index": 0,
      "layout": "IPY_MODEL_cd9b204af5824c2194e976d9b1612b97",
      "style": "IPY_MODEL_706e3e0a6d2a44b8a042c1be851c8b18"
     }
    },
    "706e3e0a6d2a44b8a042c1be851c8b18": {
     "model_module": "@jupyter-widgets/controls",
     "model_module_version": "1.5.0",
     "model_name": "DescriptionStyleModel",
     "state": {
      "_model_module": "@jupyter-widgets/controls",
      "_model_module_version": "1.5.0",
      "_model_name": "DescriptionStyleModel",
      "_view_count": null,
      "_view_module": "@jupyter-widgets/base",
      "_view_module_version": "1.2.0",
      "_view_name": "StyleView",
      "description_width": ""
     }
    },
    "cd9b204af5824c2194e976d9b1612b97": {
     "model_module": "@jupyter-widgets/base",
     "model_module_version": "1.2.0",
     "model_name": "LayoutModel",
     "state": {
      "_model_module": "@jupyter-widgets/base",
      "_model_module_version": "1.2.0",
      "_model_name": "LayoutModel",
      "_view_count": null,
      "_view_module": "@jupyter-widgets/base",
      "_view_module_version": "1.2.0",
      "_view_name": "LayoutView",
      "align_content": null,
      "align_items": null,
      "align_self": null,
      "border": null,
      "bottom": null,
      "display": null,
      "flex": null,
      "flex_flow": null,
      "grid_area": null,
      "grid_auto_columns": null,
      "grid_auto_flow": null,
      "grid_auto_rows": null,
      "grid_column": null,
      "grid_gap": null,
      "grid_row": null,
      "grid_template_areas": null,
      "grid_template_columns": null,
      "grid_template_rows": null,
      "height": null,
      "justify_content": null,
      "justify_items": null,
      "left": null,
      "margin": null,
      "max_height": null,
      "max_width": null,
      "min_height": null,
      "min_width": null,
      "object_fit": null,
      "object_position": null,
      "order": null,
      "overflow": null,
      "overflow_x": null,
      "overflow_y": null,
      "padding": null,
      "right": null,
      "top": null,
      "visibility": null,
      "width": null
     }
    }
   }
  }
 },
 "nbformat": 4,
 "nbformat_minor": 1
}
