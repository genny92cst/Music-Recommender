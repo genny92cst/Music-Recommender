{
 "cells": [
  {
   "cell_type": "code",
   "execution_count": null,
   "metadata": {
    "colab": {
     "base_uri": "https://localhost:8080/"
    },
    "executionInfo": {
     "elapsed": 22518,
     "status": "ok",
     "timestamp": 1652780512956,
     "user": {
      "displayName": "Gennaro Castaldo",
      "userId": "04055270946788705237"
     },
     "user_tz": -120
    },
    "id": "XjWpg_EzdlRX",
    "outputId": "fa121c92-52ad-44c0-c4be-213f0891bc14"
   },
   "outputs": [],
   "source": [
    "from google.colab import drive\n",
    "drive.mount('/content/drive')"
   ]
  },
  {
   "cell_type": "code",
   "execution_count": null,
   "metadata": {
    "id": "xOVW2tNLFYNj"
   },
   "outputs": [],
   "source": [
    "import numpy as np\n",
    "import pandas as pd"
   ]
  },
  {
   "cell_type": "code",
   "execution_count": null,
   "metadata": {},
   "outputs": [],
   "source": [
    "import sys\n",
    "sys.path.append('/content/drive/MyDrive/Colab Notebooks/Aggregator')\n",
    "import rankaggregator"
   ]
  },
  {
   "cell_type": "markdown",
   "metadata": {
    "id": "BDgtMEG4c8kL"
   },
   "source": [
    "#Metriche di quality"
   ]
  },
  {
   "cell_type": "code",
   "execution_count": null,
   "metadata": {
    "id": "hAJvBq_80-Jg"
   },
   "outputs": [],
   "source": [
    "def precision_k (sugg, top, k):\n",
    "  score = 0\n",
    "  for item in sugg[:k]:\n",
    "    if item in top:\n",
    "      score += 1\n",
    "    \n",
    "  return score/k\n",
    "\n",
    "def recall_k (sugg, top, k):\n",
    "  score = 0\n",
    "  for item in sugg[:k]:\n",
    "    if item in top:\n",
    "      score += 1\n",
    "    \n",
    "  return score/len(top)\n",
    "\n",
    "def f_score (p, r):\n",
    "  return (2*p*r)/(p+r)\n",
    "\n",
    "def map (l):\n",
    "  return sum(l)/len(l)\n",
    "\n",
    "def apk(sugg, top, k=5):\n",
    "    if len(sugg)>k:\n",
    "        sugg = sugg[:k]\n",
    "\n",
    "    score = 0.0\n",
    "    num_hits = 0.0\n",
    "\n",
    "    for i,p in enumerate(sugg):\n",
    "        if p in top and p not in sugg[:i]:\n",
    "            num_hits += 1.0\n",
    "            score += num_hits / (i+1.0)\n",
    "\n",
    "    if not top:\n",
    "        return 0.0\n",
    "\n",
    "    return score / min(len(top), k)"
   ]
  },
  {
   "cell_type": "code",
   "execution_count": null,
   "metadata": {
    "id": "CGYqTEQg6Vhk"
   },
   "outputs": [],
   "source": [
    "def get_top_for_user(user):\n",
    "  sel = dff[dff['user']==user]  \n",
    "  sel = sel[sel['set']=='test']\n",
    "  return sel['spotify_id'].values.tolist()"
   ]
  },
  {
   "cell_type": "markdown",
   "metadata": {
    "id": "OjqQMdgvQYVC"
   },
   "source": [
    "#Calcolo metriche"
   ]
  },
  {
   "cell_type": "code",
   "execution_count": null,
   "metadata": {
    "id": "F2lw9R8aFkxe"
   },
   "outputs": [],
   "source": [
    "dff = pd.read_csv('/content/drive/MyDrive/Colab Notebooks/Dati/user_song_partitioned2.csv', sep = ',')\n",
    "dff = dff.drop('Unnamed: 0', axis=1)"
   ]
  },
  {
   "cell_type": "code",
   "execution_count": null,
   "metadata": {
    "colab": {
     "base_uri": "https://localhost:8080/"
    },
    "executionInfo": {
     "elapsed": 6,
     "status": "ok",
     "timestamp": 1652642933695,
     "user": {
      "displayName": "Gennaro Castaldo",
      "userId": "04055270946788705237"
     },
     "user_tz": -120
    },
    "id": "xcEF4Y7DIgHZ",
    "outputId": "e89ec07d-849e-4c30-fba0-46c5c4bbf117"
   },
   "outputs": [],
   "source": [
    "sel = dff[dff['tot_songs'] ==50] #selezione degli utenti in base al numero di item \n",
    "users = sel['user'].unique()"
   ]
  },
  {
   "cell_type": "code",
   "execution_count": null,
   "metadata": {
    "colab": {
     "base_uri": "https://localhost:8080/"
    },
    "executionInfo": {
     "elapsed": 282,
     "status": "ok",
     "timestamp": 1652642953448,
     "user": {
      "displayName": "Gennaro Castaldo",
      "userId": "04055270946788705237"
     },
     "user_tz": -120
    },
    "id": "4liksD7FXFOq",
    "outputId": "c2eb4456-bbe9-4e87-da9f-2887a565ec22"
   },
   "outputs": [],
   "source": [
    "bellino = users\n",
    "testino = dff[dff['user'].isin(bellino)] #isin(users)"
   ]
  },
  {
   "cell_type": "code",
   "execution_count": null,
   "metadata": {
    "id": "5Gh9yOelFgp4"
   },
   "outputs": [],
   "source": [
    "import pickle\n",
    "import rankaggregation as ra\n",
    "import os.path \n",
    "\n",
    "agg = ra.RankAggregator()\n",
    "\n",
    "Results = []\n",
    "for user in testino['user'].unique():\n",
    "  print(user+':')\n",
    "  path = \"/content/drive/MyDrive/Colab Notebooks/Dati/Rankings/\"+str(user)+\".pkl\"\n",
    "  if os.path.exists(path):\n",
    "    rank_list_v = []\n",
    "    rank_list_a = []\n",
    "    a_file = open(path, \"rb\")\n",
    "    spiegazioni = pickle.load(a_file)\n",
    "    for i in range(spiegazioni['numero_istanze_spiegate']):\n",
    "      rank_list_v.append(np.array(spiegazioni['ranking_v'][i])[:,0])\n",
    "      rank_list_a.append(np.array(spiegazioni['ranking_a'][i])[:,0])\n",
    "\n",
    "\n",
    "    ranking_aggregato_v = agg.instant_runoff(rank_list_v)\n",
    "    ranking_aggregato_a = agg.instant_runoff(rank_list_a)\n",
    "    ranking_finale = agg.instant_runoff([ranking_aggregato_v, ranking_aggregato_a])\n",
    "    #print(len(ranking_finale))\n",
    "    for elem in spiegazioni['istanze_spiegate_ids']:\n",
    "      try:\n",
    "        ranking_finale.remove(elem)\n",
    "      except:\n",
    "        print()\n",
    "    x = get_top_for_user(user)\n",
    "    p5 = precision_k(ranking_finale, x, 5)\n",
    "    p10 = precision_k(ranking_finale, x, 10)\n",
    "    p20 = precision_k(ranking_finale, x, 20)\n",
    "    r = recall_k(ranking_finale, x, k)\n",
    "    \n",
    "    Results.append([user, ranking_finale, x, p5, p10, p20, r])"
   ]
  },
  {
   "cell_type": "code",
   "execution_count": null,
   "metadata": {
    "id": "jJLBvlGQ_OBu"
   },
   "outputs": [],
   "source": [
    "res = numpy.array(Results)\n",
    "\n",
    "ap_10 = []\n",
    "\n",
    "for l in range(len(res))\n",
    "    ap = (res[l][3]+res[l][4])/2\n",
    "    ap_10.append(ap)\n",
    "\n",
    "map = np.mean(ap_10)"
   ]
  }
 ],
 "metadata": {
  "colab": {
   "authorship_tag": "ABX9TyMusZOjsQDdySUyEtoKM+Bs",
   "collapsed_sections": [
    "bl8wHw3EQRAf",
    "OjqQMdgvQYVC"
   ],
   "name": "Quality measure.ipynb",
   "provenance": []
  },
  "kernelspec": {
   "display_name": "Python 3",
   "language": "python",
   "name": "python3"
  },
  "language_info": {
   "codemirror_mode": {
    "name": "ipython",
    "version": 3
   },
   "file_extension": ".py",
   "mimetype": "text/x-python",
   "name": "python",
   "nbconvert_exporter": "python",
   "pygments_lexer": "ipython3",
   "version": "3.8.5"
  }
 },
 "nbformat": 4,
 "nbformat_minor": 1
}
