{
 "cells": [
  {
   "cell_type": "code",
   "execution_count": null,
   "metadata": {
    "colab": {
     "base_uri": "https://localhost:8080/"
    },
    "executionInfo": {
     "elapsed": 15,
     "status": "ok",
     "timestamp": 1652780224205,
     "user": {
      "displayName": "Gennaro Castaldo",
      "userId": "04055270946788705237"
     },
     "user_tz": -120
    },
    "id": "mmGII0gAQOBu",
    "outputId": "a34737a3-c8d4-4960-97c4-30591b168483"
   },
   "outputs": [],
   "source": [
    "%%writefile requirements.txt\n",
    "lime\n",
    "keras\n",
    "pandas\n",
    "tensorflow"
   ]
  },
  {
   "cell_type": "code",
   "execution_count": null,
   "metadata": {
    "colab": {
     "base_uri": "https://localhost:8080/"
    },
    "executionInfo": {
     "elapsed": 1722,
     "status": "ok",
     "timestamp": 1652780233309,
     "user": {
      "displayName": "Gennaro Castaldo",
      "userId": "04055270946788705237"
     },
     "user_tz": -120
    },
    "id": "xgMMG0h8QXl6",
    "outputId": "24b6d561-872a-4b15-bc0d-7c5a9ee36149"
   },
   "outputs": [],
   "source": [
    "!pip install -r requirements.txt"
   ]
  },
  {
   "cell_type": "code",
   "execution_count": null,
   "metadata": {
    "id": "Oi0l5IvlIdyy"
   },
   "outputs": [],
   "source": [
    "pip install scikeras[tensorflow]"
   ]
  },
  {
   "cell_type": "code",
   "execution_count": null,
   "metadata": {
    "colab": {
     "base_uri": "https://localhost:8080/"
    },
    "executionInfo": {
     "elapsed": 27093,
     "status": "ok",
     "timestamp": 1652780264060,
     "user": {
      "displayName": "Gennaro Castaldo",
      "userId": "04055270946788705237"
     },
     "user_tz": -120
    },
    "id": "dePX-aSTWBck",
    "outputId": "45ca37ed-08c5-4bcd-b8d5-34c4548b736b"
   },
   "outputs": [],
   "source": [
    "from google.colab import drive\n",
    "drive.mount('/content/drive')"
   ]
  },
  {
   "cell_type": "code",
   "execution_count": null,
   "metadata": {
    "executionInfo": {
     "elapsed": 1529,
     "status": "ok",
     "timestamp": 1652780265582,
     "user": {
      "displayName": "Gennaro Castaldo",
      "userId": "04055270946788705237"
     },
     "user_tz": -120
    },
    "id": "YY2Q2ql9NFHc"
   },
   "outputs": [],
   "source": [
    "import numpy as np\n",
    "import pandas as pd\n",
    "import matplotlib.pyplot as plt\n",
    "import sklearn.metrics as sk\n",
    "from sklearn.model_selection import train_test_split\n",
    "from sklearn.preprocessing import StandardScaler\n",
    "from sklearn.linear_model import LinearRegression"
   ]
  },
  {
   "cell_type": "code",
   "execution_count": null,
   "metadata": {
    "executionInfo": {
     "elapsed": 1403,
     "status": "ok",
     "timestamp": 1652780266979,
     "user": {
      "displayName": "Gennaro Castaldo",
      "userId": "04055270946788705237"
     },
     "user_tz": -120
    },
    "id": "1G6CsJhoTnKd"
   },
   "outputs": [],
   "source": [
    "df = pd.read_csv('/content/drive/MyDrive/Colab Notebooks/Scores/Dati/FINALE_2.csv', sep = ',')\n",
    "df = df.drop('Unnamed: 0', axis=1)\n",
    "X = pd.read_csv('/content/drive/MyDrive/Colab Notebooks/Scores/Dati/FINALE_X.csv', sep = ',')\n",
    "X = X.drop('Unnamed: 0', axis=1)\n",
    "Y = pd.read_csv('/content/drive/MyDrive/Colab Notebooks/Scores/Dati/FINALE_Y.csv', sep = ',')\n",
    "Y = Y.drop('Unnamed: 0', axis=1)"
   ]
  },
  {
   "cell_type": "code",
   "execution_count": null,
   "metadata": {
    "colab": {
     "base_uri": "https://localhost:8080/"
    },
    "executionInfo": {
     "elapsed": 10,
     "status": "ok",
     "timestamp": 1652780266981,
     "user": {
      "displayName": "Gennaro Castaldo",
      "userId": "04055270946788705237"
     },
     "user_tz": -120
    },
    "id": "BmSpdn6rtH0A",
    "outputId": "85d303d9-d3da-4191-aafb-c766ddf9b3a6"
   },
   "outputs": [],
   "source": [
    "x_train, x_test, y_train, y_test = train_test_split(X, Y, test_size = 0.2, random_state = 42)\n",
    "\n",
    "x_original = X"
   ]
  },
  {
   "cell_type": "code",
   "execution_count": null,
   "metadata": {
    "id": "MP1yCGdO9ovH"
   },
   "outputs": [],
   "source": [
    "import tensorflow as tf\n",
    "from tensorflow import keras\n",
    "model2 = keras.models.load_model(\"/content/drive/MyDrive/Colab Notebooks/nn_model\")"
   ]
  },
  {
   "cell_type": "code",
   "execution_count": null,
   "metadata": {
    "executionInfo": {
     "elapsed": 6428,
     "status": "ok",
     "timestamp": 1652780273866,
     "user": {
      "displayName": "Gennaro Castaldo",
      "userId": "04055270946788705237"
     },
     "user_tz": -120
    },
    "id": "kR4A6CISZSxr"
   },
   "outputs": [],
   "source": [
    "import tensorflow as tf\n",
    "from tensorflow import keras\n",
    "model = keras.models.load_model(\"/content/drive/MyDrive/Colab Notebooks/nn_model_ondataset2\")"
   ]
  },
  {
   "cell_type": "code",
   "execution_count": null,
   "metadata": {
    "executionInfo": {
     "elapsed": 1720,
     "status": "ok",
     "timestamp": 1652780275579,
     "user": {
      "displayName": "Gennaro Castaldo",
      "userId": "04055270946788705237"
     },
     "user_tz": -120
    },
    "id": "C1M_FgOuLxaX"
   },
   "outputs": [],
   "source": [
    "predictions = model.predict(X.iloc[:, 2:])"
   ]
  },
  {
   "cell_type": "code",
   "execution_count": null,
   "metadata": {
    "colab": {
     "base_uri": "https://localhost:8080/"
    },
    "executionInfo": {
     "elapsed": 9,
     "status": "ok",
     "timestamp": 1652780275580,
     "user": {
      "displayName": "Gennaro Castaldo",
      "userId": "04055270946788705237"
     },
     "user_tz": -120
    },
    "id": "peAetMz5L31g",
    "outputId": "8a944c52-e9be-4b6d-bbf3-b78c2c8b4d27"
   },
   "outputs": [],
   "source": [
    "l = 20\n",
    "print(predictions[l])\n",
    "#print(type(predictions))\n",
    "print(Y.iloc[l])"
   ]
  },
  {
   "cell_type": "code",
   "execution_count": null,
   "metadata": {
    "executionInfo": {
     "elapsed": 8,
     "status": "ok",
     "timestamp": 1652780275581,
     "user": {
      "displayName": "Gennaro Castaldo",
      "userId": "04055270946788705237"
     },
     "user_tz": -120
    },
    "id": "ZbaAL4tEIBfL"
   },
   "outputs": [],
   "source": [
    "def get_predict_fn(idx):\n",
    "  def predict_fn(x_test):\n",
    "    return model.predict(x_test)[:, idx]\n",
    "  return predict_fn"
   ]
  },
  {
   "cell_type": "markdown",
   "metadata": {
    "id": "ZzQhcnTOJVu5"
   },
   "source": [
    "#PASTLE"
   ]
  },
  {
   "cell_type": "code",
   "execution_count": null,
   "metadata": {
    "executionInfo": {
     "elapsed": 1576,
     "status": "ok",
     "timestamp": 1652780277150,
     "user": {
      "displayName": "Gennaro Castaldo",
      "userId": "04055270946788705237"
     },
     "user_tz": -120
    },
    "id": "o0H0w6mlKWvM"
   },
   "outputs": [],
   "source": [
    "import sys\n",
    "sys.path.append('/content/drive/MyDrive/Colab Notebooks/PASTLE')\n",
    "import pivots_generators\n",
    "import explainers\n",
    "import explanations"
   ]
  },
  {
   "cell_type": "code",
   "execution_count": null,
   "metadata": {
    "executionInfo": {
     "elapsed": 14,
     "status": "ok",
     "timestamp": 1652780277150,
     "user": {
      "displayName": "Gennaro Castaldo",
      "userId": "04055270946788705237"
     },
     "user_tz": -120
    },
    "id": "9wYEK5-cJYp4"
   },
   "outputs": [],
   "source": [
    "#df = pd.read_csv('/content/drive/MyDrive/Colab Notebooks/PASTLE/dataset_taggato.csv', sep=',')\n",
    "#df = df.drop('index', axis=1)\n",
    "\n",
    "x = X.iloc[:, 2:].to_numpy()\n",
    "y = Y.iloc[:, 0:].to_numpy()\n",
    "\n",
    "#x_train, x_test, y_train, y_test = train_test_split(x, y, test_size=0.2, random_state=42)\n",
    "\n",
    "proximity_fns = {\n",
    "    'p1': (lambda xx: 1 / (1 + xx)),\n",
    "    'p2': (lambda xx: np.exp(-xx)),\n",
    "    'p3': (lambda xx: -xx),\n",
    "    'p4': (lambda xx: 1 - (xx - np.min(xx, axis=0)) / (np.max(xx, axis=0) - np.min(xx, axis=0))),\n",
    "    'p5': (lambda xx: np.max(xx, axis=0) - xx),\n",
    "}\n",
    "\n",
    "feature_names = df.columns[2:17].tolist()\n",
    "#print(feature_names)\n",
    "class_names = ['valence_tags', 'arousal_tags']\n",
    "dataset = x\n",
    "labels = y\n",
    "proximity_fn = proximity_fns['p1']\n",
    "\n",
    "n_pivots = 25\n",
    "n_features = x.shape[1]\n",
    "n_samples = 150\n",
    "distance_fn = 'euclidean'\n",
    "pivots_generator = pivots_generators.Random(x, n_pivots)"
   ]
  },
  {
   "cell_type": "markdown",
   "metadata": {
    "id": "ql8NF2NTC3av"
   },
   "source": [
    "#Explain instance"
   ]
  },
  {
   "cell_type": "code",
   "execution_count": null,
   "metadata": {
    "executionInfo": {
     "elapsed": 13,
     "status": "ok",
     "timestamp": 1652780277151,
     "user": {
      "displayName": "Gennaro Castaldo",
      "userId": "04055270946788705237"
     },
     "user_tz": -120
    },
    "id": "rsawM-PTmkJ3"
   },
   "outputs": [],
   "source": [
    "kernel_width = 0.71\n",
    "n_samp = 150\n",
    "explainer = explainers.TabularExplainer(x, cluster_model=pivots_generator, mode=\"regression\", feature_names=feature_names, \n",
    "                                        class_names=class_names, discretize_continuous=False, sample_around_instance=True,\n",
    "                                        verbose=False, proximity_function=proximity_fn, kernel_width = kernel_width)\n"
   ]
  },
  {
   "cell_type": "code",
   "execution_count": null,
   "metadata": {
    "executionInfo": {
     "elapsed": 13,
     "status": "ok",
     "timestamp": 1652780277152,
     "user": {
      "displayName": "Gennaro Castaldo",
      "userId": "04055270946788705237"
     },
     "user_tz": -120
    },
    "id": "RoZyHHpd57Ng"
   },
   "outputs": [],
   "source": [
    "def get_exp_supporting_points(int, feature, explainer, n_points):\n",
    "  #feature deve essere uguale a 0 o 1, 0 per valence, 1 per arousal\n",
    "  exp = explainer.explain_instance(x[int], predict_fn = get_predict_fn(feature), top_labels=1, num_pivots=n_pivots, num_samples=n_samp,\n",
    "                                  verbose=False, distance_metric=distance_fn, model_regressor=LinearRegression())\n",
    "  exp1 = exp[0]\n",
    "  feature_importances =  exp[1].local_exp[1] \n",
    "  pivots = pivots_generator.pivots \n",
    "  new_exp = explanations.PASTLE_Explanation(x, y[:,feature], exp1, pivots, feature_importances, x[int], \n",
    "                                            predictions[int][feature], feature_names, mode = 'regression', verbose=False)\n",
    "  pts_supporting, preds_supporting, pts_opposing, preds_opposing = new_exp.move_along_directions(model,n_points=n_points,save=False,verbose=False)\n",
    "\n",
    "  return pts_supporting"
   ]
  },
  {
   "cell_type": "code",
   "execution_count": null,
   "metadata": {
    "executionInfo": {
     "elapsed": 275,
     "status": "ok",
     "timestamp": 1652781285233,
     "user": {
      "displayName": "Gennaro Castaldo",
      "userId": "04055270946788705237"
     },
     "user_tz": -120
    },
    "id": "sPoOjvCo9_9b"
   },
   "outputs": [],
   "source": [
    "from datetime import datetime\n",
    "\n",
    "def ranking(pts_supporting, x_train, x_train_original):\n",
    "\n",
    "  suggestions = []\n",
    "\n",
    "  for i in range(len(x)):\n",
    "    dist = np.linalg.norm(x[i]-pts_supporting[1])\n",
    "    suggestions.append([i, dist])\n",
    "  \n",
    "  for i in range(len(suggestions)):\n",
    "    index = suggestions[i][0]\n",
    "    id = x_original.iloc[i]['spotify_id']\n",
    "    suggestions[i][0] = id\n",
    "  suggestions = sorted(suggestions, key=lambda sugg: sugg[1])\n",
    "  return suggestions[:200]"
   ]
  },
  {
   "cell_type": "code",
   "execution_count": null,
   "metadata": {
    "executionInfo": {
     "elapsed": 12,
     "status": "ok",
     "timestamp": 1652780277153,
     "user": {
      "displayName": "Gennaro Castaldo",
      "userId": "04055270946788705237"
     },
     "user_tz": -120
    },
    "id": "jsEhxM0rYA3I"
   },
   "outputs": [],
   "source": [
    "def find_songs(lista):\n",
    "  l = []\n",
    "  for item in lista:\n",
    "    t = x_original.loc[x_original['spotify_id']==item]\n",
    "    if not t.empty:\n",
    "      l.append(t)\n",
    "  return l"
   ]
  },
  {
   "cell_type": "markdown",
   "metadata": {
    "id": "bmKXyFyNUgJK"
   },
   "source": [
    "#PREDIZIONI"
   ]
  },
  {
   "cell_type": "code",
   "execution_count": null,
   "metadata": {
    "colab": {
     "base_uri": "https://localhost:8080/"
    },
    "executionInfo": {
     "elapsed": 3041,
     "status": "ok",
     "timestamp": 1652780281537,
     "user": {
      "displayName": "Gennaro Castaldo",
      "userId": "04055270946788705237"
     },
     "user_tz": -120
    },
    "id": "F2lw9R8aFkxe",
    "outputId": "4f4082f3-c98c-4aec-c764-8837cd8fc8af"
   },
   "outputs": [],
   "source": [
    "dff = pd.read_csv('/content/drive/MyDrive/Colab Notebooks/Dati/user_song_partitioned2.csv', sep = ',')\n",
    "dff = dff.drop('Unnamed: 0', axis=1)\n",
    "print(dff.head())"
   ]
  },
  {
   "cell_type": "code",
   "execution_count": null,
   "metadata": {
    "colab": {
     "base_uri": "https://localhost:8080/"
    },
    "executionInfo": {
     "elapsed": 227,
     "status": "ok",
     "timestamp": 1652780363591,
     "user": {
      "displayName": "Gennaro Castaldo",
      "userId": "04055270946788705237"
     },
     "user_tz": -120
    },
    "id": "eIN4aBnF-fWr",
    "outputId": "b3aa572d-6c0e-4798-e739-d0b9a72a1b1f"
   },
   "outputs": [],
   "source": [
    "sel = dff[dff['tot_songs'] ==50] #selezione degli utenti in base al numero di item \n",
    "users = sel['user'].unique()\n",
    "print(len(users))\n",
    "print(users[:10])\n"
   ]
  },
  {
   "cell_type": "code",
   "execution_count": null,
   "metadata": {
    "colab": {
     "base_uri": "https://localhost:8080/"
    },
    "executionInfo": {
     "elapsed": 321,
     "status": "ok",
     "timestamp": 1652784078852,
     "user": {
      "displayName": "Gennaro Castaldo",
      "userId": "04055270946788705237"
     },
     "user_tz": -120
    },
    "id": "4liksD7FXFOq",
    "outputId": "e088c745-0b90-4551-f401-4a286ce15daa"
   },
   "outputs": [],
   "source": [
    "testino = users\n",
    "#testino = sel[sel['user']=='f950c72da3617fe94a02c753dfeedb5a7acf6def'] #isin(users)\n",
    "print(len(testino))"
   ]
  },
  {
   "cell_type": "code",
   "execution_count": null,
   "metadata": {
    "colab": {
     "base_uri": "https://localhost:8080/"
    },
    "executionInfo": {
     "elapsed": 299,
     "status": "ok",
     "timestamp": 1652609554890,
     "user": {
      "displayName": "Gennaro Castaldo",
      "userId": "04055270946788705237"
     },
     "user_tz": -120
    },
    "id": "nf2MCCEPM4UJ",
    "outputId": "e09a08c0-af93-45eb-d08d-cc95839af906"
   },
   "outputs": [],
   "source": [
    "print(type(testino['user'].unique()))"
   ]
  },
  {
   "cell_type": "code",
   "execution_count": null,
   "metadata": {
    "id": "aYEL0_JyM3Vm"
   },
   "outputs": [],
   "source": [
    "testino['user'].unique()"
   ]
  },
  {
   "cell_type": "code",
   "execution_count": null,
   "metadata": {
    "executionInfo": {
     "elapsed": 222,
     "status": "ok",
     "timestamp": 1652780379008,
     "user": {
      "displayName": "Gennaro Castaldo",
      "userId": "04055270946788705237"
     },
     "user_tz": -120
    },
    "id": "pXhK57P5u3zX"
   },
   "outputs": [],
   "source": [
    "import time\n",
    "start_time = time.time()"
   ]
  },
  {
   "cell_type": "code",
   "execution_count": null,
   "metadata": {
    "colab": {
     "base_uri": "https://localhost:8080/"
    },
    "executionInfo": {
     "elapsed": 63934,
     "status": "ok",
     "timestamp": 1652786820101,
     "user": {
      "displayName": "Gennaro Castaldo",
      "userId": "04055270946788705237"
     },
     "user_tz": -120
    },
    "id": "8dWuCEPC_av9",
    "outputId": "f99deef0-f40d-465f-e18c-b20f917aaeb9"
   },
   "outputs": [],
   "source": [
    "import time\n",
    "start = time.process_time()\n",
    "# your code here    \n",
    "\n",
    "for user in testino['user'].unique():\n",
    "  print(user+':')\n",
    "  selezione = testino.loc[(sel['user']== user)& (sel['set']=='train')]\n",
    "  canzoni_ascoltate = selezione['spotify_id']\n",
    "  g = find_songs(canzoni_ascoltate.values)\n",
    "  indicis = []\n",
    "  for item in g:\n",
    "    ind = item['spotify_id'].index[0]\n",
    "    id = item['spotify_id'].values[0]\n",
    "    indicis.append([ind, id])\n",
    "  genera_ranking_peruser(indicis, user)\n",
    "\n",
    "print(time.process_time() - start)"
   ]
  },
  {
   "cell_type": "code",
   "execution_count": null,
   "metadata": {
    "executionInfo": {
     "elapsed": 241,
     "status": "ok",
     "timestamp": 1652780382162,
     "user": {
      "displayName": "Gennaro Castaldo",
      "userId": "04055270946788705237"
     },
     "user_tz": -120
    },
    "id": "J96mWCE84ePT"
   },
   "outputs": [],
   "source": [
    "import json\n",
    "import pickle\n",
    "\n",
    "def genera_ranking_peruser(indicis, user):\n",
    "#istanze = [1, 2, 3, 4, 5]\n",
    "\n",
    "  istanze = [sublist[:1][0] for sublist in indicis]\n",
    "  ids = [sublist[1:][0] for sublist in indicis]\n",
    "  spiegazioni = {}\n",
    "  supp_valence = []\n",
    "  supp_arousal = []\n",
    "  ranking_v = []\n",
    "  ranking_a = []\n",
    "\n",
    "  kernel_width = 0.71\n",
    "  n_samp = 150\n",
    "  explainer = explainers.TabularExplainer(x, cluster_model=pivots_generator, mode=\"regression\", feature_names=feature_names, \n",
    "                                          class_names=class_names, discretize_continuous=False, sample_around_instance=True,\n",
    "                                          verbose=False, proximity_function=proximity_fn, kernel_width = kernel_width)\n",
    "\n",
    "  for i in range(len(istanze)):\n",
    "    try:\n",
    "      pts_supporting_v = get_exp_supporting_points(istanze[i], 0, explainer, 4000)\n",
    "      supp_valence.append(pts_supporting_v)\n",
    "      pts_supporting_a = get_exp_supporting_points(istanze[i], 1, explainer, 4000)\n",
    "      supp_arousal.append(pts_supporting_a)\n",
    "    except:\n",
    "      pass\n",
    "    ranking_v.append(ranking(pts_supporting_v, x, x_original))  #quaaaaaaaaaaaaa\n",
    "    ranking_a.append(ranking(pts_supporting_a, x, x_original))\n",
    "\n",
    "\n",
    "  spiegazioni['istanze_spiegate'] = istanze\n",
    "  spiegazioni['istanze_spiegate_ids'] = ids\n",
    "  spiegazioni['numero_istanze_spiegate'] = len(istanze)\n",
    "  spiegazioni['punti_supporto_v'] = supp_valence\n",
    "  spiegazioni['punti_supporto_a'] = supp_arousal\n",
    "  spiegazioni['ranking_v'] = ranking_v\n",
    "  spiegazioni['ranking_a'] = ranking_a\n",
    "\n",
    "  path = \"/content/drive/MyDrive/Colab Notebooks/Dati/Rankings/\"+str(user)+\".pkl\"\n",
    "  print(path)\n",
    "  a_file = open(path, \"wb\")\n",
    "  pickle.dump(spiegazioni, a_file)\n",
    "  a_file.close()\n",
    "\n"
   ]
  }
 ],
 "metadata": {
  "colab": {
   "authorship_tag": "ABX9TyOOZJ0suBER2Yv3/e5+RE9p",
   "collapsed_sections": [
    "ZzQhcnTOJVu5",
    "ql8NF2NTC3av"
   ],
   "name": "Explanation PASTLE.ipynb",
   "provenance": []
  },
  "kernelspec": {
   "display_name": "Python 3",
   "language": "python",
   "name": "python3"
  },
  "language_info": {
   "codemirror_mode": {
    "name": "ipython",
    "version": 3
   },
   "file_extension": ".py",
   "mimetype": "text/x-python",
   "name": "python",
   "nbconvert_exporter": "python",
   "pygments_lexer": "ipython3",
   "version": "3.8.5"
  }
 },
 "nbformat": 4,
 "nbformat_minor": 1
}
