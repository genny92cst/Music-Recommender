{
 "cells": [
  {
   "cell_type": "code",
   "execution_count": null,
   "metadata": {
    "id": "PqCpz_w4C2GG"
   },
   "outputs": [],
   "source": [
    "pip install scikeras[tensorflow]"
   ]
  },
  {
   "cell_type": "code",
   "execution_count": null,
   "metadata": {
    "colab": {
     "base_uri": "https://localhost:8080/",
     "height": 390
    },
    "executionInfo": {
     "elapsed": 3513,
     "status": "error",
     "timestamp": 1651845515263,
     "user": {
      "displayName": "Gennaro Castaldo",
      "userId": "04055270946788705237"
     },
     "user_tz": -120
    },
    "id": "YY2Q2ql9NFHc",
    "outputId": "cba9b571-67e4-46cf-ccbf-223d78065e31"
   },
   "outputs": [],
   "source": [
    "import numpy as np\n",
    "import pandas as pd\n",
    "import matplotlib.pyplot as plt\n",
    "\n",
    "from sklearn.model_selection import train_test_split\n",
    "from keras.models import Sequential\n",
    "from keras.layers import Dense\n",
    "from scikeras.wrappers import KerasRegressor\n",
    "from sklearn.preprocessing import StandardScaler\n",
    "from sklearn.model_selection import cross_val_score\n",
    "from sklearn.model_selection import KFold\n",
    "import sklearn.metrics as sk\n",
    "from sklearn.metrics import mean_squared_error\n",
    "from sklearn.metrics import r2_score"
   ]
  },
  {
   "cell_type": "code",
   "execution_count": null,
   "metadata": {
    "id": "Bo9TtlHeT4JH"
   },
   "outputs": [],
   "source": [
    "def baseline_model():\n",
    "\t# create model\n",
    "\tmodel = Sequential()\n",
    "\tmodel.add(Dense(15, input_dim=15, kernel_initializer='normal', activation='relu'))\n",
    "\tmodel.add(Dense(15, input_dim=15, kernel_initializer='normal', activation='relu'))\n",
    "\tmodel.add(Dense(2, kernel_initializer='normal'))\n",
    "\t\t# Compile model\n",
    "\tmodel.compile(loss='mean_squared_error', optimizer='adam')\n",
    "\treturn model"
   ]
  },
  {
   "cell_type": "code",
   "execution_count": null,
   "metadata": {
    "colab": {
     "base_uri": "https://localhost:8080/"
    },
    "executionInfo": {
     "elapsed": 19837,
     "status": "ok",
     "timestamp": 1651845511755,
     "user": {
      "displayName": "Gennaro Castaldo",
      "userId": "04055270946788705237"
     },
     "user_tz": -120
    },
    "id": "IOtJRNjekCI6",
    "outputId": "deb41e20-dd42-4b3d-ee61-453da7a7c682"
   },
   "outputs": [],
   "source": [
    "from google.colab import drive\n",
    "drive.mount('/content/drive')"
   ]
  },
  {
   "cell_type": "code",
   "execution_count": null,
   "metadata": {
    "executionInfo": {
     "elapsed": 2184,
     "status": "ok",
     "timestamp": 1651845519275,
     "user": {
      "displayName": "Gennaro Castaldo",
      "userId": "04055270946788705237"
     },
     "user_tz": -120
    },
    "id": "BgCG-V-GkLQZ"
   },
   "outputs": [],
   "source": [
    "df = pd.read_csv('/content/drive/MyDrive/Colab Notebooks/Scores/Dati/FINALE_2.csv', sep = ',')"
   ]
  },
  {
   "cell_type": "code",
   "execution_count": null,
   "metadata": {
    "colab": {
     "base_uri": "https://localhost:8080/"
    },
    "executionInfo": {
     "elapsed": 248,
     "status": "ok",
     "timestamp": 1651845531147,
     "user": {
      "displayName": "Gennaro Castaldo",
      "userId": "04055270946788705237"
     },
     "user_tz": -120
    },
    "id": "X9rZ0jmaqlXK",
    "outputId": "11acc734-d308-44fb-aa57-c62d0f597012"
   },
   "outputs": [],
   "source": [
    "print(len(df))"
   ]
  },
  {
   "cell_type": "code",
   "execution_count": null,
   "metadata": {
    "id": "KL9oknRjC9vZ"
   },
   "outputs": [],
   "source": [
    "x = pd.read_csv('/content/drive/MyDrive/Colab Notebooks/Scores/Dati/FINALE_X.csv', sep = ',')\n",
    "x = x.drop('Unnamed: 0', axis=1)\n",
    "\n",
    "x.head(1)"
   ]
  },
  {
   "cell_type": "code",
   "execution_count": null,
   "metadata": {
    "colab": {
     "base_uri": "https://localhost:8080/"
    },
    "executionInfo": {
     "elapsed": 280,
     "status": "ok",
     "timestamp": 1651570334203,
     "user": {
      "displayName": "Gennaro Castaldo",
      "userId": "04055270946788705237"
     },
     "user_tz": -120
    },
    "id": "ko1ll1VuEWcy",
    "outputId": "5bad1246-664e-4d6c-94f7-40173fbb09c0"
   },
   "outputs": [],
   "source": [
    "y = pd.read_csv('/content/drive/MyDrive/Colab Notebooks/Scores/Dati/FINALE_Y.csv', sep = ',')\n",
    "y = y.drop('Unnamed: 0', axis=1)\n",
    "\n",
    "y.head(1)\n",
    "scaler2 = MinMaxScaler()\n",
    "scaler2.fit_transform(y.values)"
   ]
  },
  {
   "cell_type": "code",
   "execution_count": null,
   "metadata": {
    "colab": {
     "base_uri": "https://localhost:8080/"
    },
    "executionInfo": {
     "elapsed": 354,
     "status": "ok",
     "timestamp": 1651569004280,
     "user": {
      "displayName": "Gennaro Castaldo",
      "userId": "04055270946788705237"
     },
     "user_tz": -120
    },
    "id": "fOCxsCILEEQ0",
    "outputId": "eb42d933-f253-4833-fbfe-7cdcb3247ef2"
   },
   "outputs": [],
   "source": [
    "print(x.shape)\n",
    "print(y.shape)"
   ]
  },
  {
   "cell_type": "code",
   "execution_count": null,
   "metadata": {
    "id": "Md8MUoZeLrL1"
   },
   "outputs": [],
   "source": [
    "x = x.iloc[:, 2:]"
   ]
  },
  {
   "cell_type": "code",
   "execution_count": null,
   "metadata": {
    "id": "BmSpdn6rtH0A"
   },
   "outputs": [],
   "source": [
    "x_train, x_test, y_train, y_test = train_test_split(x, y, test_size = 0.2, random_state = 42)"
   ]
  },
  {
   "cell_type": "code",
   "execution_count": null,
   "metadata": {
    "colab": {
     "base_uri": "https://localhost:8080/"
    },
    "executionInfo": {
     "elapsed": 270,
     "status": "ok",
     "timestamp": 1651569060365,
     "user": {
      "displayName": "Gennaro Castaldo",
      "userId": "04055270946788705237"
     },
     "user_tz": -120
    },
    "id": "JxkgxBdNI554",
    "outputId": "e1ec4353-b8f3-448b-8844-774887ef55b7"
   },
   "outputs": [],
   "source": [
    "print(type(x_train))\n",
    "y_train.isnull().values.any()"
   ]
  },
  {
   "cell_type": "code",
   "execution_count": null,
   "metadata": {
    "colab": {
     "base_uri": "https://localhost:8080/"
    },
    "executionInfo": {
     "elapsed": 211559,
     "status": "ok",
     "timestamp": 1651569273060,
     "user": {
      "displayName": "Gennaro Castaldo",
      "userId": "04055270946788705237"
     },
     "user_tz": -120
    },
    "id": "2dVYOr3LZdmY",
    "outputId": "6ba52eab-54a8-4475-f035-cbba780a7753"
   },
   "outputs": [],
   "source": [
    "model=baseline_model()\n",
    "estimator = KerasRegressor(model, epochs=10, batch_size=5, verbose=1)\n",
    "kfold = KFold(n_splits=10) \n",
    "results = cross_val_score(estimator, x_train, y_train, cv=kfold, verbose = 5, n_jobs=-1)\n",
    "print(\"Baseline: %.2f (%.2f) MSE\" % (results.mean(), results.std()))\n"
   ]
  },
  {
   "cell_type": "code",
   "execution_count": null,
   "metadata": {
    "colab": {
     "base_uri": "https://localhost:8080/"
    },
    "executionInfo": {
     "elapsed": 275,
     "status": "ok",
     "timestamp": 1651570097428,
     "user": {
      "displayName": "Gennaro Castaldo",
      "userId": "04055270946788705237"
     },
     "user_tz": -120
    },
    "id": "EsfEmldjH2Lo",
    "outputId": "0a3d572e-5023-4fc2-b227-7e39576e689c"
   },
   "outputs": [],
   "source": [
    "print((results))"
   ]
  },
  {
   "cell_type": "code",
   "execution_count": null,
   "metadata": {
    "colab": {
     "base_uri": "https://localhost:8080/"
    },
    "executionInfo": {
     "elapsed": 24387,
     "status": "ok",
     "timestamp": 1651570130048,
     "user": {
      "displayName": "Gennaro Castaldo",
      "userId": "04055270946788705237"
     },
     "user_tz": -120
    },
    "id": "OUESK81cMsEE",
    "outputId": "38500572-76c6-4eca-9104-2437c68d119e"
   },
   "outputs": [],
   "source": [
    "estimator.fit(x_train, y_train)\n",
    "preds = estimator.predict(x_test)\n"
   ]
  },
  {
   "cell_type": "code",
   "execution_count": null,
   "metadata": {
    "colab": {
     "base_uri": "https://localhost:8080/"
    },
    "executionInfo": {
     "elapsed": 5578,
     "status": "ok",
     "timestamp": 1651570237905,
     "user": {
      "displayName": "Gennaro Castaldo",
      "userId": "04055270946788705237"
     },
     "user_tz": -120
    },
    "id": "2njCkMj0O40_",
    "outputId": "73d578af-9282-4ab7-ca43-2eb25d1edac8"
   },
   "outputs": [],
   "source": [
    "r_sq = estimator.score(x_train, y_train)\n",
    "print('R^2:', r_sq)\n",
    "\n",
    "adj_r2 = 1 - (1-r_sq)*(len(y_train)-1)/(len(y_train)-x_train.shape[1]-1)\n",
    "print('adjusted R^2:', adj_r2)"
   ]
  },
  {
   "cell_type": "code",
   "execution_count": null,
   "metadata": {
    "colab": {
     "base_uri": "https://localhost:8080/"
    },
    "executionInfo": {
     "elapsed": 669,
     "status": "ok",
     "timestamp": 1651570340695,
     "user": {
      "displayName": "Gennaro Castaldo",
      "userId": "04055270946788705237"
     },
     "user_tz": -120
    },
    "id": "eHsFuR7OQyx1",
    "outputId": "02aeeebb-61ab-4c89-b0ab-3abd751bfab1"
   },
   "outputs": [],
   "source": [
    "y_pred = estimator.predict(x_test)\n",
    "mse = mean_squared_error(scaler2.inverse_transform(y_test), scaler2.inverse_transform(y_pred), multioutput = \"raw_values\")\n",
    "r2_scores = sk.r2_score(y_test, y_pred, multioutput = \"raw_values\")"
   ]
  },
  {
   "cell_type": "code",
   "execution_count": null,
   "metadata": {
    "colab": {
     "base_uri": "https://localhost:8080/"
    },
    "executionInfo": {
     "elapsed": 273,
     "status": "ok",
     "timestamp": 1651570345290,
     "user": {
      "displayName": "Gennaro Castaldo",
      "userId": "04055270946788705237"
     },
     "user_tz": -120
    },
    "id": "snIzRW5dlNJd",
    "outputId": "dbccfec1-01da-4e66-9490-244e95af2bed"
   },
   "outputs": [],
   "source": [
    "print (\"r2:\", r2_scores)\n",
    "print (\"mse: \", mse)"
   ]
  },
  {
   "cell_type": "code",
   "execution_count": null,
   "metadata": {
    "colab": {
     "base_uri": "https://localhost:8080/"
    },
    "executionInfo": {
     "elapsed": 2032,
     "status": "ok",
     "timestamp": 1651572645377,
     "user": {
      "displayName": "Gennaro Castaldo",
      "userId": "04055270946788705237"
     },
     "user_tz": -120
    },
    "id": "Ac_YOMWK4ur_",
    "outputId": "6c54ebae-6aab-4e6a-fd81-78df97183c5f"
   },
   "outputs": [],
   "source": [
    "estimator.model.save(\"/content/drive/MyDrive/Colab Notebooks/nn_model_ondataset2\")"
   ]
  },
  {
   "cell_type": "code",
   "execution_count": null,
   "metadata": {
    "id": "_9RHp74DPVNj"
   },
   "outputs": [],
   "source": [
    "!zip -r /content/sample_data/my_model.zip /content/sample_data/my_model"
   ]
  },
  {
   "cell_type": "code",
   "execution_count": null,
   "metadata": {
    "id": "rPCjmCuXP7pb"
   },
   "outputs": [],
   "source": [
    "from google.colab import files\n",
    "files.download('/content/sample_data/my_model.zip')"
   ]
  },
  {
   "cell_type": "markdown",
   "metadata": {
    "id": "-KJkJdub9VEp"
   },
   "source": []
  },
  {
   "cell_type": "code",
   "execution_count": null,
   "metadata": {
    "id": "i4YQpEzWc8tW"
   },
   "outputs": [],
   "source": [
    "!kill -9 -1"
   ]
  }
 ],
 "metadata": {
  "colab": {
   "authorship_tag": "ABX9TyPCK3h1XXwqwcmpYftajGGZ",
   "collapsed_sections": [],
   "name": "NN Taggati Scalati.ipynb",
   "provenance": [
    {
     "file_id": "12IBc0gMWQFblUQITiHJkMfja1-mmkg3K",
     "timestamp": 1645200288978
    }
   ]
  },
  "kernelspec": {
   "display_name": "Python 3",
   "language": "python",
   "name": "python3"
  },
  "language_info": {
   "codemirror_mode": {
    "name": "ipython",
    "version": 3
   },
   "file_extension": ".py",
   "mimetype": "text/x-python",
   "name": "python",
   "nbconvert_exporter": "python",
   "pygments_lexer": "ipython3",
   "version": "3.8.5"
  }
 },
 "nbformat": 4,
 "nbformat_minor": 1
}
