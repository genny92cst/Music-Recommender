{
 "cells": [
  {
   "cell_type": "code",
   "execution_count": null,
   "metadata": {
    "colab": {
     "base_uri": "https://localhost:8080/"
    },
    "executionInfo": {
     "elapsed": 19364,
     "status": "ok",
     "timestamp": 1651565932040,
     "user": {
      "displayName": "Gennaro Castaldo",
      "userId": "04055270946788705237"
     },
     "user_tz": -120
    },
    "id": "dePX-aSTWBck",
    "outputId": "2badcd54-c377-4036-d91c-3a7278f99c0b"
   },
   "outputs": [],
   "source": [
    "from google.colab import drive\n",
    "drive.mount('/content/drive')"
   ]
  },
  {
   "cell_type": "code",
   "execution_count": null,
   "metadata": {
    "id": "YY2Q2ql9NFHc"
   },
   "outputs": [],
   "source": [
    "import numpy as np\n",
    "import pandas as pd\n",
    "import matplotlib.pyplot as plt\n",
    "import sklearn.metrics as sk\n",
    "from sklearn.model_selection import train_test_split\n",
    "from sklearn.preprocessing import StandardScaler\n",
    "from sklearn.linear_model import LinearRegression"
   ]
  },
  {
   "cell_type": "code",
   "execution_count": null,
   "metadata": {
    "executionInfo": {
     "elapsed": 224,
     "status": "ok",
     "timestamp": 1651568740734,
     "user": {
      "displayName": "Gennaro Castaldo",
      "userId": "04055270946788705237"
     },
     "user_tz": -120
    },
    "id": "BgCG-V-GkLQZ"
   },
   "outputs": [],
   "source": [
    "df = pd.read_csv('/content/drive/MyDrive/Colab Notebooks/Dati/FINALE.csv', sep = ',')"
   ]
  },
  {
   "cell_type": "code",
   "execution_count": null,
   "metadata": {
    "executionInfo": {
     "elapsed": 304,
     "status": "ok",
     "timestamp": 1651568742807,
     "user": {
      "displayName": "Gennaro Castaldo",
      "userId": "04055270946788705237"
     },
     "user_tz": -120
    },
    "id": "Xqe7PItBQRzq"
   },
   "outputs": [],
   "source": [
    "pol = df.pop(\"polarity_value\")\n",
    "intr = df.pop(\"introspection\")\n",
    "temp = df.pop(\"temper\")\n",
    "att = df.pop(\"attitude\")\n",
    "sens = df.pop(\"sensitivity\")\n",
    "\n",
    "id = df.pop(\"id\")\n",
    "\n",
    "\n",
    "# insert column with insert(location, column_name, column_value)\n",
    "\n",
    "df.insert(11, \"introspection\", intr)\n",
    "df.insert(12, \"temper\", temp)\n",
    "df.insert(13, \"attitude\", att)\n",
    "df.insert(14, \"sensitivity\", sens)\n",
    "df.insert(15, \"polarity_value\", pol)\n",
    "df.insert(0, \"spotify_id\", id)"
   ]
  },
  {
   "cell_type": "code",
   "execution_count": null,
   "metadata": {
    "executionInfo": {
     "elapsed": 306,
     "status": "ok",
     "timestamp": 1651568390731,
     "user": {
      "displayName": "Gennaro Castaldo",
      "userId": "04055270946788705237"
     },
     "user_tz": -120
    },
    "id": "EsY4Xx4zOyPv"
   },
   "outputs": [],
   "source": [
    "df = df.drop(1925, axis=0)"
   ]
  },
  {
   "cell_type": "code",
   "execution_count": null,
   "metadata": {
    "colab": {
     "base_uri": "https://localhost:8080/"
    },
    "executionInfo": {
     "elapsed": 224,
     "status": "ok",
     "timestamp": 1651568862530,
     "user": {
      "displayName": "Gennaro Castaldo",
      "userId": "04055270946788705237"
     },
     "user_tz": -120
    },
    "id": "3u7KqhEDKSh6",
    "outputId": "72da78c7-ce2c-4c8e-a782-06c7fae8e73d"
   },
   "outputs": [],
   "source": [
    "df.isnull().sum().sum()"
   ]
  },
  {
   "cell_type": "code",
   "execution_count": null,
   "metadata": {
    "executionInfo": {
     "elapsed": 235,
     "status": "ok",
     "timestamp": 1651568750032,
     "user": {
      "displayName": "Gennaro Castaldo",
      "userId": "04055270946788705237"
     },
     "user_tz": -120
    },
    "id": "KunMPlxdKAUK"
   },
   "outputs": [],
   "source": [
    "nans = df[df.isna().any(axis=1)]"
   ]
  },
  {
   "cell_type": "code",
   "execution_count": null,
   "metadata": {
    "executionInfo": {
     "elapsed": 376,
     "status": "ok",
     "timestamp": 1651568857594,
     "user": {
      "displayName": "Gennaro Castaldo",
      "userId": "04055270946788705237"
     },
     "user_tz": -120
    },
    "id": "uj5f62sjLKIC"
   },
   "outputs": [],
   "source": [
    "df = df.drop(nans.index, axis=0)"
   ]
  },
  {
   "cell_type": "code",
   "execution_count": null,
   "metadata": {
    "executionInfo": {
     "elapsed": 602,
     "status": "ok",
     "timestamp": 1651568874426,
     "user": {
      "displayName": "Gennaro Castaldo",
      "userId": "04055270946788705237"
     },
     "user_tz": -120
    },
    "id": "YTWNXSjbOXfK"
   },
   "outputs": [],
   "source": [
    "df.to_csv('/content/drive/MyDrive/Colab Notebooks/Scores/Dati/FINALE_2.csv')"
   ]
  },
  {
   "cell_type": "code",
   "execution_count": null,
   "metadata": {
    "executionInfo": {
     "elapsed": 233,
     "status": "ok",
     "timestamp": 1651568876256,
     "user": {
      "displayName": "Gennaro Castaldo",
      "userId": "04055270946788705237"
     },
     "user_tz": -120
    },
    "id": "hwUC9wWxOeko"
   },
   "outputs": [],
   "source": [
    "df = pd.read_csv('/content/drive/MyDrive/Colab Notebooks/Scores/Dati/FINALE_2.csv', sep = ',')\n",
    "df = df.drop('Unnamed: 0', axis=1)"
   ]
  },
  {
   "cell_type": "code",
   "execution_count": null,
   "metadata": {
    "executionInfo": {
     "elapsed": 600,
     "status": "ok",
     "timestamp": 1651568878198,
     "user": {
      "displayName": "Gennaro Castaldo",
      "userId": "04055270946788705237"
     },
     "user_tz": -120
    },
    "id": "H4HM6oePOiog"
   },
   "outputs": [],
   "source": [
    "x = df.iloc[: , 1:17]\n",
    "cols = x.columns\n",
    "#print(cols)\n",
    "x[cols].replace(',','.', regex = True)\n",
    "x[cols].apply(pd.to_numeric,downcast='float', errors='raise')\n",
    "#x[1:] = x[1:].astype('float64')\n",
    "x = x.infer_objects()\n",
    "#print(x.dtypes)\n",
    "ids = df.iloc[:, :1]\n",
    "\n",
    "scaler = StandardScaler()\n",
    "\n",
    "x = pd.DataFrame(scaler.fit_transform(x.values), columns=x.columns, index=x.index)\n",
    "x.insert(0, \"spotify_id\", ids.values)\n",
    "\n",
    "\n",
    "x.to_csv('/content/drive/MyDrive/Colab Notebooks/Scores/Dati/FINALE_X.csv')\n"
   ]
  },
  {
   "cell_type": "code",
   "execution_count": null,
   "metadata": {
    "colab": {
     "base_uri": "https://localhost:8080/"
    },
    "executionInfo": {
     "elapsed": 8,
     "status": "ok",
     "timestamp": 1651568884274,
     "user": {
      "displayName": "Gennaro Castaldo",
      "userId": "04055270946788705237"
     },
     "user_tz": -120
    },
    "id": "lPxvoaESPe-o",
    "outputId": "aa0d6b93-2656-48e8-9188-b92f9ef755d5"
   },
   "outputs": [],
   "source": [
    "from sklearn.preprocessing import MinMaxScaler\n",
    "scaler2 = MinMaxScaler()\n",
    "y = df.iloc[: , -3:-1]\n",
    "cols = y.columns\n",
    "y[cols] = y[cols].replace(',','.', regex = True)\n",
    "\n",
    "y[cols] = y[cols].apply(pd.to_numeric,downcast='float', errors='raise')\n",
    "\n",
    "y = pd.DataFrame(scaler2.fit_transform(y.values), columns=y.columns, index=y.index)\n",
    "\n",
    "print(y.head(5))\n",
    "print(y.dtypes)\n",
    "\n",
    "y.to_csv('/content/drive/MyDrive/Colab Notebooks/Scores/Dati/FINALE_Y.csv')"
   ]
  }
 ],
 "metadata": {
  "colab": {
   "authorship_tag": "ABX9TyNxeU8DmyfKTccEK1h8LGoJ",
   "collapsed_sections": [],
   "name": "Adjust dataset.ipynb",
   "provenance": []
  },
  "kernelspec": {
   "display_name": "Python 3",
   "language": "python",
   "name": "python3"
  },
  "language_info": {
   "codemirror_mode": {
    "name": "ipython",
    "version": 3
   },
   "file_extension": ".py",
   "mimetype": "text/x-python",
   "name": "python",
   "nbconvert_exporter": "python",
   "pygments_lexer": "ipython3",
   "version": "3.8.5"
  }
 },
 "nbformat": 4,
 "nbformat_minor": 1
}
