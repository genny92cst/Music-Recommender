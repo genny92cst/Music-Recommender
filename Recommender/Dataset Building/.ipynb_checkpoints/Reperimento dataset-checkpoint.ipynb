{
 "cells": [
  {
   "cell_type": "code",
   "execution_count": null,
   "metadata": {
    "colab": {
     "base_uri": "https://localhost:8080/"
    },
    "executionInfo": {
     "elapsed": 23153,
     "status": "ok",
     "timestamp": 1651135555691,
     "user": {
      "displayName": "Gennaro Castaldo",
      "userId": "04055270946788705237"
     },
     "user_tz": -120
    },
    "id": "yWGCoNIa0JLq",
    "outputId": "0dd8ea9b-5232-4a1d-867d-a3f963ee00e1"
   },
   "outputs": [
    {
     "name": "stdout",
     "output_type": "stream",
     "text": [
      "Mounted at /content/drive\n"
     ]
    }
   ],
   "source": [
    "from google.colab import drive\n",
    "drive.mount('/content/drive')"
   ]
  },
  {
   "cell_type": "code",
   "execution_count": null,
   "metadata": {
    "id": "yfVeB4lz1Rp3"
   },
   "outputs": [],
   "source": [
    "import numpy as np\n",
    "import pandas as pd"
   ]
  },
  {
   "cell_type": "code",
   "execution_count": null,
   "metadata": {
    "id": "NRMsCJmt1F0p"
   },
   "outputs": [],
   "source": [
    "df = pd.read_csv('/content/drive/MyDrive/Colab Notebooks/Dati/songs_final.csv', sep = ';')\n"
   ]
  },
  {
   "cell_type": "code",
   "execution_count": null,
   "metadata": {
    "id": "TvrFPkEa6xvK"
   },
   "outputs": [],
   "source": [
    "print((df))"
   ]
  },
  {
   "cell_type": "code",
   "execution_count": null,
   "metadata": {
    "id": "b--_vkS93JDi"
   },
   "outputs": [],
   "source": [
    "import sys\n",
    "sys.path.append('/content/drive/MyDrive/Colab Notebooks/1MS Dataset')\n",
    "import spotify_client"
   ]
  },
  {
   "cell_type": "code",
   "execution_count": null,
   "metadata": {
    "id": "XQDg_5eRMUd2"
   },
   "outputs": [],
   "source": [
    "df.iloc[: , 5:7] = df.iloc[: , 5:7].replace(',','.', regex = True)"
   ]
  },
  {
   "cell_type": "code",
   "execution_count": null,
   "metadata": {
    "colab": {
     "background_save": true
    },
    "id": "dNQ_l1GvCVfA"
   },
   "outputs": [],
   "source": [
    "import time\n",
    "\n",
    "client_id = \"f19b8b75f3584592ad832503aa25d48a\"\n",
    "client_secret = \"bcafde4092ef4ccab735efd69c936770\"\n",
    "\n",
    "spotify = spotify_client.SpotifyAPI(client_id, client_secret)\n",
    "\n",
    "\n",
    "spotify_id = []\n",
    "tracce = []\n",
    "tracks_features = []\n",
    "\n",
    "id_non_trovati = 0\n",
    "diz = {}\n",
    "for i in range(len(df)):\n",
    "  time.sleep(0.01)\n",
    "  art = df.iloc[i]['artist_name']\n",
    "  tit = df.iloc[i]['title']\n",
    "  diz[\"artist\"] = art\n",
    "  diz[\"track\"] = tit\n",
    "  tracce.append([art, tit, []])\n",
    "\n",
    "  ricerca = spotify.search(diz, search_type=\"track\")\n",
    "  print(ricerca)\n",
    "  if  len(ricerca['tracks']['items'])>0:\n",
    "    id = ricerca['tracks']['items'][0]['id']\n",
    "    #print(id)\n",
    "    feature = spotify.get_audio_features(lookup_id = id)\n",
    "    tags = []\n",
    "    tag = get_track_top_tags(art, tit)\n",
    "    #print((tag))\n",
    "    ran=20\n",
    "    if 'error' in tag:\n",
    "      feature['tags'] = df.iloc[i]['tags']     \n",
    "    else: \n",
    "      if len(tag['toptags']['tag'])<20:\n",
    "        ran = len(tag['toptags']['tag'])\n",
    "      for k in range(ran):\n",
    "        tags.append(tag['toptags']['tag'][k]['name'])\n",
    "      feature['tags'] = tags\n",
    "      feature['valence_tags'] = df.iloc[i]['valence']\n",
    "      feature['arousal_tags'] = df.iloc[i]['arousal']\n",
    "      feature['song_id'] = df.iloc[i]['song_id']\n",
    "    tracks_features.append(feature)\n",
    "  else: id_non_trovati=+1\n"
   ]
  },
  {
   "cell_type": "code",
   "execution_count": null,
   "metadata": {
    "id": "L8YB2c73J4oI"
   },
   "outputs": [],
   "source": [
    "print(id_non_trovati)"
   ]
  },
  {
   "cell_type": "markdown",
   "metadata": {
    "id": "Q3NTjgk2y28d"
   },
   "source": [
    "#Feature Acustiche"
   ]
  },
  {
   "cell_type": "code",
   "execution_count": null,
   "metadata": {
    "cellView": "code",
    "id": "cZDXjbx7wPlY"
   },
   "outputs": [],
   "source": [
    "import csv\n",
    "\n",
    "\n",
    "with open('/content/drive/MyDrive/Colab Notebooks/Dati/test.csv', 'w') as csvfile:\n",
    "   writer = csv.DictWriter(csvfile, fieldnames = feature)\n",
    "   writer.writeheader()\n",
    "   writer.writerows(tracks_features)"
   ]
  },
  {
   "cell_type": "markdown",
   "metadata": {
    "id": "rGu4VceAy6xC"
   },
   "source": [
    "#Tags"
   ]
  },
  {
   "cell_type": "code",
   "execution_count": null,
   "metadata": {
    "id": "jjmtHl1FzAAf"
   },
   "outputs": [],
   "source": [
    "import requests as req\n",
    "from urllib.parse import urlencode\n",
    "\n",
    "def get_track_top_tags(artista,track):\n",
    "  query = {\n",
    "      'method' : 'track.gettoptags',\n",
    "      'api_key' : 'dc2501f7c6aaa3c6dcfb338aaa33de77',\n",
    "      'artist' : artista,\n",
    "      'track' : track,     \n",
    "      'autocorrect' : '1',\n",
    "      'format' : 'json'\n",
    "  }\n",
    "  query_params = urlencode(query)\n",
    "  endpoint = 'http://ws.audioscrobbler.com/2.0/'\n",
    "  lookup_url = f\"{endpoint}?{query_params}\"\n",
    "  #print(lookup_url)\n",
    "  r = req.get(lookup_url)\n",
    "  dicti = dict()\n",
    "  if (r.status_code == 200):\n",
    "      dicti = r.json()\n",
    "  return dicti"
   ]
  },
  {
   "cell_type": "code",
   "execution_count": null,
   "metadata": {
    "colab": {
     "base_uri": "https://localhost:8080/"
    },
    "executionInfo": {
     "elapsed": 57707,
     "status": "ok",
     "timestamp": 1651048328347,
     "user": {
      "displayName": "Gennaro Castaldo",
      "userId": "04055270946788705237"
     },
     "user_tz": -120
    },
    "id": "ygAQBCr106Yj",
    "outputId": "282fc89b-a405-4548-94d0-6b4e10d47e8b"
   },
   "outputs": [
    {
     "name": "stdout",
     "output_type": "stream",
     "text": [
      "Collecting senticnet\n",
      "  Downloading senticnet-1.6-py3-none-any.whl (51.9 MB)\n",
      "\u001b[K     |████████████████████████████████| 51.9 MB 1.3 MB/s \n",
      "\u001b[?25hInstalling collected packages: senticnet\n",
      "Successfully installed senticnet-1.6\n"
     ]
    }
   ],
   "source": [
    "pip install senticnet"
   ]
  },
  {
   "cell_type": "code",
   "execution_count": null,
   "metadata": {
    "id": "WXNIl6Cw3RUk"
   },
   "outputs": [],
   "source": [
    "from senticnet.senticnet import SenticNet \n",
    "\n",
    "sn = SenticNet()\n",
    "concept = sn.concept(\"anger\")"
   ]
  },
  {
   "cell_type": "code",
   "execution_count": null,
   "metadata": {
    "id": "mW5cyfEX3-TN"
   },
   "outputs": [],
   "source": [
    "from nltk.stem import PorterStemmer\n",
    "\n",
    "ps = PorterStemmer()\n",
    "dic_stemmed = {}\n",
    "\n",
    "for key in sn.data:\n",
    "  key_stemmed = ps.stem(key)\n",
    "  dic_stemmed[key_stemmed]=sn.concept(key)"
   ]
  },
  {
   "cell_type": "code",
   "execution_count": null,
   "metadata": {
    "id": "i63kiaLw8TCQ"
   },
   "outputs": [],
   "source": [
    "def convert(stringa):                                \n",
    "    stringa = stringa[1:-1]                          \n",
    "    l = stringa.split(',')                           \n",
    "    for temp in range(len(l)):                       \n",
    "        l[temp] = l[temp].strip()                    \n",
    "        l[temp] = l[temp].replace(\"'\", \"\")           \n",
    "        l[temp] = l[temp].replace(\" \", \"_\")          \n",
    "    return l                                         \n",
    "\n",
    "\n",
    "def get_concept(string, sn):\n",
    "    \n",
    "    concept_infos = {}\n",
    "    if string in sn.data:\n",
    "      concept_infos = sn.concept(string)\n",
    "    else:\n",
    "        ps = PorterStemmer()\n",
    "        string_stemmed = ps.stem(string)\n",
    "        if string_stemmed in dic_stemmed:\n",
    "          concept_infos = dic_stemmed[string_stemmed]\n",
    "    return concept_infos"
   ]
  },
  {
   "cell_type": "code",
   "execution_count": null,
   "metadata": {
    "id": "tC0roVgh8hcT"
   },
   "outputs": [],
   "source": [
    "dataset = pd.read_csv(\"/content/drive/MyDrive/Colab Notebooks/Dati/test.csv\", delimiter=\",\")\n"
   ]
  },
  {
   "cell_type": "code",
   "execution_count": null,
   "metadata": {
    "id": "DHb-C1lj9PpW"
   },
   "outputs": [],
   "source": [
    "from senticnet.senticnet import SenticNet \n",
    "\n",
    "\n",
    "sn = SenticNet()\n",
    "\n",
    "size = len(dataset)                                                                                  \n",
    "for i in range(size):                                                                                \n",
    "   print (str(i)+\" of \"+str(size))                                                                   \n",
    "   tags = dataset['tags'][i]                                                                         \n",
    "   tag = convert(tags)                                                                               \n",
    "                                                                                                     \n",
    "   polarity_value = 0                                                                                \n",
    "   introspection = 0                                                                                 \n",
    "   temper = 0                                                                                        \n",
    "   attitude = 0                                                                                      \n",
    "   sensitivity = 0                                                                                   \n",
    "                                                                                                     \n",
    "   num_tag = len(tag)                                                                                \n",
    "   trovati = 0                                                                                       \n",
    "   non_trovati = 0                                                                                   \n",
    "   for elem in tag:                                                                                  \n",
    "       #print(elem)                                                                                   \n",
    "       concept_info = get_concept(elem, sn)                                                          \n",
    "       if \"sentics\" in concept_info:                                                                 \n",
    "           polarity_value += float(concept_info[\"polarity_value\"])                                   \n",
    "           introspection += float(concept_info[\"sentics\"][\"introspection\"])                          \n",
    "           temper += float(concept_info[\"sentics\"][\"temper\"])                                        \n",
    "           attitude += float(concept_info[\"sentics\"][\"attitude\"])                                    \n",
    "           sensitivity += float(concept_info[\"sentics\"][\"sensitivity\"])                              \n",
    "           trovati += 1                                                                              \n",
    "       else:                                                                                         \n",
    "         non_trovati += 1                                                                            \n",
    "         num_tag -= 1                                                                                \n",
    "   if num_tag <1: num_tag=1                                                                          \n",
    "   polarity_value = polarity_value / num_tag                                                         \n",
    "   introspection = introspection / num_tag                                                           \n",
    "   temper = temper / num_tag                                                                         \n",
    "   attitude = attitude / num_tag                                                                     \n",
    "   sensitivity = sensitivity / num_tag                                                               \n",
    "                                                                                                     \n",
    "   dataset.at[i, 'polarity_value'] = polarity_value                                                  \n",
    "   dataset.at[i, 'introspection'] = introspection                                                    \n",
    "   dataset.at[i, 'temper'] = temper                                                                  \n",
    "   dataset.at[i, 'attitude'] = attitude                                                              \n",
    "   dataset.at[i, 'sensitivity'] = sensitivity                                                        \n",
    "   print(str(i)+\" of \"+str(size)+': trovati '+str(trovati)+ ', non trovati '+ str(non_trovati))      \n",
    "   print()                                                                                           \n",
    "                                                                                                     \n",
    "#print(dataset)                                                                                      \n",
    "                                                                                                     \n",
    "dataset.to_csv('dataset_taggato2_0.csv', index=False)                                                  \n",
    "                                                                                                     "
   ]
  },
  {
   "cell_type": "code",
   "execution_count": null,
   "metadata": {
    "id": "BmRfqY-SJNC1"
   },
   "outputs": [],
   "source": [
    "dataset.to_csv('/content/drive/MyDrive/Colab Notebooks/Dati/dataset_taggato2_final.csv', index=False) "
   ]
  }
 ],
 "metadata": {
  "colab": {
   "authorship_tag": "ABX9TyNUUhkz9X3iM9tmSGIjvI4X",
   "collapsed_sections": [],
   "name": "Reperimento dataset.ipynb",
   "provenance": []
  },
  "kernelspec": {
   "display_name": "Python 3",
   "language": "python",
   "name": "python3"
  },
  "language_info": {
   "codemirror_mode": {
    "name": "ipython",
    "version": 3
   },
   "file_extension": ".py",
   "mimetype": "text/x-python",
   "name": "python",
   "nbconvert_exporter": "python",
   "pygments_lexer": "ipython3",
   "version": "3.8.5"
  }
 },
 "nbformat": 4,
 "nbformat_minor": 1
}
